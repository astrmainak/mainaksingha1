{
 "cells": [
  {
   "cell_type": "code",
   "execution_count": 1,
   "metadata": {},
   "outputs": [
    {
     "name": "stderr",
     "output_type": "stream",
     "text": [
      "/home/mainak/anaconda2/lib/python2.7/site-packages/h5py/__init__.py:34: FutureWarning: Conversion of the second argument of issubdtype from `float` to `np.floating` is deprecated. In future, it will be treated as `np.float64 == np.dtype(float).type`.\n",
      "  from ._conv import register_converters as _register_converters\n",
      "/home/mainak/.local/lib/python2.7/site-packages/pyneb/utils/manage_atomic_data.py:528: VisibleDeprecationWarning: Reading unicode strings without specifying the encoding argument is deprecated. Set the encoding, use None for the system default.\n",
      "  gsconf = np.genfromtxt(execution_path('../atomic_data/levels/gsconfs.dat'), names=['atom', 'gsconf'], dtype=None)\n"
     ]
    }
   ],
   "source": [
    "import numpy as np\n",
    "import matplotlib.pyplot as plt\n",
    "import astropy.io.fits as fits\n",
    "from scipy.optimize import leastsq\n",
    "from scipy import ndimage\n",
    "from func import *\n",
    "from astropy.table import Table, hstack\n",
    "import os\n",
    "import glob\n",
    "from astropy.table import Table, vstack, join\n",
    "import pandas as pd"
   ]
  },
  {
   "cell_type": "code",
   "execution_count": 2,
   "metadata": {
    "collapsed": true
   },
   "outputs": [],
   "source": [
    "def source_tab(obj,z,d_a):\n",
    "    a1 = np.array(['%s'%(obj)])\n",
    "    a2 = np.array([z])\n",
    "    a3 = np.array([d_a])\n",
    "    hdu = fits.BinTableHDU.from_columns([fits.Column(name='Source', format='20A', array=a1),\n",
    "          fits.Column(name='z',format='E',array=a2),fits.Column(name='d_a',format='E',array=a3)])\n",
    "    hdu.writeto('Source_name_%s.fits'%(obj),overwrite=True) \n",
    "    \n",
    "def source_name_tab(obj):\n",
    "    a1 = np.array(['%s'%(obj)])\n",
    "    hdu = fits.BinTableHDU.from_columns([fits.Column(name='Source', format='20A', array=a1)])\n",
    "    hdu.writeto('source_%s.fits'%(obj),overwrite=True)  \n",
    "\n",
    "def AGN_energetics_table(obj):\n",
    "    t1 = Table.read('source_%s.fits'%(obj),format='fits')\n",
    "    t2 = Table.read('%s_energetics_table.fits'%(obj),format='fits')\n",
    "    new = hstack([t1, t2])\n",
    "    new.write('%s_energetics.fits'%(obj),overwrite=True)"
   ]
  },
  {
   "cell_type": "code",
   "execution_count": 3,
   "metadata": {
    "collapsed": true
   },
   "outputs": [],
   "source": [
    "def algorithm_script(obj,z,d_a,prefix_path_cube=\"/home/mainak/xdata/ftp.hidrive.strato.com/users/login-carsftp\"):\n",
    "    source_tab(obj,z,d_a)\n",
    "    source_name_tab(obj)\n",
    "    AGN_energetics_table(obj)"
   ]
  },
  {
   "cell_type": "code",
   "execution_count": 4,
   "metadata": {},
   "outputs": [],
   "source": [
    "z = {\"HE0040-1105\":0.041692,\"HE0108-4743\":0.02392,\"HE0119-0118\":0.054341\n",
    "     ,\"HE0224-2834\":0.059800,\"HE0253-1641\":0.031588,\"HE0433-1028\":0.035550}\n",
    "\n",
    "d_a = {\"HE0040-1105\":170.9,\"HE0108-4743\":100.1,\"HE0119-0118\":218.1\n",
    "       ,\"HE0224-2834\":238.5,\"HE0253-1641\":130.2,\"HE0433-1028\":145.9}\n",
    "\n",
    "#z_remaining = {\"HE2128-0221\":0.05248,\"HE1248-1356\":0.01465}\n",
    "\n",
    "objs = z.keys()\n",
    "\n",
    "for obj in objs:\n",
    "    algorithm_script(obj,z[obj],d_a[obj])"
   ]
  },
  {
   "cell_type": "code",
   "execution_count": 5,
   "metadata": {
    "collapsed": true
   },
   "outputs": [],
   "source": [
    "def master_table(input_filename,output_filename):\n",
    "    infiles = sorted(glob.glob(input_filename)) # './*source.fits'\n",
    "    infiles\n",
    "    tabledict = {}\n",
    "\n",
    "    for i, file in enumerate(infiles):\n",
    "        hdulist = fits.open(file)\n",
    "        bintab = hdulist[1].data\n",
    "        table = Table(bintab)\n",
    "        name = table['Source'][0]  \n",
    "        tabledict[name] = table\n",
    "\n",
    "    tab = vstack(list(tabledict.values()))\n",
    "    df = tab.to_pandas()\n",
    "    df = df.sort_values(by='Source', ascending=True)\n",
    "    dtab = Table.from_pandas(df)\n",
    "    dtab.write(output_filename, format='fits', overwrite=True)"
   ]
  },
  {
   "cell_type": "code",
   "execution_count": 6,
   "metadata": {
    "collapsed": true
   },
   "outputs": [],
   "source": [
    "master_table(input_filename='./*energetics.fits',output_filename='outflow_energetics_table.fits')"
   ]
  },
  {
   "cell_type": "code",
   "execution_count": null,
   "metadata": {
    "collapsed": true
   },
   "outputs": [],
   "source": []
  }
 ],
 "metadata": {
  "kernelspec": {
   "display_name": "Python 3",
   "language": "python",
   "name": "python3"
  },
  "language_info": {
   "codemirror_mode": {
    "name": "ipython",
    "version": 3
   },
   "file_extension": ".py",
   "mimetype": "text/x-python",
   "name": "python",
   "nbconvert_exporter": "python",
   "pygments_lexer": "ipython3",
   "version": "3.7.3"
  }
 },
 "nbformat": 4,
 "nbformat_minor": 2
}
