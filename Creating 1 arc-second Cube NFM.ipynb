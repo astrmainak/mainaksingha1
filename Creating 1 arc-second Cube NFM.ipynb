{
 "cells": [
  {
   "cell_type": "code",
   "execution_count": 1,
   "metadata": {},
   "outputs": [],
   "source": [
    "import numpy as np\n",
    "import matplotlib.pyplot as plt\n",
    "import astropy.io.fits as fits\n",
    "from scipy.optimize import leastsq\n",
    "from numpy import exp\n",
    "from scipy import ndimage\n",
    "from func import *"
   ]
  },
  {
   "cell_type": "code",
   "execution_count": 2,
   "metadata": {},
   "outputs": [],
   "source": [
    "def scale_factor_spectrum(z,data,error,wo_wave):\n",
    "    k = 1+z\n",
    "    select1 = (wo_wave>6750*k) & (wo_wave<6800*k)\n",
    "    cont_dat = data[select1]\n",
    "    cont_err = error[select1]\n",
    "    error_maincube = np.std(cont_dat)\n",
    "    error_errcube = np.mean(cont_err)\n",
    "    fact = error_maincube/error_errcube\n",
    "    return fact"
   ]
  },
  {
   "cell_type": "code",
   "execution_count": 3,
   "metadata": {},
   "outputs": [],
   "source": [
    "def create_3_arcsec_minicube(wo_cube,wo_err,wo_header,brightest_pixel_x,brightest_pixel_y,box_size):\n",
    "    mini_cube_data = wo_cube[:,brightest_pixel_y-box_size:brightest_pixel_y+box_size+1,brightest_pixel_x-box_size:brightest_pixel_x+box_size+1]\n",
    "    mini_cube_err = wo_err[:,brightest_pixel_y-box_size:brightest_pixel_y+box_size+1,brightest_pixel_x-box_size:brightest_pixel_x+box_size+1]\n",
    "    wo_header['CRPIX1'] = wo_header['CRPIX1'] - (brightest_pixel_x-box_size)\n",
    "    wo_header['CRPIX2'] = wo_header['CRPIX2'] - (brightest_pixel_y-box_size)\n",
    "    return mini_cube_data, mini_cube_err,wo_header"
   ]
  },
  {
   "cell_type": "code",
   "execution_count": 4,
   "metadata": {},
   "outputs": [],
   "source": [
    "def scale_factor_spectrum(z,data,error,wo_wave):\n",
    "    k = 1+z\n",
    "    select1 = (wo_wave>6750*k) & (wo_wave<6850*k)\n",
    "    cont_dat = data[select1]\n",
    "    cont_err = error[select1]\n",
    "    error_maincube = np.std(cont_dat)\n",
    "    error_errcube = np.mean(cont_err)\n",
    "    fact = error_maincube/error_errcube\n",
    "    return fact\n",
    "\n",
    "def emp_fact(z,mini_cube,mini_err,wo_wave):\n",
    "    true_err = np.zeros((np.shape(wo_wave)[0],mini_cube.shape[1],mini_cube.shape[2]),dtype=np.float32)\n",
    "    for i in range(mini_cube.shape[1]):\n",
    "        for j in range(mini_cube.shape[2]):\n",
    "            k = 1+z\n",
    "            select1 = (wo_wave>6750*k) & (wo_wave<6850*k)\n",
    "   \n",
    "            (spectrum,error) = (mini_cube[:,i,j],mini_err[:,i,j])  \n",
    "            (spec,err) = (spectrum[select1],error[select1])\n",
    "            (error_maincube,error_errcube) = (np.std(spec),np.mean(err))\n",
    "            fact = error_maincube/error_errcube\n",
    "            new_err = fact*error\n",
    "            true_err[:,i,j] = new_err \n",
    "    return true_err\n",
    "    "
   ]
  },
  {
   "cell_type": "code",
   "execution_count": 7,
   "metadata": {},
   "outputs": [],
   "source": [
    "def algorithmic_script(obj,z,box_size=60,min_wave=4730,max_wave=5120,destination_path_cube=\"/media/mainak/Seagate/MUSE NFM\"):\n",
    "    (wo_cube,wo_err,wo_wave,wo_header) = loadCube('%s/%s/%s_NFM.final.fits'%(destination_path_cube,obj,obj)) \n",
    "    #(cont_cube,cont_err,cont_wave,cont_header) = loadCube('%s/MUSE/%s/fitting/full/%s.cont_model.fits'%(prefix_path_cube,obj,obj))\n",
    "    #[x0,y0] = [166,165]#agn_location(obj)\n",
    "    [brightest_pixel_x,brightest_pixel_y] = [166,165]\n",
    "    sampling_rate = 0.025#sampling_size(cont_cube)\n",
    "    \n",
    "    (mini_cube,mini_err,wo_header)=create_3_arcsec_minicube(wo_cube,wo_err,wo_header,brightest_pixel_x,brightest_pixel_y,box_size=60)\n",
    "    true_err = emp_fact(z,mini_cube,mini_err,wo_wave)\n",
    "    k = 1+z\n",
    "    select = (wo_wave > min_wave*k) & (wo_wave < max_wave*k)  \n",
    "    mini_header = wo_header\n",
    "    mini_wave = wo_wave[select]\n",
    "    mini_cube_Hb = mini_cube[select]\n",
    "    mini_err = true_err[select]\n",
    "    \n",
    "    store_cube('%s/%s/%s.1_arcsec_minicube.fits'%(destination_path_cube,obj,obj),mini_cube_Hb,mini_wave,mini_err,mini_header)\n",
    "    print ('%s'%(obj))"
   ]
  },
  {
   "cell_type": "code",
   "execution_count": 8,
   "metadata": {},
   "outputs": [
    {
     "name": "stdout",
     "output_type": "stream",
     "text": [
      "HE1029-1401\n"
     ]
    }
   ],
   "source": [
    "z = {\"HE1029-1401\":0.08582}\n",
    "\n",
    "objs = z.keys()\n",
    "\n",
    "\n",
    "for obj in objs:\n",
    "    algorithmic_script(obj,z[obj])              \n"
   ]
  },
  {
   "cell_type": "code",
   "execution_count": 10,
   "metadata": {},
   "outputs": [
    {
     "name": "stdout",
     "output_type": "stream",
     "text": [
      "HE0021-1810\n",
      "HE0021-1819\n",
      "HE0040-1105\n",
      "HE0108-4743\n",
      "HE0114-0015\n",
      "HE0119-0118\n",
      "HE0212-0059\n",
      "HE0224-2834\n",
      "HE0227-0913\n",
      "HE0232-0900\n",
      "HE0253-1641\n",
      "HE0345+0056\n",
      "HE0351+0240\n",
      "HE0412-0803\n",
      "HE0429-0247\n",
      "HE0433-1028\n",
      "HE0853+0102\n",
      "HE0934+0119\n",
      "HE1011-0403\n",
      "HE1017-0305\n",
      "HE1029-1831\n",
      "HE1107-0813\n",
      "HE1108-2813\n",
      "HE1126-0407\n",
      "HE1237-0504\n",
      "HE1248-1356\n",
      "HE1330-1013\n",
      "HE1353-1917\n",
      "HE1417-0909\n",
      "HE2128-0221\n",
      "HE2211-3903\n",
      "HE2222-0026\n",
      "HE2233+0124\n",
      "HE2302-0857\n"
     ]
    }
   ],
   "source": [
    "z = {\"HE0021-1810\":0.05352,\"HE0021-1819\":0.053197,\"HE0040-1105\":0.041692,\"HE0108-4743\":0.02392,\"HE0114-0015\":0.04560\n",
    "    ,\"HE0119-0118\":0.054341,\"HE0212-0059\":0.026385,\"HE0224-2834\":0.059800,\"HE0227-0913\":0.016451,\"HE0232-0900\":0.043143\n",
    "    ,\"HE0253-1641\":0.031588,\"HE0345+0056\":0.031,\"HE0351+0240\":0.036,\"HE0412-0803\":0.038160,\"HE0429-0247\":0.042009\n",
    "    ,\"HE0433-1028\":0.035550,\"HE0853+0102\":0.052,\"HE0934+0119\":0.050338,\"HE1011-0403\":0.058314,\"HE1017-0305\":0.049986\n",
    "    ,\"HE1029-1831\":0.040261,\"HE1107-0813\":0.058,\"HE1108-2813\":0.024013,\"HE1126-0407\":0.061960,\"HE1237-0504\":0.009\n",
    "    ,\"HE1248-1356\":0.01465,\"HE1330-1013\":0.022145,\"HE1353-1917\":0.035021,\"HE1417-0909\":0.044,\"HE2128-0221\":0.05248\n",
    "    ,\"HE2211-3903\":0.039714,\"HE2222-0026\":0.059114,\"HE2233+0124\":0.056482,\"HE2302-0857\":0.046860}\n",
    "\n",
    "objs = z.keys()\n",
    "\n",
    "\n",
    "for obj in objs:\n",
    "    algorithmic_script(obj,z[obj])              \n"
   ]
  },
  {
   "cell_type": "code",
   "execution_count": null,
   "metadata": {},
   "outputs": [],
   "source": []
  }
 ],
 "metadata": {
  "kernelspec": {
   "display_name": "Python 3",
   "language": "python",
   "name": "python3"
  },
  "language_info": {
   "codemirror_mode": {
    "name": "ipython",
    "version": 3
   },
   "file_extension": ".py",
   "mimetype": "text/x-python",
   "name": "python",
   "nbconvert_exporter": "python",
   "pygments_lexer": "ipython3",
   "version": "3.7.3"
  }
 },
 "nbformat": 4,
 "nbformat_minor": 2
}
