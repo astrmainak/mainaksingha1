{
 "cells": [
  {
   "cell_type": "code",
   "execution_count": 1,
   "metadata": {},
   "outputs": [
    {
     "name": "stdout",
     "output_type": "stream",
     "text": [
      "HE2233+0124\n",
      "HE0429-0247\n",
      "HE0232-0900\n",
      "HE2222-0026\n",
      "HE0853+0102\n",
      "HE1237-0504\n",
      "HE1011-0403\n",
      "HE0040-1105\n",
      "HE0253-1641\n",
      "HE0119-0118\n",
      "HE0934+0119\n",
      "HE0345+0056\n",
      "HE0412-0803\n",
      "HE0108-4743\n",
      "HE0433-1028\n",
      "HE1330-1013\n",
      "HE1417-0909\n",
      "HE0227-0913\n",
      "HE1029-1831\n",
      "HE2302-0857\n",
      "HE1107-0813\n",
      "HE0114-0015\n",
      "HE2211-3903\n",
      "HE1108-2813\n",
      "HE1126-0407\n",
      "HE0351+0240\n",
      "HE0224-2834\n",
      "HE1353-1917\n"
     ]
    }
   ],
   "source": [
    "import tarfile\n",
    "import os\n",
    "from sh import gunzip\n",
    "\n",
    "def algorithm_script(obj,z,prefix_path_cube=\"/home/mainak/ftp.hidrive.strato.com/users/login-carsftp/IFU_data/MUSE\"):\n",
    "    print '%s'%(obj)\n",
    "    dir_name = '%s/%s'%(prefix_path_cube,obj)\n",
    "\n",
    "    extension = \"fits.gz\"\n",
    "    \n",
    "    os.chdir(dir_name)\n",
    "\n",
    "    for item in os.listdir(dir_name): # loop through items in dir\n",
    "        if item.endswith(extension): \n",
    "            print item# check for \".zip\" extension\n",
    "            file_name = os.path.abspath(item) \n",
    "            gunzip(file_name)           \n",
    "            \n",
    "z = {\"HE0040-1105\":0.041692 ,\"HE0108-4743\":0.02392,\"HE0114-0015\":0.04560,\"HE0119-0118\":0.054341\n",
    "    ,\"HE0224-2834\":0.059800,\"HE0227-0913\":0.016451,\"HE0232-0900\":0.043143,\"HE0253-1641\":0.031588\n",
    "    ,\"HE0345+0056\":0.031,\"HE0351+0240\":0.036,\"HE0412-0803\":0.038160,\"HE0429-0247\":0.042009,\"HE0433-1028\":0.035550\n",
    "    ,\"HE0853+0102\":0.052,\"HE0934+0119\":0.050338,\"HE1011-0403\":0.058314,\"HE1029-1831\":0.040261\n",
    "    ,\"HE1107-0813\":0.058,\"HE1108-2813\":0.024013,\"HE1126-0407\":0.061960,\"HE1237-0504\":0.009,\"HE1330-1013\":0.022145\n",
    "    ,\"HE1353-1917\":0.035021,\"HE1417-0909\":0.044,\"HE2211-3903\":0.039714,\"HE2222-0026\":0.059114,\"HE2233+0124\":0.056482\n",
    "    ,\"HE2302-0857\":0.046860}\n",
    "\n",
    "#z_remaining = {\"HE2128-0221\":0.05248,\"HE1248-1356\":0.01465}\n",
    "\n",
    "objs = z.keys()\n",
    "\n",
    "\n",
    "for obj in objs:\n",
    "    algorithm_script(obj,z[obj])"
   ]
  },
  {
   "cell_type": "code",
   "execution_count": 1,
   "metadata": {},
   "outputs": [
    {
     "name": "stdout",
     "output_type": "stream",
     "text": [
      "HE2233+0124\n",
      "HE1330-1013\n",
      "HE1417-0909\n",
      "HE0227-0913\n",
      "HE1029-1831\n",
      "HE2302-0857\n",
      "HE1107-0813\n",
      "HE2211-3903\n",
      "HE1108-2813\n",
      "HE1126-0407\n",
      "HE1353-1917\n",
      "HE1353-1917.eline_model.fits.gz\n"
     ]
    },
    {
     "ename": "ErrorReturnCode_2",
     "evalue": "\n\n  RAN: /bin/gunzip /home/mainak/ftp.hidrive.strato.com/users/login-carsftp/IFU_data/MUSE/HE1353-1917/fitting/binned/HE1353-1917.eline_model.fits.gz\n\n  STDOUT:\n\n\n  STDERR:\ngzip: /home/mainak/ftp.hidrive.strato.com/users/login-carsftp/IFU_data/MUSE/HE1353-1917/fitting/binned/HE1353-1917.eline_model.fits already exists;\tnot overwritten\n",
     "output_type": "error",
     "traceback": [
      "\u001b[0;31m---------------------------------------------------------------------------\u001b[0m",
      "\u001b[0;31mErrorReturnCode_2\u001b[0m                         Traceback (most recent call last)",
      "\u001b[0;32m<ipython-input-1-3f7c7764cbc2>\u001b[0m in \u001b[0;36m<module>\u001b[0;34m()\u001b[0m\n\u001b[1;32m     28\u001b[0m \u001b[0;34m\u001b[0m\u001b[0m\n\u001b[1;32m     29\u001b[0m \u001b[0;32mfor\u001b[0m \u001b[0mobj\u001b[0m \u001b[0;32min\u001b[0m \u001b[0mobjs\u001b[0m\u001b[0;34m:\u001b[0m\u001b[0;34m\u001b[0m\u001b[0m\n\u001b[0;32m---> 30\u001b[0;31m     \u001b[0malgorithm_script\u001b[0m\u001b[0;34m(\u001b[0m\u001b[0mobj\u001b[0m\u001b[0;34m,\u001b[0m\u001b[0mz\u001b[0m\u001b[0;34m[\u001b[0m\u001b[0mobj\u001b[0m\u001b[0;34m]\u001b[0m\u001b[0;34m)\u001b[0m\u001b[0;34m\u001b[0m\u001b[0m\n\u001b[0m",
      "\u001b[0;32m<ipython-input-1-3f7c7764cbc2>\u001b[0m in \u001b[0;36malgorithm_script\u001b[0;34m(obj, z, prefix_path_cube)\u001b[0m\n\u001b[1;32m     16\u001b[0m             \u001b[0;32mprint\u001b[0m \u001b[0mitem\u001b[0m\u001b[0;31m# check for \".zip\" extension\u001b[0m\u001b[0;34m\u001b[0m\u001b[0m\n\u001b[1;32m     17\u001b[0m             \u001b[0mfile_name\u001b[0m \u001b[0;34m=\u001b[0m \u001b[0mos\u001b[0m\u001b[0;34m.\u001b[0m\u001b[0mpath\u001b[0m\u001b[0;34m.\u001b[0m\u001b[0mabspath\u001b[0m\u001b[0;34m(\u001b[0m\u001b[0mitem\u001b[0m\u001b[0;34m)\u001b[0m\u001b[0;34m\u001b[0m\u001b[0m\n\u001b[0;32m---> 18\u001b[0;31m             \u001b[0mgunzip\u001b[0m\u001b[0;34m(\u001b[0m\u001b[0mfile_name\u001b[0m\u001b[0;34m)\u001b[0m\u001b[0;34m\u001b[0m\u001b[0m\n\u001b[0m\u001b[1;32m     19\u001b[0m \u001b[0;34m\u001b[0m\u001b[0m\n\u001b[1;32m     20\u001b[0m z = {\"HE0227-0913\":0.016451,\"HE1029-1831\":0.040261,\"HE1107-0813\":0.058,\"HE1108-2813\":0.024013,\"HE1126-0407\":0.061960\n",
      "\u001b[0;32m/home/mainak/anaconda2/lib/python2.7/site-packages/sh.pyc\u001b[0m in \u001b[0;36m__call__\u001b[0;34m(self, *args, **kwargs)\u001b[0m\n\u001b[1;32m   1425\u001b[0m             \u001b[0mstderr\u001b[0m \u001b[0;34m=\u001b[0m \u001b[0mopen\u001b[0m\u001b[0;34m(\u001b[0m\u001b[0mstr\u001b[0m\u001b[0;34m(\u001b[0m\u001b[0mstderr\u001b[0m\u001b[0;34m)\u001b[0m\u001b[0;34m,\u001b[0m \u001b[0;34m\"wb\"\u001b[0m\u001b[0;34m)\u001b[0m\u001b[0;34m\u001b[0m\u001b[0m\n\u001b[1;32m   1426\u001b[0m \u001b[0;34m\u001b[0m\u001b[0m\n\u001b[0;32m-> 1427\u001b[0;31m         \u001b[0;32mreturn\u001b[0m \u001b[0mRunningCommand\u001b[0m\u001b[0;34m(\u001b[0m\u001b[0mcmd\u001b[0m\u001b[0;34m,\u001b[0m \u001b[0mcall_args\u001b[0m\u001b[0;34m,\u001b[0m \u001b[0mstdin\u001b[0m\u001b[0;34m,\u001b[0m \u001b[0mstdout\u001b[0m\u001b[0;34m,\u001b[0m \u001b[0mstderr\u001b[0m\u001b[0;34m)\u001b[0m\u001b[0;34m\u001b[0m\u001b[0m\n\u001b[0m\u001b[1;32m   1428\u001b[0m \u001b[0;34m\u001b[0m\u001b[0m\n\u001b[1;32m   1429\u001b[0m \u001b[0;34m\u001b[0m\u001b[0m\n",
      "\u001b[0;32m/home/mainak/anaconda2/lib/python2.7/site-packages/sh.pyc\u001b[0m in \u001b[0;36m__init__\u001b[0;34m(self, cmd, call_args, stdin, stdout, stderr)\u001b[0m\n\u001b[1;32m    772\u001b[0m \u001b[0;34m\u001b[0m\u001b[0m\n\u001b[1;32m    773\u001b[0m             \u001b[0;32mif\u001b[0m \u001b[0mshould_wait\u001b[0m\u001b[0;34m:\u001b[0m\u001b[0;34m\u001b[0m\u001b[0m\n\u001b[0;32m--> 774\u001b[0;31m                 \u001b[0mself\u001b[0m\u001b[0;34m.\u001b[0m\u001b[0mwait\u001b[0m\u001b[0;34m(\u001b[0m\u001b[0;34m)\u001b[0m\u001b[0;34m\u001b[0m\u001b[0m\n\u001b[0m\u001b[1;32m    775\u001b[0m \u001b[0;34m\u001b[0m\u001b[0m\n\u001b[1;32m    776\u001b[0m \u001b[0;34m\u001b[0m\u001b[0m\n",
      "\u001b[0;32m/home/mainak/anaconda2/lib/python2.7/site-packages/sh.pyc\u001b[0m in \u001b[0;36mwait\u001b[0;34m(self)\u001b[0m\n\u001b[1;32m    790\u001b[0m \u001b[0;34m\u001b[0m\u001b[0m\n\u001b[1;32m    791\u001b[0m             \u001b[0;32melse\u001b[0m\u001b[0;34m:\u001b[0m\u001b[0;34m\u001b[0m\u001b[0m\n\u001b[0;32m--> 792\u001b[0;31m                 \u001b[0mself\u001b[0m\u001b[0;34m.\u001b[0m\u001b[0mhandle_command_exit_code\u001b[0m\u001b[0;34m(\u001b[0m\u001b[0mexit_code\u001b[0m\u001b[0;34m)\u001b[0m\u001b[0;34m\u001b[0m\u001b[0m\n\u001b[0m\u001b[1;32m    793\u001b[0m \u001b[0;34m\u001b[0m\u001b[0m\n\u001b[1;32m    794\u001b[0m                 \u001b[0;31m# if an iterable command is using an instance of OProc for its stdin,\u001b[0m\u001b[0;34m\u001b[0m\u001b[0;34m\u001b[0m\u001b[0m\n",
      "\u001b[0;32m/home/mainak/anaconda2/lib/python2.7/site-packages/sh.pyc\u001b[0m in \u001b[0;36mhandle_command_exit_code\u001b[0;34m(self, code)\u001b[0m\n\u001b[1;32m    813\u001b[0m             exc = exc_class(self.ran, self.process.stdout, self.process.stderr,\n\u001b[1;32m    814\u001b[0m                     ca[\"truncate_exc\"])\n\u001b[0;32m--> 815\u001b[0;31m             \u001b[0;32mraise\u001b[0m \u001b[0mexc\u001b[0m\u001b[0;34m\u001b[0m\u001b[0m\n\u001b[0m\u001b[1;32m    816\u001b[0m \u001b[0;34m\u001b[0m\u001b[0m\n\u001b[1;32m    817\u001b[0m \u001b[0;34m\u001b[0m\u001b[0m\n",
      "\u001b[0;31mErrorReturnCode_2\u001b[0m: \n\n  RAN: /bin/gunzip /home/mainak/ftp.hidrive.strato.com/users/login-carsftp/IFU_data/MUSE/HE1353-1917/fitting/binned/HE1353-1917.eline_model.fits.gz\n\n  STDOUT:\n\n\n  STDERR:\ngzip: /home/mainak/ftp.hidrive.strato.com/users/login-carsftp/IFU_data/MUSE/HE1353-1917/fitting/binned/HE1353-1917.eline_model.fits already exists;\tnot overwritten\n"
     ]
    }
   ],
   "source": [
    "\n",
    "import tarfile\n",
    "import os\n",
    "from sh import gunzip\n",
    "\n",
    "def algorithm_script(obj,z,prefix_path_cube=\"/home/mainak/ftp.hidrive.strato.com/users/login-carsftp/IFU_data/MUSE\"):\n",
    "    print '%s'%(obj)\n",
    "    dir_name = '%s/%s/fitting/binned'%(prefix_path_cube,obj)\n",
    "\n",
    "    extension = \"fits.gz\"\n",
    "    \n",
    "    os.chdir(dir_name)\n",
    "\n",
    "    for item in os.listdir(dir_name): # loop through items in dir\n",
    "        if item.endswith(extension): \n",
    "            print item# check for \".zip\" extension\n",
    "            file_name = os.path.abspath(item) \n",
    "            gunzip(file_name)           \n",
    "            \n",
    "z = {\"HE0227-0913\":0.016451,\"HE1029-1831\":0.040261,\"HE1107-0813\":0.058,\"HE1108-2813\":0.024013,\"HE1126-0407\":0.061960\n",
    "    ,\"HE1330-1013\":0.022145,\"HE1353-1917\":0.035021,\"HE1417-0909\":0.044,\"HE2211-3903\":0.039714,\"HE2233+0124\":0.056482\n",
    "    ,\"HE2302-0857\":0.046860}\n",
    "\n",
    "#z_remaining = {\"HE2128-0221\":0.05248,\"HE1248-1356\":0.01465}\n",
    "\n",
    "objs = z.keys()\n",
    "\n",
    "\n",
    "for obj in objs:\n",
    "    algorithm_script(obj,z[obj])"
   ]
  },
  {
   "cell_type": "code",
   "execution_count": 3,
   "metadata": {},
   "outputs": [
    {
     "name": "stdout",
     "output_type": "stream",
     "text": [
      "HE2233+0124\n",
      "HE0429-0247\n",
      "HE0232-0900\n",
      "HE2222-0026\n",
      "HE0853+0102\n",
      "HE1237-0504\n",
      "HE1011-0403\n",
      "HE0040-1105\n",
      "HE0253-1641\n",
      "HE0119-0118\n",
      "HE0934+0119\n",
      "HE0345+0056\n",
      "HE0412-0803\n",
      "HE0108-4743\n",
      "HE0433-1028\n",
      "HE1330-1013\n",
      "HE1417-0909\n",
      "HE0227-0913\n",
      "HE1029-1831\n",
      "HE2302-0857\n",
      "HE1107-0813\n",
      "HE0114-0015\n",
      "HE2211-3903\n",
      "HE1108-2813\n",
      "HE1126-0407\n",
      "HE0351+0240\n",
      "HE0224-2834\n",
      "HE1353-1917\n"
     ]
    }
   ],
   "source": [
    "import tarfile\n",
    "import os\n",
    "from sh import gunzip\n",
    "\n",
    "def algorithm_script(obj,z,prefix_path_cube=\"/home/mainak/ftp.hidrive.strato.com/users/login-carsftp/IFU_data/MUSE\"):\n",
    "    print '%s'%(obj)\n",
    "    dir_name = '%s/%s/fitting/full'%(prefix_path_cube,obj)\n",
    "\n",
    "    extension = \"cont_model.fits.gz\"\n",
    "    \n",
    "    os.chdir(dir_name)\n",
    "\n",
    "    for item in os.listdir(dir_name): # loop through items in dir\n",
    "        if item.endswith(extension): \n",
    "            print item# check for \".zip\" extension\n",
    "            file_name = os.path.abspath(item) \n",
    "            gunzip(file_name)           \n",
    "            \n",
    "z = {\"HE0040-1105\":0.041692 ,\"HE0108-4743\":0.02392,\"HE0114-0015\":0.04560,\"HE0119-0118\":0.054341\n",
    "    ,\"HE0224-2834\":0.059800,\"HE0227-0913\":0.016451,\"HE0232-0900\":0.043143,\"HE0253-1641\":0.031588\n",
    "    ,\"HE0345+0056\":0.031,\"HE0351+0240\":0.036,\"HE0412-0803\":0.038160,\"HE0429-0247\":0.042009,\"HE0433-1028\":0.035550\n",
    "    ,\"HE0853+0102\":0.052,\"HE0934+0119\":0.050338,\"HE1011-0403\":0.058314,\"HE1029-1831\":0.040261\n",
    "    ,\"HE1107-0813\":0.058,\"HE1108-2813\":0.024013,\"HE1126-0407\":0.061960,\"HE1237-0504\":0.009,\"HE1330-1013\":0.022145\n",
    "    ,\"HE1353-1917\":0.035021,\"HE1417-0909\":0.044,\"HE2211-3903\":0.039714,\"HE2222-0026\":0.059114,\"HE2233+0124\":0.056482\n",
    "    ,\"HE2302-0857\":0.046860}\n",
    "\n",
    "#z_remaining = {\"HE2128-0221\":0.05248,\"HE1248-1356\":0.01465}\n",
    "\n",
    "objs = z.keys()\n",
    "\n",
    "\n",
    "for obj in objs:\n",
    "    algorithm_script(obj,z[obj])"
   ]
  },
  {
   "cell_type": "code",
   "execution_count": 2,
   "metadata": {},
   "outputs": [
    {
     "ename": "ModuleNotFoundError",
     "evalue": "No module named 'sh'",
     "output_type": "error",
     "traceback": [
      "\u001b[0;31m---------------------------------------------------------------------------\u001b[0m",
      "\u001b[0;31mModuleNotFoundError\u001b[0m                       Traceback (most recent call last)",
      "\u001b[0;32m<ipython-input-2-928a1d283de2>\u001b[0m in \u001b[0;36m<module>\u001b[0;34m\u001b[0m\n\u001b[1;32m      1\u001b[0m \u001b[0;32mimport\u001b[0m \u001b[0mtarfile\u001b[0m\u001b[0;34m\u001b[0m\u001b[0;34m\u001b[0m\u001b[0m\n\u001b[1;32m      2\u001b[0m \u001b[0;32mimport\u001b[0m \u001b[0mos\u001b[0m\u001b[0;34m\u001b[0m\u001b[0;34m\u001b[0m\u001b[0m\n\u001b[0;32m----> 3\u001b[0;31m \u001b[0;32mfrom\u001b[0m \u001b[0msh\u001b[0m \u001b[0;32mimport\u001b[0m \u001b[0mgunzip\u001b[0m\u001b[0;34m\u001b[0m\u001b[0;34m\u001b[0m\u001b[0m\n\u001b[0m\u001b[1;32m      4\u001b[0m \u001b[0;34m\u001b[0m\u001b[0m\n\u001b[1;32m      5\u001b[0m \u001b[0;32mdef\u001b[0m \u001b[0malgorithm_script\u001b[0m\u001b[0;34m(\u001b[0m\u001b[0mobj\u001b[0m\u001b[0;34m,\u001b[0m\u001b[0mz\u001b[0m\u001b[0;34m,\u001b[0m\u001b[0mprefix_path_cube\u001b[0m\u001b[0;34m=\u001b[0m\u001b[0;34m\"/home/mainak/ftp.hidrive.strato.com/users/login-carsftp/IFU_data/MUSE\"\u001b[0m\u001b[0;34m)\u001b[0m\u001b[0;34m:\u001b[0m\u001b[0;34m\u001b[0m\u001b[0;34m\u001b[0m\u001b[0m\n",
      "\u001b[0;31mModuleNotFoundError\u001b[0m: No module named 'sh'"
     ]
    }
   ],
   "source": [
    "import tarfile\n",
    "import os\n",
    "from sh import gunzip\n",
    "\n",
    "def algorithm_script(obj,z,prefix_path_cube=\"/home/mainak/ftp.hidrive.strato.com/users/login-carsftp/IFU_data/MUSE\"):\n",
    "    print ('%s'%(obj))\n",
    "    dir_name = '%s/%s/fitting/full'%(prefix_path_cube,obj)\n",
    "\n",
    "    extension = \"cont_model.fits.gz\"\n",
    "    \n",
    "    os.chdir(dir_name)\n",
    "\n",
    "    for item in os.listdir(dir_name): # loop through items in dir\n",
    "        if item.endswith(extension): \n",
    "            print (item)# check for \".zip\" extension\n",
    "            file_name = os.path.abspath(item) \n",
    "            gunzip(file_name)           \n",
    "            \n",
    "z = {\"HE1248-1356\":0.01465}\n",
    "\n",
    "#z_remaining = {\"HE2128-0221\":0.05248,\"HE1248-1356\":0.01465}\n",
    "\n",
    "objs = z.keys()\n",
    "\n",
    "\n",
    "for obj in objs:\n",
    "    algorithm_script(obj,z[obj])"
   ]
  },
  {
   "cell_type": "code",
   "execution_count": 1,
   "metadata": {},
   "outputs": [],
   "source": [
    "import tarfile\n",
    "import os\n",
    "from sh import gunzip"
   ]
  },
  {
   "cell_type": "code",
   "execution_count": 3,
   "metadata": {},
   "outputs": [
    {
     "name": "stdout",
     "output_type": "stream",
     "text": [
      "HE0227-0913\n",
      "Mrk1044_NFM.final.fits.gz\n"
     ]
    }
   ],
   "source": [
    "import tarfile\n",
    "import os\n",
    "from sh import gunzip\n",
    "\n",
    "def algorithm_script(obj,z,prefix_path_cube=\"/media/mainak\"):\n",
    "    print ('%s'%(obj))\n",
    "    dir_name = '%s/Seagate'%(prefix_path_cube)\n",
    "\n",
    "    extension = \"Mrk1044_NFM.final.fits.gz\"\n",
    "    \n",
    "    os.chdir(dir_name)\n",
    "\n",
    "    for item in os.listdir(dir_name): # loop through items in dir\n",
    "        if item.endswith(extension): \n",
    "            print (item)# check for \".zip\" extension\n",
    "            file_name = os.path.abspath(item) \n",
    "            gunzip(file_name)           \n",
    "            \n",
    "z = {\"HE0227-0913\":0.016}\n",
    "\n",
    "#z_remaining = {\"HE2128-0221\":0.05248,\"HE1248-1356\":0.01465}\n",
    "\n",
    "objs = z.keys()\n",
    "\n",
    "\n",
    "for obj in objs:\n",
    "    algorithm_script(obj,z[obj])"
   ]
  },
  {
   "cell_type": "code",
   "execution_count": 10,
   "metadata": {},
   "outputs": [
    {
     "data": {
      "text/plain": [
       "0.5888436553555889"
      ]
     },
     "execution_count": 10,
     "metadata": {},
     "output_type": "execute_result"
    }
   ],
   "source": [
    "10**(-0.23)"
   ]
  },
  {
   "cell_type": "code",
   "execution_count": null,
   "metadata": {},
   "outputs": [],
   "source": []
  }
 ],
 "metadata": {
  "kernelspec": {
   "display_name": "Python 3",
   "language": "python",
   "name": "python3"
  },
  "language_info": {
   "codemirror_mode": {
    "name": "ipython",
    "version": 3
   },
   "file_extension": ".py",
   "mimetype": "text/x-python",
   "name": "python",
   "nbconvert_exporter": "python",
   "pygments_lexer": "ipython3",
   "version": "3.7.3"
  }
 },
 "nbformat": 4,
 "nbformat_minor": 2
}
