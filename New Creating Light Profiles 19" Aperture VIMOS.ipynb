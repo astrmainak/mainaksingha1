{
 "cells": [
  {
   "cell_type": "code",
   "execution_count": 1,
   "metadata": {},
   "outputs": [],
   "source": [
    "import numpy as np\n",
    "import matplotlib.pyplot as plt\n",
    "import astropy.io.fits as fits\n",
    "from scipy.optimize import leastsq\n",
    "from numpy import exp\n",
    "from scipy import ndimage\n",
    "from VMOSfunc import *"
   ]
  },
  {
   "cell_type": "code",
   "execution_count": 2,
   "metadata": {},
   "outputs": [],
   "source": [
    "def spectroastrometry(mini_cube,mini_err,mini_wave,fixed_param,MC_loops,broad2=False):\n",
    "    output_par = np.zeros((10,mini_cube.shape[1],mini_cube.shape[2]),dtype=np.float32)\n",
    "    output_par_err = np.zeros((10,mini_cube.shape[1],mini_cube.shape[2]),dtype=np.float32)\n",
    "    fitted = np.zeros((np.shape(mini_wave)[0],mini_cube.shape[1],mini_cube.shape[2]),dtype=np.float32)\n",
    "    residual = np.zeros((np.shape(mini_wave)[0],mini_cube.shape[1],mini_cube.shape[2]),dtype=np.float32)\n",
    "    if broad2:\n",
    "        full_gauss_fixkin = full_gauss2_fixkin\n",
    "    else:\n",
    "        full_gauss_fixkin = full_gauss1_fixkin\n",
    "    for i in range(mini_cube.shape[1]):\n",
    "        for j in range(mini_cube.shape[2]):\n",
    "            (spectrum,error) = (mini_cube[:,i,j],mini_err[:,i,j])    \n",
    "            popt_full_fit,pcov_full_fit = leastsq(full_gauss_fixkin,x0=[0.1, 0.1, 0.1, 0.1, 0.01, 0.01, 0.01, 0.01, -0.7, 0.001],args=(mini_wave,spectrum,error,fixed_param),maxfev = 10000000)\n",
    "            \n",
    "            output_par[:,i,j]=popt_full_fit\n",
    "            fitted[:,i,j]=(full_gauss_fixkin(popt_full_fit,mini_wave,spectrum,error,fixed_param))*(error)+spectrum \n",
    "            residual[:,i,j] = mini_cube[:,i,j] - fitted[:,i,j]\n",
    "            \n",
    "            spec_parameters_MC = np.zeros((len(popt_full_fit),MC_loops))\n",
    "            for l in range(MC_loops):\n",
    "                iteration_data = np.random.normal(spectrum,error)   \n",
    "                popt_spec_MC,pcov_spec_MC = leastsq(full_gauss_fixkin,x0=[0.1, 0.1, 0.1, 0.1, 0.01, 0.01, 0.01, 0.01, -0.7, 0.001],args=(mini_wave,iteration_data,error,fixed_param),maxfev = 10000000)\n",
    "                spec_parameters_MC[:,l]=popt_spec_MC\n",
    "                \n",
    "            spec_parameters_err = np.std(spec_parameters_MC,1)\n",
    "            output_par_err[:,i,j] = spec_parameters_err\n",
    "    return output_par,output_par_err,fitted,residual\n",
    "\n",
    "def flux_map(output_par,obj,destination_path_cube=\"/home/mainak/Downloads/Outflow_paper1/VIMOS\"):\n",
    "    hdus=[]\n",
    "    hdus.append(fits.PrimaryHDU())\n",
    "    hdus.append(fits.ImageHDU(output_par[0,:,:],name='amp_Hb'))\n",
    "    hdus.append(fits.ImageHDU(output_par[1,:,:],name='amp_OIII5007'))\n",
    "    hdus.append(fits.ImageHDU(output_par[2,:,:],name='amp_OIII5007_br'))\n",
    "    hdus.append(fits.ImageHDU(output_par[3,:,:],name='amp_Hb_br'))\n",
    "    hdus.append(fits.ImageHDU(output_par[4,:,:],name='amp_Hb1'))\n",
    "    hdus.append(fits.ImageHDU(output_par[5,:,:],name='amp_Hb2'))\n",
    "    hdus.append(fits.ImageHDU(output_par[6,:,:],name='amp_Fe5018_1'))\n",
    "    hdus.append(fits.ImageHDU(output_par[7,:,:],name='amp_Fe5018_2'))\n",
    "    hdus.append(fits.ImageHDU(output_par[8,:,:],name='m'))\n",
    "    hdus.append(fits.ImageHDU(output_par[9,:,:],name='c'))\n",
    "    hdu = fits.HDUList(hdus)\n",
    "    hdu.writeto('%s/Flux Maps/%s/19_arcsec_subcube_par_%s.fits'%(destination_path_cube,obj,obj),overwrite='True')\n",
    "\n",
    "def flux_map_err(output_par_err,obj,destination_path_cube=\"/home/mainak/Downloads/Outflow_paper1/VIMOS\"):\n",
    "    hdus=[]\n",
    "    hdus.append(fits.PrimaryHDU())\n",
    "    hdus.append(fits.ImageHDU(output_par_err[0,:,:],name='amp_Hb_err'))\n",
    "    hdus.append(fits.ImageHDU(output_par_err[1,:,:],name='amp_OIII5007_err'))\n",
    "    hdus.append(fits.ImageHDU(output_par_err[2,:,:],name='amp_OIII5007_br_err'))\n",
    "    hdus.append(fits.ImageHDU(output_par_err[3,:,:],name='amp_Hb_br_err'))\n",
    "    hdus.append(fits.ImageHDU(output_par_err[4,:,:],name='amp_Hb1_err'))\n",
    "    hdus.append(fits.ImageHDU(output_par_err[5,:,:],name='amp_Hb2_err'))\n",
    "    hdus.append(fits.ImageHDU(output_par_err[6,:,:],name='amp_Fe5018_1_err'))\n",
    "    hdus.append(fits.ImageHDU(output_par_err[7,:,:],name='amp_Fe5018_2_err'))\n",
    "    hdus.append(fits.ImageHDU(output_par_err[8,:,:],name='m_err'))\n",
    "    hdus.append(fits.ImageHDU(output_par_err[9,:,:],name='c_err'))\n",
    "    hdu = fits.HDUList(hdus)\n",
    "    hdu.writeto('%s/Flux Maps/%s/19_arcsec_subcube_par_err_%s.fits'%(destination_path_cube,obj,obj),overwrite='True')\n"
   ]
  },
  {
   "cell_type": "code",
   "execution_count": 3,
   "metadata": {},
   "outputs": [],
   "source": [
    "def spectroastrometric_script(obj,z,broad2,MC_loops=100,destination_path_cube=\"/home/mainak/Downloads/Outflow_paper1/VIMOS\"):\n",
    "    fixed_param = fixed_parameters(obj)\n",
    "    (mini_cube,mini_err,mini_wave,mini_header) = loadCube('%s/%s/%s.19_arcsec_minicube.fits'%(destination_path_cube,obj,obj))\n",
    " \n",
    "    (output_par,output_par_err,fitted_cube,residual_cube) = spectroastrometry(mini_cube,mini_err,mini_wave,fixed_param,MC_loops,broad2)\n",
    "    \n",
    "    store_cube('%s/%s/%s.19_arcsec_fitted_residual_minicube.fits'%(destination_path_cube,obj,obj),fitted_cube,mini_wave,residual_cube,mini_header)    \n",
    "    flux_map(output_par,obj)\n",
    "    flux_map_err(output_par_err,obj)\n",
    "    \n",
    "    (centroid_OIII_nr,centroid_OIII_br,centroid_Hb_blr_br) = light_weighted_centroid(obj)\n",
    "    print ('%s.fits'%(obj))"
   ]
  },
  {
   "cell_type": "code",
   "execution_count": 4,
   "metadata": {},
   "outputs": [
    {
     "name": "stdout",
     "output_type": "stream",
     "text": [
      "HE1310-1051.fits\n",
      "HE1338-1423.fits\n"
     ]
    }
   ],
   "source": [
    "z = {\"HE1310-1051\":0.03427,\"HE1338-1423\":0.04179}\n",
    "\n",
    "objs = z.keys()\n",
    "broad2= {\"HE1310-1051\":False,\"HE1338-1423\":True}\n",
    "\n",
    "for obj in objs:\n",
    "    spectroastrometric_script(obj,z[obj],broad2[obj])"
   ]
  },
  {
   "cell_type": "code",
   "execution_count": null,
   "metadata": {},
   "outputs": [],
   "source": []
  }
 ],
 "metadata": {
  "kernelspec": {
   "display_name": "Python 3",
   "language": "python",
   "name": "python3"
  },
  "language_info": {
   "codemirror_mode": {
    "name": "ipython",
    "version": 3
   },
   "file_extension": ".py",
   "mimetype": "text/x-python",
   "name": "python",
   "nbconvert_exporter": "python",
   "pygments_lexer": "ipython3",
   "version": "3.7.3"
  }
 },
 "nbformat": 4,
 "nbformat_minor": 2
}
