{
 "cells": [
  {
   "cell_type": "code",
   "execution_count": 1,
   "metadata": {},
   "outputs": [],
   "source": [
    "import numpy as np\n",
    "import matplotlib.pyplot as plt\n",
    "import astropy.io.fits as fits\n",
    "from scipy.optimize import leastsq\n",
    "from numpy import exp\n",
    "from scipy import ndimage\n",
    "from func import *"
   ]
  },
  {
   "cell_type": "code",
   "execution_count": 2,
   "metadata": {},
   "outputs": [],
   "source": [
    "def spectroastrometry(mini_cube,mini_err,mini_wave,fixed_param,MC_loops,broad2=False):\n",
    "    output_par = np.zeros((10,mini_cube.shape[1],mini_cube.shape[2]),dtype=np.float32)\n",
    "    output_par_err = np.zeros((10,mini_cube.shape[1],mini_cube.shape[2]),dtype=np.float32)\n",
    "    fitted = np.zeros((np.shape(mini_wave)[0],mini_cube.shape[1],mini_cube.shape[2]),dtype=np.float32)\n",
    "    residual = np.zeros((np.shape(mini_wave)[0],mini_cube.shape[1],mini_cube.shape[2]),dtype=np.float32)\n",
    "    if broad2:\n",
    "        full_gauss_fixkin = full_gauss2_fixkin\n",
    "    else:\n",
    "        full_gauss_fixkin = full_gauss1_fixkin\n",
    "    for i in range(mini_cube.shape[1]):\n",
    "        for j in range(mini_cube.shape[2]):\n",
    "            (spectrum,error) = (mini_cube[:,i,j],mini_err[:,i,j])    \n",
    "            popt_full_fit,pcov_full_fit = leastsq(full_gauss_fixkin,x0=[0.01, 0.01, 0.01, 0.01, 0.01, 0.01, 0.01, 0.01, -0.7, 0.001],args=(mini_wave,spectrum,error,fixed_param),maxfev = 10000000)\n",
    "            \n",
    "            output_par[:,i,j]=popt_full_fit\n",
    "            fitted[:,i,j]=(full_gauss_fixkin(popt_full_fit,mini_wave,spectrum,error,fixed_param))*(error)+spectrum \n",
    "            residual[:,i,j] = mini_cube[:,i,j] - fitted[:,i,j]\n",
    "            \n",
    "            spec_parameters_MC = np.zeros((len(popt_full_fit),MC_loops))\n",
    "            for l in range(MC_loops):\n",
    "                iteration_data = np.random.normal(spectrum,error)   \n",
    "                popt_spec_MC,pcov_spec_MC = leastsq(full_gauss_fixkin,x0=[0.01, 0.01, 0.01, 0.01, 0.01, 0.01, 0.01, 0.01, -0.7, 0.001],args=(mini_wave,iteration_data,error,fixed_param),maxfev = 10000000)\n",
    "                spec_parameters_MC[:,l]=popt_spec_MC\n",
    "                \n",
    "            spec_parameters_err = np.std(spec_parameters_MC,1)\n",
    "            output_par_err[:,i,j] = spec_parameters_err\n",
    "    return output_par,output_par_err,fitted,residual\n",
    "\n",
    "def flux_map(output_par,obj,destination_path_cube=\"/home/mainak/Downloads/Outflow_paper1/MUSE\"):\n",
    "    hdus=[]\n",
    "    hdus.append(fits.PrimaryHDU())\n",
    "    hdus.append(fits.ImageHDU(output_par[0,:,:],name='amp_Hb'))\n",
    "    hdus.append(fits.ImageHDU(output_par[1,:,:],name='amp_OIII5007'))\n",
    "    hdus.append(fits.ImageHDU(output_par[2,:,:],name='amp_OIII5007_br'))\n",
    "    hdus.append(fits.ImageHDU(output_par[3,:,:],name='amp_Hb_br'))\n",
    "    hdus.append(fits.ImageHDU(output_par[4,:,:],name='amp_Hb1'))\n",
    "    hdus.append(fits.ImageHDU(output_par[5,:,:],name='amp_Hb2'))\n",
    "    hdus.append(fits.ImageHDU(output_par[6,:,:],name='amp_Fe5018_1'))\n",
    "    hdus.append(fits.ImageHDU(output_par[7,:,:],name='amp_Fe5018_2'))\n",
    "    hdus.append(fits.ImageHDU(output_par[8,:,:],name='m'))\n",
    "    hdus.append(fits.ImageHDU(output_par[9,:,:],name='c'))\n",
    "    hdu = fits.HDUList(hdus)\n",
    "    hdu.writeto('%s/Flux Maps/%s/9_arcsec_subcube_par_%s.fits'%(destination_path_cube,obj,obj),overwrite='True')\n",
    "\n",
    "def flux_map_err(output_par_err,obj,destination_path_cube=\"/home/mainak/Downloads/Outflow_paper1/MUSE\"):\n",
    "    hdus=[]\n",
    "    hdus.append(fits.PrimaryHDU())\n",
    "    hdus.append(fits.ImageHDU(output_par_err[0,:,:],name='amp_Hb_err'))\n",
    "    hdus.append(fits.ImageHDU(output_par_err[1,:,:],name='amp_OIII5007_err'))\n",
    "    hdus.append(fits.ImageHDU(output_par_err[2,:,:],name='amp_OIII5007_br_err'))\n",
    "    hdus.append(fits.ImageHDU(output_par_err[3,:,:],name='amp_Hb_br_err'))\n",
    "    hdus.append(fits.ImageHDU(output_par_err[4,:,:],name='amp_Hb1_err'))\n",
    "    hdus.append(fits.ImageHDU(output_par_err[5,:,:],name='amp_Hb2_err'))\n",
    "    hdus.append(fits.ImageHDU(output_par_err[6,:,:],name='amp_Fe5018_1_err'))\n",
    "    hdus.append(fits.ImageHDU(output_par_err[7,:,:],name='amp_Fe5018_2_err'))\n",
    "    hdus.append(fits.ImageHDU(output_par_err[8,:,:],name='m_err'))\n",
    "    hdus.append(fits.ImageHDU(output_par_err[9,:,:],name='c_err'))\n",
    "    hdu = fits.HDUList(hdus)\n",
    "    hdu.writeto('%s/Flux Maps/%s/9_arcsec_subcube_par_err_%s.fits'%(destination_path_cube,obj,obj),overwrite='True')\n"
   ]
  },
  {
   "cell_type": "code",
   "execution_count": 3,
   "metadata": {},
   "outputs": [],
   "source": [
    "def spectroastrometric_script(obj,z,broad2,MC_loops=100,prefix_path_cube=\"/home/mainak/ftp.hidrive.strato.com/users/login-carsftp/IFU_data\",destination_path_cube=\"/home/mainak/Downloads/Outflow_paper1/MUSE\"):\n",
    "    fixed_param = fixed_parameters(obj)\n",
    "    (mini_cube,mini_err,mini_wave,mini_header) = loadCube('%s/%s/%s.9_arcsec_minicube.fits'%(destination_path_cube,obj,obj))\n",
    " \n",
    "    (output_par,output_par_err,fitted_cube,residual_cube) = spectroastrometry(mini_cube,mini_err,mini_wave,fixed_param,MC_loops,broad2)\n",
    "    \n",
    "    store_cube('%s/%s/%s.9_arcsec_fitted_residual_minicube.fits'%(destination_path_cube,obj,obj),fitted_cube,mini_wave,residual_cube,mini_header)    \n",
    "    flux_map(output_par,obj)\n",
    "    flux_map_err(output_par_err,obj)\n",
    "    \n",
    "    (centroid_OIII_nr,centroid_OIII_br,centroid_Hb_blr_br) = light_weighted_centroid(obj)\n",
    "    print ('%s.fits'%(obj))"
   ]
  },
  {
   "cell_type": "code",
   "execution_count": 4,
   "metadata": {},
   "outputs": [
    {
     "name": "stdout",
     "output_type": "stream",
     "text": [
      "HE0108-4743.fits\n"
     ]
    }
   ],
   "source": [
    "z = {\"HE0108-4743\":0.02392}\n",
    "\n",
    "objs = z.keys()\n",
    "\n",
    "broad2= {'HE0108-4743':True}\n",
    "\n",
    "for obj in objs:\n",
    "    spectroastrometric_script(obj,z[obj],broad2[obj])"
   ]
  },
  {
   "cell_type": "code",
   "execution_count": 4,
   "metadata": {},
   "outputs": [
    {
     "name": "stdout",
     "output_type": "stream",
     "text": [
      "HE0021-1810.fits\n",
      "HE0021-1819.fits\n",
      "HE0040-1105.fits\n",
      "HE0108-4743.fits\n",
      "HE0114-0015.fits\n",
      "HE0119-0118.fits\n",
      "HE0212-0059.fits\n",
      "HE0224-2834.fits\n",
      "HE0227-0913.fits\n",
      "HE0232-0900.fits\n",
      "HE0253-1641.fits\n",
      "HE0345+0056.fits\n",
      "HE0351+0240.fits\n",
      "HE0412-0803.fits\n",
      "HE0429-0247.fits\n",
      "HE0433-1028.fits\n",
      "HE0853+0102.fits\n",
      "HE0934+0119.fits\n",
      "HE1011-0403.fits\n",
      "HE1017-0305.fits\n",
      "HE1029-1831.fits\n",
      "HE1107-0813.fits\n",
      "HE1108-2813.fits\n",
      "HE1126-0407.fits\n",
      "HE1237-0504.fits\n",
      "HE1248-1356.fits\n",
      "HE1330-1013.fits\n",
      "HE1353-1917.fits\n",
      "HE1417-0909.fits\n",
      "HE2128-0221.fits\n",
      "HE2211-3903.fits\n",
      "HE2222-0026.fits\n",
      "HE2233+0124.fits\n",
      "HE2302-0857.fits\n"
     ]
    }
   ],
   "source": [
    "z = {\"HE0021-1810\":0.05352,\"HE0021-1819\":0.053197,\"HE0040-1105\":0.041692,\"HE0108-4743\":0.02392,\"HE0114-0015\":0.04560\n",
    "    ,\"HE0119-0118\":0.054341,\"HE0212-0059\":0.026385,\"HE0224-2834\":0.059800,\"HE0227-0913\":0.016451,\"HE0232-0900\":0.043143\n",
    "    ,\"HE0253-1641\":0.031588,\"HE0345+0056\":0.031,\"HE0351+0240\":0.036,\"HE0412-0803\":0.038160,\"HE0429-0247\":0.042009\n",
    "    ,\"HE0433-1028\":0.035550,\"HE0853+0102\":0.052,\"HE0934+0119\":0.050338,\"HE1011-0403\":0.058314,\"HE1017-0305\":0.049986\n",
    "    ,\"HE1029-1831\":0.040261,\"HE1107-0813\":0.058,\"HE1108-2813\":0.024013,\"HE1126-0407\":0.061960,\"HE1237-0504\":0.009\n",
    "    ,\"HE1248-1356\":0.01465,\"HE1330-1013\":0.022145,\"HE1353-1917\":0.035021,\"HE1417-0909\":0.044,\"HE2128-0221\":0.05248\n",
    "    ,\"HE2211-3903\":0.039714,\"HE2222-0026\":0.059114,\"HE2233+0124\":0.056482,\"HE2302-0857\":0.046860}\n",
    "\n",
    "objs = z.keys()\n",
    "\n",
    "broad2= {'HE0021-1810':False,'HE0021-1819':False,'HE0040-1105':False,'HE0108-4743':True,'HE0114-0015':False\n",
    "        ,'HE0119-0118':True,'HE0212-0059':True,'HE0224-2834':False,'HE0227-0913':True,'HE0232-0900':False\n",
    "        ,'HE0253-1641':True,'HE0345+0056':True,'HE0351+0240':True,'HE0412-0803':False,'HE0429-0247':True\n",
    "        ,'HE0433-1028':True,'HE0853+0102':True,'HE0934+0119':True,'HE1011-0403':True,'HE1017-0305':False\n",
    "        ,'HE1029-1831':True,'HE1107-0813':True,'HE1108-2813':False,'HE1126-0407':True,'HE1237-0504':False\n",
    "        ,'HE1248-1356':False,'HE1330-1013':True,'HE1353-1917':True,'HE1417-0909':False,'HE2128-0221':False\n",
    "        ,'HE2211-3903':False,'HE2222-0026':True,'HE2233+0124':True,'HE2302-0857':True}\n",
    "\n",
    "for obj in objs:\n",
    "    spectroastrometric_script(obj,z[obj],broad2[obj])"
   ]
  },
  {
   "cell_type": "code",
   "execution_count": null,
   "metadata": {},
   "outputs": [],
   "source": []
  }
 ],
 "metadata": {
  "kernelspec": {
   "display_name": "Python 3",
   "language": "python",
   "name": "python3"
  },
  "language_info": {
   "codemirror_mode": {
    "name": "ipython",
    "version": 3
   },
   "file_extension": ".py",
   "mimetype": "text/x-python",
   "name": "python",
   "nbconvert_exporter": "python",
   "pygments_lexer": "ipython3",
   "version": "3.7.3"
  }
 },
 "nbformat": 4,
 "nbformat_minor": 2
}
