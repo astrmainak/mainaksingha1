{
 "cells": [
  {
   "cell_type": "code",
   "execution_count": 1,
   "metadata": {},
   "outputs": [],
   "source": [
    "import numpy as np\n",
    "import matplotlib.pyplot as plt\n",
    "import astropy.io.fits as fits\n",
    "from scipy.optimize import leastsq\n",
    "from scipy import ndimage\n",
    "from func import *"
   ]
  },
  {
   "cell_type": "code",
   "execution_count": 2,
   "metadata": {},
   "outputs": [],
   "source": [
    "def agn_brightest_pixel(QSO_cube,wo_cube,wo_wave,z):\n",
    "    QSO_slice = QSO_cube[0,:,:]\n",
    "    k = 1 + z\n",
    "    [guess_y,guess_x] = ndimage.measurements.maximum_position(QSO_slice)\n",
    "        \n",
    "    select = (wo_wave>5006*k) & (wo_wave<5009*k) \n",
    "    wo_cube = wo_cube[select]\n",
    "    print (np.shape(wo_cube))\n",
    "    test_cube = wo_cube[:,guess_y-5:guess_y+5,guess_x-5:guess_x+5]\n",
    "    test_slice = test_cube[1,:,:]\n",
    "    [y0,x0] = ndimage.measurements.maximum_position(test_slice)\n",
    "    [yn,xn] = (y0+guess_y-5,x0+guess_x-5)\n",
    "        #(xn,yn) = brightest_pixel(QSO_cube,wo_cube,wo_wave,z)\n",
    "    return xn,yn\n",
    "\n",
    "def central_pix_tab(obj,x0,y0,destination_path_cube=\"/home/mainak/Downloads/Outflow_paper1/MUSE\"):\n",
    "    data = [x0,y0]\n",
    "    column_names={'x0':0,'y0':1}\n",
    "    columns=[]\n",
    "    for key in column_names.keys():\n",
    "        columns.append(fits.Column(name=key,format='E',array=[data[column_names[key]]]))\n",
    "    coldefs = fits.ColDefs(columns)\n",
    "    hdu = fits.BinTableHDU.from_columns(coldefs)\n",
    "    hdu.writeto('%s/%s/%s_AGNpix.fits'%(destination_path_cube,obj,obj),overwrite=True)\n",
    "\n",
    "    "
   ]
  },
  {
   "cell_type": "code",
   "execution_count": 3,
   "metadata": {},
   "outputs": [],
   "source": [
    "def algorithm_script(obj,z,prefix_path_cube=\"/home/mainak/ftp.hidrive.strato.com/users/login-carsftp/IFU_data\",destination_path_cube=\"/home/mainak/Downloads/Outflow_paper1/MUSE\"):\n",
    "    print ('%s'%(obj))\n",
    "    #try:\n",
    "    (orig_cube,orig_err,orig_wave,orig_header) = loadMainCube('%s/MUSE/%s/%s.final.fits'%(prefix_path_cube,obj,obj))\n",
    "    #except IOError:\n",
    "    #(orig_cube,orig_err,orig_wave,orig_header) = loadCube('%s/MUSE/%s/%s.unbinned.fits'%(prefix_path_cube,obj,obj))   \n",
    "    (cont_cube,cont_err,cont_wave,cont_header) = loadCube('%s/MUSE/%s/fitting/full/%s.cont_model.fits'%(prefix_path_cube,obj,obj))\n",
    "    (QSO_cube,QSO_err,QSO_wave,QSO_header) = loadCube('%s/MUSE/%s/%s.QSO_full.fits'%(prefix_path_cube,obj,obj))\n",
    "    (wo_cube,wo_err,wo_wave,wo_header) = loadCube('%s/%s/%s.wo_absorption.fits'%(destination_path_cube,obj,obj)) \n",
    "    \n",
    "    (x0,y0) = agn_brightest_pixel(QSO_cube,wo_cube,wo_wave,z)\n",
    "    (x,y) = alternative_brightest_pixel(QSO_cube)\n",
    "    print (x0,y0)\n",
    "    print (x,y)\n",
    "    central_pix_tab(obj,x0,y0)"
   ]
  },
  {
   "cell_type": "code",
   "execution_count": 4,
   "metadata": {},
   "outputs": [
    {
     "name": "stdout",
     "output_type": "stream",
     "text": [
      "HE0021-1810\n",
      "(2, 314, 308)\n",
      "162 150\n",
      "163 150\n"
     ]
    }
   ],
   "source": [
    "z = {\"HE0021-1810\":0.05352}\n",
    "\n",
    "objs = z.keys()\n",
    "\n",
    "\n",
    "for obj in objs:\n",
    "     algorithm_script(obj,z[obj]) \n"
   ]
  },
  {
   "cell_type": "code",
   "execution_count": 4,
   "metadata": {},
   "outputs": [
    {
     "name": "stdout",
     "output_type": "stream",
     "text": [
      "HE0021-1810\n",
      "(2, 157, 154)\n",
      "81 75\n",
      "80 75\n",
      "HE0040-1105\n",
      "(2, 315, 320)\n",
      "191 151\n",
      "190 151\n",
      "HE0114-0015\n",
      "(2, 315, 320)\n",
      "167 161\n",
      "167 162\n",
      "HE0212-0059\n",
      "(2, 312, 321)\n",
      "160 158\n",
      "160 157\n",
      "HE2128-0221\n",
      "(3, 315, 320)\n",
      "156 212\n",
      "156 211\n"
     ]
    }
   ],
   "source": [
    "z = {\"HE0021-1810\":0.05352,\"HE0040-1105\":0.041692,\"HE0114-0015\":0.04560,\"HE0212-0059\":0.026385,\"HE2128-0221\":0.05248}\n",
    "\n",
    "objs = z.keys()\n",
    "\n",
    "\n",
    "for obj in objs:\n",
    "     algorithm_script(obj,z[obj]) \n"
   ]
  },
  {
   "cell_type": "code",
   "execution_count": 5,
   "metadata": {},
   "outputs": [
    {
     "name": "stdout",
     "output_type": "stream",
     "text": [
      "HE1330-1013\n",
      "(3, 315, 319)\n",
      "157 160\n",
      "157 160\n"
     ]
    }
   ],
   "source": [
    "z = {\"HE1330-1013\":0.022145}\n",
    "\n",
    "objs = z.keys()\n",
    "\n",
    "\n",
    "for obj in objs:\n",
    "     algorithm_script(obj,z[obj]) \n"
   ]
  },
  {
   "cell_type": "code",
   "execution_count": null,
   "metadata": {},
   "outputs": [],
   "source": []
  }
 ],
 "metadata": {
  "kernelspec": {
   "display_name": "Python 3",
   "language": "python",
   "name": "python3"
  },
  "language_info": {
   "codemirror_mode": {
    "name": "ipython",
    "version": 3
   },
   "file_extension": ".py",
   "mimetype": "text/x-python",
   "name": "python",
   "nbconvert_exporter": "python",
   "pygments_lexer": "ipython3",
   "version": "3.7.3"
  }
 },
 "nbformat": 4,
 "nbformat_minor": 2
}
