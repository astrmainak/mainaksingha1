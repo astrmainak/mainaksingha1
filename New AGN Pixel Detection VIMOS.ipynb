{
 "cells": [
  {
   "cell_type": "code",
   "execution_count": 1,
   "metadata": {},
   "outputs": [],
   "source": [
    "import numpy as np\n",
    "import matplotlib.pyplot as plt\n",
    "import astropy.io.fits as fits\n",
    "from scipy.optimize import leastsq\n",
    "from scipy import ndimage\n",
    "from func import *"
   ]
  },
  {
   "cell_type": "code",
   "execution_count": 2,
   "metadata": {},
   "outputs": [],
   "source": [
    "def central_pix_tab(obj,x0,y0,destination_path_cube=\"/home/rickeythecat/Downloads/Outflow_paper1/VIMOS\"):\n",
    "    data = [x0,y0]\n",
    "    column_names={'x0':0,'y0':1}\n",
    "    columns=[]\n",
    "    for key in column_names.keys():\n",
    "        columns.append(fits.Column(name=key,format='E',array=[data[column_names[key]]]))\n",
    "    coldefs = fits.ColDefs(columns)\n",
    "    hdu = fits.BinTableHDU.from_columns(coldefs)\n",
    "    hdu.writeto('%s/%s/%s_AGNpix.fits'%(destination_path_cube,obj,obj),overwrite=True)\n",
    "\n",
    "    "
   ]
  },
  {
   "cell_type": "code",
   "execution_count": 7,
   "metadata": {},
   "outputs": [],
   "source": [
    "def algorithm_script(obj,z,prefix_path_cube=\"/media/rickeythecat/Seagate/ftp.hidrive.strato.com/users/login-carsftp/IFU_data\",destination_path_cube=\"/home/rickeythecat/Downloads/Outflow_paper1/VIMOS\"):\n",
    "    print ('%s'%(obj))\n",
    "    (orig_cube,orig_err,orig_wave,orig_header) = loadCube('%s/VIMOS_O3Ha/%s/%s_blue.rscube.fits'%(prefix_path_cube,obj,obj))\n",
    "    #(cont_cube,cont_err,cont_wave,cont_header) = loadCube('%s/MUSE/%s/fitting/full/%s.cont_model.fits'%(prefix_path_cube,obj,obj))\n",
    "    #(QSO_cube,QSO_err,QSO_wave,QSO_header) = loadCube('%s/MUSE/%s/%s.QSO_full.fits'%(prefix_path_cube,obj,obj))\n",
    "    (wo_cube,wo_err,wo_wave,wo_header) = loadCube('%s/%s/%s.wo_absorption_blue.fits'%(destination_path_cube,obj,obj)) \n",
    "\n",
    "    (x0,y0) = alternative_brightest_pixel(orig_cube)\n",
    "    print (x0,y0)\n",
    " \n",
    "    central_pix_tab(obj,x0,y0)"
   ]
  },
  {
   "cell_type": "code",
   "execution_count": 8,
   "metadata": {},
   "outputs": [
    {
     "name": "stdout",
     "output_type": "stream",
     "text": [
      "HE1310-1051\n",
      "19 22\n",
      "HE1338-1423\n",
      "21 23\n"
     ]
    }
   ],
   "source": [
    "z = {\"HE1310-1051\":0.03427,\"HE1338-1423\":0.04179}\n",
    "\n",
    "objs = z.keys()\n",
    "\n",
    "\n",
    "for obj in objs:\n",
    "     algorithm_script(obj,z[obj]) \n"
   ]
  },
  {
   "cell_type": "code",
   "execution_count": null,
   "metadata": {},
   "outputs": [],
   "source": []
  }
 ],
 "metadata": {
  "kernelspec": {
   "display_name": "Python 3",
   "language": "python",
   "name": "python3"
  },
  "language_info": {
   "codemirror_mode": {
    "name": "ipython",
    "version": 3
   },
   "file_extension": ".py",
   "mimetype": "text/x-python",
   "name": "python",
   "nbconvert_exporter": "python",
   "pygments_lexer": "ipython3",
   "version": "3.7.6"
  }
 },
 "nbformat": 4,
 "nbformat_minor": 2
}
