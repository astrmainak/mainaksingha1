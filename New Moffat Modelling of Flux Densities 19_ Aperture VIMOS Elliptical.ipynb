{
 "cells": [
  {
   "cell_type": "code",
   "execution_count": 1,
   "metadata": {},
   "outputs": [],
   "source": [
    "import numpy as np\n",
    "import matplotlib.pyplot as plt\n",
    "import astropy.io.fits as fits\n",
    "from numpy import exp\n",
    "from scipy import ndimage\n",
    "from VMOSfunc import *\n",
    "from astropy.table import Table, hstack\n",
    "import os\n",
    "import glob\n",
    "from astropy.table import Table, vstack, join\n",
    "import pandas as pd\n",
    "from shutil import copyfile\n",
    "from scipy.optimize import leastsq\n",
    "from cosmocalc import dist\n",
    "from pprint import pprint\n"
   ]
  },
  {
   "cell_type": "code",
   "execution_count": 2,
   "metadata": {},
   "outputs": [],
   "source": [
    "def flux_data_err(obj,destination_path_cube=\"/home/rickeythecat/Downloads/Outflow_paper1/VIMOS\"):\n",
    "    hdu = fits.open('%s/Flux Maps/%s/19_arcsec_subcube_par_%s.fits'%(destination_path_cube,obj,obj))\n",
    "    (OIII_nr,OIII_br,Hb1_blr_br,Hb2_blr_br) = (hdu[2].data,hdu[3].data,hdu[5].data,hdu[6].data)\n",
    "    hdu.close()\n",
    "    \n",
    "    hdu = fits.open('%s/Flux Maps/%s/19_arcsec_subcube_par_err_%s.fits'%(destination_path_cube,obj,obj))\n",
    "    (OIII_nr_err,OIII_br_err,Hb1_blr_br_err,Hb2_blr_br_err) = (hdu[2].data,hdu[3].data,hdu[5].data,hdu[6].data)\n",
    "    hdu.close()\n",
    "    \n",
    "    hdu = fits.open('%s/%s/%s_19_arcsec_empirical_factor_subcube.fits'%(destination_path_cube,obj,obj))\n",
    "    central_tab = hdu[1].data\n",
    "    central_columns = hdu[1].header\n",
    "    (emp_Hb1,emp_Hb2) = (central_tab.field('emp_fact_Hb1')[0],central_tab.field('emp_fact_Hb2')[0])\n",
    "    hdu.close()\n",
    "    \n",
    "    (amp_OIII_nr,amp_OIII_br,amp_Hb1_blr_br,amp_Hb2_blr_br) = (np.max(OIII_nr),np.max(OIII_br),np.max(Hb1_blr_br),np.max(Hb2_blr_br))\n",
    "    if amp_Hb1_blr_br > amp_Hb2_blr_br:\n",
    "        (Hb_blr_br,amp_Hb_blr_br,Hb_blr_err,emp_Hb_blr) = (Hb1_blr_br,amp_Hb1_blr_br,Hb1_blr_br_err,emp_Hb1)\n",
    "    else:\n",
    "        (Hb_blr_br,amp_Hb_blr_br,Hb_blr_err,emp_Hb_blr) = (Hb2_blr_br,amp_Hb2_blr_br,Hb2_blr_br_err,emp_Hb2)\n",
    "    print (emp_Hb_blr)\n",
    "    (blr_err_final,wing_err_final,core_err_final) = (emp_Hb_blr*Hb_blr_err,emp_Hb_blr*OIII_br_err,OIII_nr_err)\n",
    "    return Hb_blr_br,OIII_br,OIII_nr,amp_Hb_blr_br,amp_OIII_br,amp_OIII_nr,blr_err_final,wing_err_final,core_err_final\n",
    "    "
   ]
  },
  {
   "cell_type": "code",
   "execution_count": 3,
   "metadata": {},
   "outputs": [],
   "source": [
    "def remove_bad_pixel(data,err):\n",
    "    data[data == 0.01] = 0\n",
    "    err[err < 10**(-7)] =10**(10)  \n",
    "    return data,err"
   ]
  },
  {
   "cell_type": "code",
   "execution_count": 4,
   "metadata": {},
   "outputs": [],
   "source": [
    "def ellip_moffat2D(p,xy,data,error):\n",
    "    xy=(x,y)\n",
    "    [amp, x0, y0, A, B, C, alpha] = p \n",
    "    g = amp*((1.0+A*(x-x0)**2+B*(y-y0)**2+C*(x-x0)*(y-y0))**(-alpha))\n",
    "    h = (data - g)/error\n",
    "    return h.ravel()\n",
    "\n",
    "def ellip_moffat2D_fixkin(p,xy,data,error,fixed_param):\n",
    "    [A,B,C,alpha] = fixed_param\n",
    "    xy=(x,y)\n",
    "    [amp, x0, y0] = p    \n",
    "    g = amp*((1.0+(A*((x-x0)**2))+(B*((y-y0)**2))+(C*(x-x0)*(y-y0)))**(-alpha))\n",
    "    h = (data - g)/error\n",
    "    return h.ravel()"
   ]
  },
  {
   "cell_type": "code",
   "execution_count": 9,
   "metadata": {},
   "outputs": [],
   "source": [
    "def elliptical_moffat_fit(x_BH,y_BH,data,error,box_size,amp,x0,y0,muse_sampling_size,fix_par,MC_loops=100):\n",
    "    y, x = np.mgrid[:box_size, :box_size]\n",
    "    xy=(x,y)\n",
    "    \n",
    "    if fix_par is None:\n",
    "        #p= [amp,x0,y0,0.1,0.1,-0.00008,3\n",
    "        p= [amp,x0,y0,1.11521262e-01,1.72774616e-01,3.95458884e-04,3.79696142e+00]\n",
    "        popt,pcov = leastsq(ellip_moffat2D,x0=p,args=(xy,data,error),maxfev = 10000000)\n",
    "        [amp_out,x0_out,y0_out,A_out,B_out,C_out,alpha_out]= popt\n",
    "        theta_out = 0.5*np.arctan(C_out/(A_out - B_out))\n",
    "        a_out = np.sqrt(2/(A_out + B_out + np.sqrt(C_out**2 +(A_out - B_out)**2)))\n",
    "        b_out = np.sqrt(2/(A_out + B_out - np.sqrt(C_out**2 +(A_out - B_out)**2)))\n",
    "        [fwhm1_out,fwhm2_out] = [2*a_out*np.sqrt(2**(1/alpha_out)-1),2*b_out*np.sqrt(2**(1/alpha_out)-1)]\n",
    "        e_out = np.sqrt(1-((fwhm1_out**2)/(fwhm2_out**2)))\n",
    "        par = [amp_out,x0_out,y0_out,A_out,B_out,C_out,alpha_out,a_out,b_out,theta_out,fwhm1_out,fwhm2_out,e_out]\n",
    "        mod_rav = data.ravel() - ellip_moffat2D(popt,xy,data,error)*error.ravel()\n",
    "    else:\n",
    "        p= [amp,x0,y0]\n",
    "        popt,pcov = leastsq(ellip_moffat2D_fixkin,x0=p,args=(xy,data,error,fix_par),maxfev = 10000000)\n",
    "        [amp_out,x0_out,y0_out]= popt\n",
    "        par = popt\n",
    "        mod_rav = data.ravel() - ellip_moffat2D_fixkin(popt,xy,data,error,fix_par)*error.ravel()\n",
    "    model = mod_rav.reshape(box_size,box_size)\n",
    "    radius = 2\n",
    "    [x1,y1] = ndimage.measurements.maximum_position(data) # Define the PSF center\n",
    "    small_data = data[(x-x1)**2 + (y-y1)**2 <= radius**2]\n",
    "    small_model = model[(x-x1)**2 + (y-y1)**2 <= radius**2]\n",
    "    ratio_flux = np.sum(small_data)/np.sum(small_model)\n",
    "    \n",
    "    full_par = np.append(par,ratio_flux)\n",
    "    residual = data-model\n",
    "    res = (residual/error)\n",
    "    \n",
    "    ratio_MC = np.zeros((1,MC_loops))\n",
    "    parameters_MC = np.zeros((len(par),MC_loops))\n",
    "    for l in range(MC_loops):\n",
    "        iteration_data = np.random.normal(data,error) \n",
    "        if fix_par is None:\n",
    "            p= [amp,x0,y0,0.1,0.1,-0.00008,3]\n",
    "            popt_MC,pcov_MC = leastsq(ellip_moffat2D,x0=p,args=(xy,iteration_data,error),maxfev = 10000000)\n",
    "            [amp_MC,x0_MC,y0_MC,A_MC,B_MC,C_MC,alpha_MC]= popt_MC\n",
    "            theta_MC = 0.5*np.arctan(C_MC/(A_MC - B_MC))\n",
    "            a_MC = np.sqrt(2/(A_MC + B_MC + np.sqrt(C_MC**2 +(A_MC - B_MC)**2)))\n",
    "            b_MC = np.sqrt(2/(A_MC + B_MC - np.sqrt(C_MC**2 +(A_MC - B_MC)**2)))\n",
    "            [fwhm1_MC,fwhm2_MC] = [2*a_MC*np.sqrt(2**(1/alpha_MC)-1),2*b_MC*np.sqrt(2**(1/alpha_MC)-1)]\n",
    "            e_MC = np.sqrt(1-((fwhm1_MC**2)/(fwhm2_MC**2)))\n",
    "            par_MC = [amp_MC,x0_MC,y0_MC,A_MC,B_MC,C_MC,alpha_MC,a_MC,b_MC,theta_MC,fwhm1_MC,fwhm2_MC,e_MC]   \n",
    "            mod_rav_MC = iteration_data.ravel() - ellip_moffat2D(popt_MC,xy,iteration_data,error)*error.ravel() \n",
    "            parameters_MC[:,l] = par_MC\n",
    "        else:\n",
    "            p= [amp,x0,y0]\n",
    "            popt_MC,pcov_MC = leastsq(ellip_moffat2D_fixkin,x0=p,args=(xy,iteration_data,error,fix_par),maxfev = 10000000)\n",
    "            [amp_MC,x0_out,y0_out]= popt_MC\n",
    "            mod_rav_MC = iteration_data.ravel() - ellip_moffat2D_fixkin(popt_MC,xy,iteration_data,error,fix_par)*error.ravel()\n",
    "            parameters_MC[:,l] = popt_MC   \n",
    "        model_MC = mod_rav_MC.reshape(box_size,box_size)\n",
    "        radius = 2\n",
    "        [x1,y1] = ndimage.measurements.maximum_position(iteration_data) # Define the PSF center\n",
    "        small_data_MC = iteration_data[(x-x1)**2 + (y-y1)**2 <= radius**2]\n",
    "        small_model_MC = model_MC[(x-x1)**2 + (y-y1)**2 <= radius**2]\n",
    "        ratio_flux_MC = np.sum(small_data_MC)/np.sum(small_model_MC)\n",
    "        ratio_MC[:,l] = ratio_flux_MC\n",
    "    ratio_err = np.nanstd(ratio_MC,1)\n",
    "    par_err = np.nanstd(parameters_MC,1) \n",
    "    parameters_err = np.append(par_err,ratio_err)\n",
    "\n",
    "    return full_par,parameters_err,model,res"
   ]
  },
  {
   "cell_type": "code",
   "execution_count": 10,
   "metadata": {},
   "outputs": [],
   "source": [
    "def moffat_table(full_data,full_error,D_A,D_L,muse_sampling_size,obj,destination_path_cube=\"/home/rickeythecat/Downloads/Outflow_paper1/VIMOS\"):\n",
    "    final_data = np.append(full_data,[D_A,D_L,muse_sampling_size])\n",
    "    final_error = np.append(full_error,[0,0,0])\n",
    "    column_names={'amp_Hb_blr':0,'x0_Hb_Blr':1,'y0_Hb_Blr':2,'A':3,'B':4,'C':5,'alpha':6,'a':7,'b':8,'theta':9,'fwhm1':10,'fwhm2':11,'e':12,'r_BLR':13,'amp_OIII_br':14,'x0_OIII_br':15,'y0_OIII_br':16,'r_wing':17,'amp_OIII_nr':18,'x0_OIII_nr':19,'y0_OIII_nr':20,'r_core':21,'D_A':22,'D_L':23,'sampling_size':24}\n",
    "    columns=[]\n",
    "    for key in column_names.keys():\n",
    "        columns.append(fits.Column(name=key,format='E',array=[final_data[column_names[key]]]))\n",
    "        columns.append(fits.Column(name=key+'_err',format='E',array=[final_error[column_names[key]]]))\n",
    "    coldefs = fits.ColDefs(columns)\n",
    "    hdu = fits.BinTableHDU.from_columns(coldefs)\n",
    "    hdu.writeto('%s/%s/19_arcsec_moffat_table_%s.fits'%(destination_path_cube,obj,obj),overwrite=True)\n",
    "    \n",
    "def source_moffat_table(obj,destination_path_cube=\"/home/rickeythecat/Downloads/Outflow_paper1/VIMOS\"):\n",
    "    t1 = Table.read('%s/%s/source_%s.fits'%(destination_path_cube,obj,obj),format='fits')\n",
    "    t2 = Table.read('%s/%s/19_arcsec_moffat_table_%s.fits'%(destination_path_cube,obj,obj),format='fits')\n",
    "    new = hstack([t1, t2])\n",
    "    new.write('%s/%s/%s_19_arcsec_moffat_table.fits'%(destination_path_cube,obj,obj),overwrite=True)\n",
    "\n",
    "\n",
    "def maps(Hb_blr_br_data,OIII_br_data,OIII_nr_data,Hb_model,OIII_br_model,OIII_nr_model,Hb_res,OIII_br_res,OIII_nr_res,obj,destination_path_cube=\"/home/rickeythecat/Downloads/Outflow_paper1/VIMOS\"):\n",
    "    hdus=[]\n",
    "    hdus.append(fits.PrimaryHDU())\n",
    "    hdus.append(fits.ImageHDU(Hb_blr_br_data,name='Hb_blr_br_data'))\n",
    "    hdus.append(fits.ImageHDU(OIII_br_data,name='OIII_br_data'))\n",
    "    hdus.append(fits.ImageHDU(OIII_nr_data,name='OIII_nr_data'))\n",
    "    hdus.append(fits.ImageHDU(Hb_model,name='Hb_blr_br_model'))\n",
    "    hdus.append(fits.ImageHDU(OIII_br_model,name='OIII_br_model'))   \n",
    "    hdus.append(fits.ImageHDU(OIII_nr_model,name='OIII_nr_model'))\n",
    "    hdus.append(fits.ImageHDU(Hb_res,name='Hb_blr_br_res'))\n",
    "    hdus.append(fits.ImageHDU(OIII_br_res,name='OIII_br_res'))\n",
    "    hdus.append(fits.ImageHDU(OIII_nr_res,name='OIII_nr_res'))\n",
    "    hdu = fits.HDUList(hdus)\n",
    "    hdu.writeto('%s/%s/19_arcsec_maps_%s.fits'%(destination_path_cube,obj,obj),overwrite='True')\n",
    "\n",
    "def fluxden_compare(obj,Hb_blr_br_data,OIII_br_data,Hb_model,OIII_br_model,Hb_blr_br_err,OIII_br_err,destination_path_cube=\"/home/rickeythecat/Downloads/Outflow_paper1/VIMOS\"):\n",
    "    f_blr_data = np.sum(Hb_blr_br_data)\n",
    "    f_wing_data = np.sum(OIII_br_data)\n",
    "    f_blr_model = np.sum(Hb_model)\n",
    "    f_wing_model = np.sum(OIII_br_model)\n",
    "    f_blr_err = np.sqrt(np.sum(Hb_blr_br_err**2))\n",
    "    f_wing_err = np.sqrt(np.sum(OIII_br_err**2))\n",
    "    tab_par = [f_blr_data,f_wing_data,f_blr_model,f_wing_model]\n",
    "    tab_err = [f_blr_err,f_wing_err,0,0]\n",
    "    column_names={'flux_blr_data':0,'flux_wing_data':1,'flux_blr_model':2,'flux_wing_model':3}\n",
    "    columns=[]\n",
    "    for key in column_names.keys():\n",
    "        columns.append(fits.Column(name=key,format='E',array=[tab_par[column_names[key]]]))\n",
    "        columns.append(fits.Column(name=key+'_err',format='E',array=[tab_err[column_names[key]]]))\n",
    "    coldefs = fits.ColDefs(columns)\n",
    "    hdu = fits.BinTableHDU.from_columns(coldefs)\n",
    "    hdu.writeto('%s/%s/%s_19_arcsec_fluxden_HbOIII.fits'%(destination_path_cube,obj,obj),overwrite=True)\n",
    "    \n",
    "def fluxden_comp_table(obj,destination_path_cube=\"/home/rickeythecat/Downloads/Outflow_paper1/VIMOS\"):\n",
    "    t1 = Table.read('%s/%s/source_%s.fits'%(destination_path_cube,obj,obj),format='fits')\n",
    "    t2 = Table.read('%s/%s/%s_19_arcsec_fluxden_HbOIII.fits'%(destination_path_cube,obj,obj),format='fits')\n",
    "    new = hstack([t1, t2])\n",
    "    new.write('%s/%s/%s_19_arcsec_fluxden_HbOIII.fits'%(destination_path_cube,obj,obj),overwrite=True)\n",
    "    \n",
    "def emp_table(obj,emp_blr,emp_wing,destination_path_cube=\"/home/rickeythecat/Downloads/Outflow_paper1/VIMOS\"):\n",
    "    popt = [emp_blr,emp_wing]\n",
    "    column_names={'emp_fact_blr':0,'emp_fact_wing':1}\n",
    "    columns=[]\n",
    "    for key in column_names.keys():\n",
    "        columns.append(fits.Column(name=key,format='E',array=[popt[column_names[key]]]))\n",
    "    coldefs = fits.ColDefs(columns)\n",
    "    hdu = fits.BinTableHDU.from_columns(coldefs)\n",
    "    hdu.writeto('%s/%s/%s_19_arcsec_scaling_subcube.fits'%(destination_path_cube,obj,obj),overwrite=True)\n",
    "\n",
    "def emp_fact_table(obj,destination_path_cube=\"/home/rickeythecat/Downloads/Outflow_paper1/VIMOS\"):\n",
    "    t1 = Table.read('%s/%s/source_%s.fits'%(destination_path_cube,obj,obj),format='fits')\n",
    "    t2 = Table.read('%s/%s/%s_19_arcsec_scaling_subcube.fits'%(destination_path_cube,obj,obj),format='fits')\n",
    "    new = hstack([t1, t2])\n",
    "    new.write('%s/%s/%s_19_arcsec_scaling_subcube.fits'%(destination_path_cube,obj,obj),overwrite=True)"
   ]
  },
  {
   "cell_type": "code",
   "execution_count": 11,
   "metadata": {},
   "outputs": [],
   "source": [
    "def algorithm_script(obj,z,destination_path_cube=\"/home/rickeythecat/Downloads/Outflow_paper1/VIMOS\"):  \n",
    "    print ('%s'%(obj))\n",
    "    (Hb_blr_br_dat,OIII_br_dat,OIII_nr_dat,amp_Hb_blr_br,amp_OIII_br,amp_OIII_nr,Hb_blr_br_error,OIII_br_error,OIII_nr_error) = flux_data_err(obj)\n",
    "    (Hb_blr_br_data,Hb_blr_br_err) = remove_bad_pixel(Hb_blr_br_dat,Hb_blr_br_error)\n",
    "    (OIII_br_data,OIII_br_err) = remove_bad_pixel(OIII_br_dat,OIII_br_error)\n",
    "    (OIII_nr_data,OIII_nr_err) = remove_bad_pixel(OIII_nr_dat,OIII_nr_error)  \n",
    "    box_size = np.shape(Hb_blr_br_data)[0]\n",
    "    (brightest_pixel_Hb_blr_br_x,brightest_pixel_Hb_blr_br_y,brightest_pixel_OIII_br_x,brightest_pixel_OIII_br_y,brightest_pixel_OIII_nr_x,brightest_pixel_OIII_nr_y) = brightest_pixel_flux_map(Hb_blr_br_data,OIII_br_data,OIII_nr_data) \n",
    "    (x_BH,y_BH) = (brightest_pixel_Hb_blr_br_x,brightest_pixel_Hb_blr_br_y)\n",
    "    print (brightest_pixel_OIII_nr_x,brightest_pixel_OIII_nr_y)\n",
    "    \n",
    "    if box_size ==45:\n",
    "        muse_sampling_size = 0.66\n",
    "    else:\n",
    "        muse_sampling_size = 0.66\n",
    "  \n",
    "    print (muse_sampling_size)\n",
    "    (Hb_par,Hb_error,Hb_model,Hb_res) = elliptical_moffat_fit(x_BH,y_BH,Hb_blr_br_data,Hb_blr_br_err,box_size,amp_Hb_blr_br,brightest_pixel_Hb_blr_br_x,brightest_pixel_Hb_blr_br_y,muse_sampling_size,None,100)\n",
    "    print (Hb_par,Hb_error)\n",
    "    #print (red_chi_sq_Hb)\n",
    "    fixed_param = [Hb_par[3],Hb_par[4],Hb_par[5],Hb_par[6]]\n",
    "    (OIII_br_par,OIII_br_error,OIII_br_model,OIII_br_res) = elliptical_moffat_fit(x_BH,y_BH,OIII_br_data,OIII_br_err,box_size,amp_OIII_br,brightest_pixel_OIII_br_x,brightest_pixel_OIII_br_y,muse_sampling_size,fixed_param,100)   \n",
    "    print (OIII_br_par,OIII_br_error)\n",
    "    (OIII_nr_par,OIII_nr_error,OIII_nr_model,OIII_nr_res) = elliptical_moffat_fit(x_BH,y_BH,OIII_nr_data,OIII_nr_err,box_size,amp_OIII_nr,brightest_pixel_OIII_nr_x,brightest_pixel_OIII_nr_y,muse_sampling_size,fixed_param,100)   \n",
    "    print (OIII_nr_par,OIII_nr_error)\n",
    "\n",
    "    (D_A,D_L) = dist(z, H0=70, WM=.286)\n",
    "    (full_data,full_error) = (np.append(Hb_par,[OIII_br_par,OIII_nr_par]),np.append(Hb_error,[OIII_br_error,OIII_nr_error]))\n",
    "    moffat_table(full_data,full_error,D_A,D_L,muse_sampling_size,obj,destination_path_cube=\"/home/rickeythecat/Downloads/Outflow_paper1/VIMOS\")\n",
    "    maps(Hb_blr_br_data,OIII_br_data,OIII_nr_data,Hb_model,OIII_br_model,OIII_nr_model,Hb_res,OIII_br_res,OIII_nr_res,obj)\n",
    "    fluxden_compare(obj,Hb_blr_br_data,OIII_br_data,Hb_model,OIII_br_model,Hb_blr_br_err,OIII_br_err)\n",
    "    source_moffat_table(obj)\n",
    "        \n",
    "    plt.imshow(Hb_blr_br_data,origin='lower')\n",
    "    plt.plot(Hb_par[1],Hb_par[2],'kx')\n",
    "    plt.show()\n",
    "    plt.imshow(Hb_model,origin='lower')\n",
    "    plt.plot(Hb_par[1],Hb_par[2],'kx')\n",
    "    plt.show()\n",
    "    plt.imshow(OIII_br_data,origin='lower')\n",
    "    plt.plot(OIII_br_par[1],OIII_br_par[2],'bx')\n",
    "    plt.show()\n",
    "    plt.imshow(OIII_br_model,origin='lower')\n",
    "    plt.plot(OIII_br_par[1],OIII_br_par[2],'bx')\n",
    "    plt.show()\n",
    "    plt.imshow(OIII_nr_data,origin='lower')\n",
    "    plt.plot(OIII_nr_par[1],OIII_nr_par[2],'gx')\n",
    "    plt.show()\n",
    "    plt.imshow(OIII_nr_model,origin='lower')\n",
    "    plt.plot(OIII_nr_par[1],OIII_nr_par[2],'gx')\n",
    "    plt.show()\n",
    "    "
   ]
  },
  {
   "cell_type": "code",
   "execution_count": 12,
   "metadata": {},
   "outputs": [
    {
     "name": "stdout",
     "output_type": "stream",
     "text": [
      "2.6828783\n",
      "HE1310-1051\n",
      "2.6828783\n",
      "14 14\n",
      "0.66\n",
      "[ 1.37990983e+00  1.36208547e+01  1.36740124e+01  1.11521300e-01\n",
      "  1.72774667e-01  3.95422188e-04  3.79695998e+00  2.40579804e+00\n",
      "  2.99448630e+00 -3.22771399e-03  2.15330617e+00  2.68021077e+00\n",
      "  5.95427202e-01  1.00667406e+00] [0.00437209 0.00278921 0.00185156 0.001922   0.00296155 0.000581\n",
      " 0.04419356 0.0205766  0.02577679 0.00469851 0.00565479 0.00700895\n",
      " 0.00204418 0.00067967]\n",
      "[ 2.69377825 13.6379676  13.65161323  1.01248565] [0.00907461 0.00579847 0.00418532 0.00312523]\n",
      "[10.03700748 13.60469665 13.69615993  0.98037296] [0.0064284  0.00088398 0.00076287 0.0005366 ]\n"
     ]
    },
    {
     "data": {
      "image/png": "[encoded data removed]",
      "text/plain": [
       "<Figure size 432x288 with 1 Axes>"
      ]
     },
     "metadata": {
      "needs_background": "light"
     },
     "output_type": "display_data"
    },
    {
     "data": {
      "image/png": "[encoded data removed]",
      "text/plain": [
       "<Figure size 432x288 with 1 Axes>"
      ]
     },
     "metadata": {
      "needs_background": "light"
     },
     "output_type": "display_data"
    },
    {
     "data": {
      "image/png": "[encoded data removed]",
      "text/plain": [
       "<Figure size 432x288 with 1 Axes>"
      ]
     },
     "metadata": {
      "needs_background": "light"
     },
     "output_type": "display_data"
    },
    {
     "data": {
      "image/png": "[encoded data removed]",
      "text/plain": [
       "<Figure size 432x288 with 1 Axes>"
      ]
     },
     "metadata": {
      "needs_background": "light"
     },
     "output_type": "display_data"
    },
    {
     "data": {
      "image/png": "[encoded data removed]",
      "text/plain": [
       "<Figure size 432x288 with 1 Axes>"
      ]
     },
     "metadata": {
      "needs_background": "light"
     },
     "output_type": "display_data"
    },
    {
     "data": {
      "image/png": "[encoded data removed]",
      "text/plain": [
       "<Figure size 432x288 with 1 Axes>"
      ]
     },
     "metadata": {
      "needs_background": "light"
     },
     "output_type": "display_data"
    },
    {
     "name": "stdout",
     "output_type": "stream",
     "text": [
      "2.3177226\n",
      "HE1338-1423\n",
      "2.3177226\n",
      "14 14\n",
      "0.66\n",
      "[ 4.90631426 13.7483605  13.94687862  0.2698351   0.49523027  0.03351426\n",
      "  2.93481525  1.41923335  1.92952386 -0.0738048   1.46505398  1.99181947\n",
      "  0.67748615  1.01737033] [0.06655853 0.00621358 0.00409875 0.01331773 0.02336106 0.00449527\n",
      " 0.08218292 0.03341099 0.04789899 0.00919735 0.01330986 0.01945817\n",
      " 0.00412385 0.002466  ]\n",
      "[12.28799496 13.6597225  13.66635295  0.74198506] [0.02958391 0.00228969 0.00240823 0.00174087]\n",
      "[10.24442901 13.66395388 13.92969961  1.16650038] [0.0166064  0.00188838 0.00099507 0.00153143]\n"
     ]
    },
    {
     "data": {
      "image/png": "[encoded data removed]",
      "text/plain": [
       "<Figure size 432x288 with 1 Axes>"
      ]
     },
     "metadata": {
      "needs_background": "light"
     },
     "output_type": "display_data"
    },
    {
     "data": {
      "image/png": "[encoded data removed]",
      "text/plain": [
       "<Figure size 432x288 with 1 Axes>"
      ]
     },
     "metadata": {
      "needs_background": "light"
     },
     "output_type": "display_data"
    },
    {
     "data": {
      "image/png": "[encoded data removed]",
      "text/plain": [
       "<Figure size 432x288 with 1 Axes>"
      ]
     },
     "metadata": {
      "needs_background": "light"
     },
     "output_type": "display_data"
    },
    {
     "data": {
      "image/png": "[encoded data removed]",
      "text/plain": [
       "<Figure size 432x288 with 1 Axes>"
      ]
     },
     "metadata": {
      "needs_background": "light"
     },
     "output_type": "display_data"
    },
    {
     "data": {
      "image/png": "[encoded data removed]",
      "text/plain": [
       "<Figure size 432x288 with 1 Axes>"
      ]
     },
     "metadata": {
      "needs_background": "light"
     },
     "output_type": "display_data"
    },
    {
     "data": {
      "image/png": "[encoded data removed]",
      "text/plain": [
       "<Figure size 432x288 with 1 Axes>"
      ]
     },
     "metadata": {
      "needs_background": "light"
     },
     "output_type": "display_data"
    }
   ],
   "source": [
    "z = {\"HE1310-1051\":0.03427,\"HE1338-1423\":0.04179}\n",
    "\n",
    "objs = z.keys()\n",
    "\n",
    "for obj in objs:\n",
    "    (Hb_blr_br_data,OIII_br_data,OIII_nr_data,amp_Hb_blr_br,amp_OIII_br,amp_OIII_nr,Hb_blr_br_err,OIII_br_err,OIII_nr_err) = flux_data_err(obj)\n",
    "    box_size = np.shape(Hb_blr_br_data)[1]  \n",
    "    y, x = np.mgrid[:box_size, :box_size]\n",
    "    xy=(x,y)\n",
    "    algorithm_script(obj,z[obj])"
   ]
  },
  {
   "cell_type": "code",
   "execution_count": null,
   "metadata": {},
   "outputs": [],
   "source": []
  }
 ],
 "metadata": {
  "kernelspec": {
   "display_name": "Python 3",
   "language": "python",
   "name": "python3"
  },
  "language_info": {
   "codemirror_mode": {
    "name": "ipython",
    "version": 3
   },
   "file_extension": ".py",
   "mimetype": "text/x-python",
   "name": "python",
   "nbconvert_exporter": "python",
   "pygments_lexer": "ipython3",
   "version": "3.7.6"
  }
 },
 "nbformat": 4,
 "nbformat_minor": 2
}
