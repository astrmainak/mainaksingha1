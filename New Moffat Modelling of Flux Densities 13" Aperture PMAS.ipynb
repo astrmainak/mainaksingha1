{
 "cells": [
  {
   "cell_type": "code",
   "execution_count": 1,
   "metadata": {},
   "outputs": [],
   "source": [
    "import numpy as np\n",
    "import matplotlib.pyplot as plt\n",
    "import astropy.io.fits as fits\n",
    "from numpy import exp\n",
    "from scipy import ndimage\n",
    "from PMASfunc import *\n",
    "from astropy.table import Table, hstack\n",
    "import os\n",
    "import glob\n",
    "from astropy.table import Table, vstack, join\n",
    "import pandas as pd\n",
    "from shutil import copyfile\n",
    "from scipy.optimize import leastsq"
   ]
  },
  {
   "cell_type": "code",
   "execution_count": 2,
   "metadata": {},
   "outputs": [],
   "source": [
    "def flux_data_err(obj,destination_path_cube=\"/home/mainak/Downloads/Outflow_paper1/PMAS\"):\n",
    "    hdu = fits.open('%s/Flux Maps/%s/13_arcsec_subcube_par_%s.fits'%(destination_path_cube,obj,obj))\n",
    "    (OIII_nr,OIII_br,Hb1_blr_br,Hb2_blr_br) = (hdu[2].data,hdu[3].data,hdu[5].data,hdu[6].data)\n",
    "    hdu.close()\n",
    "    \n",
    "    hdu = fits.open('%s/Flux Maps/%s/13_arcsec_subcube_par_err_%s.fits'%(destination_path_cube,obj,obj))\n",
    "    (OIII_nr_err,OIII_br_err,Hb1_blr_br_err,Hb2_blr_br_err) = (hdu[2].data,hdu[3].data,hdu[5].data,hdu[6].data)\n",
    "    hdu.close()\n",
    "    \n",
    "    hdu = fits.open('%s/%s/%s_13_arcsec_empirical_factor_subcube.fits'%(destination_path_cube,obj,obj))\n",
    "    central_tab = hdu[1].data\n",
    "    central_columns = hdu[1].header\n",
    "    (emp_Hb1,emp_Hb2,emp_wing) = (central_tab.field('emp_fact_Hb1')[0],central_tab.field('emp_fact_Hb2')[0],central_tab.field('emp_fact_wing')[0])\n",
    "    hdu.close()\n",
    "    \n",
    "    (amp_OIII_nr,amp_OIII_br,amp_Hb1_blr_br,amp_Hb2_blr_br) = (np.max(OIII_nr),np.max(OIII_br),np.max(Hb1_blr_br),np.max(Hb2_blr_br))\n",
    "    if amp_Hb1_blr_br > amp_Hb2_blr_br:\n",
    "        (Hb_blr_br,amp_Hb_blr_br,Hb_blr_err,emp_Hb_blr) = (Hb1_blr_br,amp_Hb1_blr_br,Hb1_blr_br_err,emp_Hb1)\n",
    "    else:\n",
    "        (Hb_blr_br,amp_Hb_blr_br,Hb_blr_err,emp_Hb_blr) = (Hb2_blr_br,amp_Hb2_blr_br,Hb2_blr_br_err,emp_Hb2)\n",
    "    print (emp_Hb_blr)\n",
    "    (blr_err_final,wing_err_final,core_err_final) = (emp_Hb_blr*Hb_blr_err,emp_wing*OIII_br_err,OIII_nr_err)\n",
    "    return Hb_blr_br,OIII_br,OIII_nr,amp_Hb_blr_br,amp_OIII_br,amp_OIII_nr,blr_err_final,wing_err_final,core_err_final\n",
    "    "
   ]
  },
  {
   "cell_type": "code",
   "execution_count": 3,
   "metadata": {},
   "outputs": [],
   "source": [
    "def ellip_moffat2D(p,xy,data,error):\n",
    "    xy=(x,y)\n",
    "    [amp, x0, y0, a, b, theta, alpha] = p    \n",
    "    A = ((np.cos(theta))/a)**2 + ((np.sin(theta))/b)**2 \n",
    "    B = ((np.sin(theta))/a)**2 + ((np.cos(theta))/b)**2 \n",
    "    C = 2.0*(np.sin(theta))*(np.cos(theta))*((1/a)**2-(1/b)**2)\n",
    "    g = amp*((1.0+A*(x-x0)**2+B*(y-y0)**2+C*(x-x0)*(y-y0))**(-alpha))\n",
    "    h = (data - g)/error\n",
    "    return h.ravel()\n",
    "\n",
    "def ellip_moffat2D_fixkin(p,xy,data,error,fixed_param):\n",
    "    [a,b,theta,alpha] = fixed_param\n",
    "    xy=(x,y)\n",
    "    [amp, x0, y0] = p    \n",
    "    A = ((np.cos(theta))/a)**2 + ((np.sin(theta))/b)**2 \n",
    "    B = ((np.sin(theta))/a)**2 + ((np.cos(theta))/b)**2 \n",
    "    C = 2.0*(np.sin(theta))*(np.cos(theta))*((1/a)**2-(1/b)**2)\n",
    "    g = amp*((1.0+A*(x-x0)**2+B*(y-y0)**2+C*(x-x0)*(y-y0))**(-alpha))\n",
    "    h = (data - g)/error\n",
    "    return h.ravel()"
   ]
  },
  {
   "cell_type": "code",
   "execution_count": 4,
   "metadata": {},
   "outputs": [],
   "source": [
    "def elliptical_moffat_fit(data,error,box_size,amp,x0,y0,fix_par,MC_loops=100):\n",
    "    x, y = np.mgrid[:box_size, :box_size]\n",
    "    xy=(x,y)\n",
    "\n",
    "    if fix_par is None:\n",
    "        p= [amp,x0,y0,2,1,2,2]\n",
    "        popt,pcov = leastsq(ellip_moffat2D,x0=p,args=(xy,data,error),maxfev = 10000000)\n",
    "        [amp_out,x0_out,y0_out,a_out,b_out,theta_out,alpha_out]= popt\n",
    "        [fwhm1_out,fwhm2_out] = [2*a_out*np.sqrt(2**(1/alpha_out)-1),2*b_out*np.sqrt(2**(1/alpha_out)-1)]\n",
    "        par = [amp_out,x0_out,y0_out,a_out,b_out,theta_out,alpha_out,fwhm1_out,fwhm2_out]\n",
    "        mod_rav = data.ravel() - ellip_moffat2D(popt,xy,data,error)*error.ravel()\n",
    "    else:\n",
    "        p= [amp,x0,y0]\n",
    "        popt,pcov = leastsq(ellip_moffat2D_fixkin,x0=p,args=(xy,data,error,fix_par),maxfev = 10000000)\n",
    "        [amp_out,x0_out,y0_out]= popt\n",
    "        par = popt\n",
    "        mod_rav = data.ravel() - ellip_moffat2D_fixkin(popt,xy,data,error,fix_par)*error.ravel()\n",
    " \n",
    "    model = mod_rav.reshape(box_size,box_size)\n",
    "    residual = data-model\n",
    "    res = (residual/error)\n",
    "\n",
    "    parameters_MC = np.zeros((len(par),MC_loops))\n",
    "    for l in range(MC_loops):\n",
    "        iteration_data = np.random.normal(data,error) \n",
    "        if fix_par is None:\n",
    "            p= [amp,x0,y0,2,3,1,1]\n",
    "            popt_MC,pcov_MC = leastsq(ellip_moffat2D,x0=p,args=(xy,iteration_data,error),maxfev = 10000000)\n",
    "            [amp_MC,x0_MC,y0_MC,a_MC,b_MC,theta_MC,alpha_MC]= popt_MC\n",
    "            [fwhm1_MC,fwhm2_MC] = [2*a_MC*np.sqrt(2**(1/alpha_MC)-1),2*b_MC*np.sqrt(2**(1/alpha_MC)-1)]\n",
    "            par_MC = [amp_MC,x0_MC,y0_MC,a_MC,b_MC,theta_MC,alpha_MC,fwhm1_MC,fwhm2_MC]   \n",
    "            parameters_MC[:,l] = par_MC    \n",
    "        else:\n",
    "            p= [amp,x0,y0]\n",
    "            popt_MC,pcov_MC = leastsq(ellip_moffat2D_fixkin,x0=p,args=(xy,iteration_data,error,fix_par),maxfev = 10000000)\n",
    "            [amp_MC,x0_out,y0_out]= popt_MC\n",
    "            parameters_MC[:,l] = popt_MC    \n",
    "    parameters_err = np.std(parameters_MC,1) \n",
    "    return par,parameters_err,model,res"
   ]
  },
  {
   "cell_type": "code",
   "execution_count": 5,
   "metadata": {},
   "outputs": [],
   "source": [
    "def chi_squared(data,model,err):\n",
    "    res = data - model\n",
    "    a = np.sum((res/err)**2)\n",
    "    return a\n",
    "\n",
    "def red_chi_squared(data,res,n_free):\n",
    "    dof = len(data.flatten()) - n_free\n",
    "    k = res\n",
    "    k[k>10**10]=0\n",
    "    l = k[k!=0]\n",
    "    a = np.sum(l**2)\n",
    "    red = a/dof\n",
    "    return red\n"
   ]
  },
  {
   "cell_type": "code",
   "execution_count": 6,
   "metadata": {},
   "outputs": [],
   "source": [
    "def moffat_table(full_data,full_error,obj,destination_path_cube=\"/home/mainak/Downloads/Outflow_paper1/PMAS\"):\n",
    "    column_names={'amp_Hb_blr':0,'x0_Hb_Blr':1,'y0_Hb_Blr':2,'a':3,'b':4,'theta':5,'alpha':6,'fwhm1':7,'fwhm2':8,'amp_OIII_br':9,'x0_OIII_br':10,'y0_OIII_br':11,'amp_OIII_nr':12,'x0_OIII_nr':13,'y0_OIII_nr':14}\n",
    "    columns=[]\n",
    "    for key in column_names.keys():\n",
    "        columns.append(fits.Column(name=key,format='E',array=[full_data[column_names[key]]]))\n",
    "        columns.append(fits.Column(name=key+'_err',format='E',array=[full_error[column_names[key]]]))\n",
    "    coldefs = fits.ColDefs(columns)\n",
    "    hdu = fits.BinTableHDU.from_columns(coldefs)\n",
    "    hdu.writeto('%s/%s/13_arcsec_moffat_table_%s.fits'%(destination_path_cube,obj,obj),overwrite=True)\n",
    "\n",
    "def maps(Hb_blr_br_data,OIII_br_data,OIII_nr_data,Hb_model,OIII_br_model,OIII_nr_model,Hb_res,OIII_br_res,OIII_nr_res,obj,destination_path_cube=\"/home/mainak/Downloads/Outflow_paper1/PMAS\"):\n",
    "    hdus=[]\n",
    "    hdus.append(fits.PrimaryHDU())\n",
    "    hdus.append(fits.ImageHDU(Hb_blr_br_data,name='Hb_blr_br_data'))\n",
    "    hdus.append(fits.ImageHDU(OIII_br_data,name='OIII_br_data'))\n",
    "    hdus.append(fits.ImageHDU(OIII_nr_data,name='OIII_nr_data'))\n",
    "    hdus.append(fits.ImageHDU(Hb_model,name='Hb_blr_br_model'))\n",
    "    hdus.append(fits.ImageHDU(OIII_br_model,name='OIII_br_model'))   \n",
    "    hdus.append(fits.ImageHDU(OIII_nr_model,name='OIII_nr_model'))\n",
    "    hdus.append(fits.ImageHDU(Hb_res,name='Hb_blr_br_res'))\n",
    "    hdus.append(fits.ImageHDU(OIII_br_res,name='OIII_br_res'))\n",
    "    hdus.append(fits.ImageHDU(OIII_nr_res,name='OIII_nr_res'))\n",
    "    hdu = fits.HDUList(hdus)\n",
    "    hdu.writeto('%s/%s/13_arcsec_maps_%s.fits'%(destination_path_cube,obj,obj),overwrite='True')\n",
    "\n",
    "def fluxden_compare(obj,Hb_blr_br_data,OIII_br_data,Hb_model,OIII_br_model,Hb_blr_br_err,OIII_br_err,destination_path_cube=\"/home/mainak/Downloads/Outflow_paper1/PMAS\"):\n",
    "    f_blr_data = np.sum(Hb_blr_br_data)\n",
    "    f_wing_data = np.sum(OIII_br_data)\n",
    "    f_blr_model = np.sum(Hb_model)\n",
    "    f_wing_model = np.sum(OIII_br_model)\n",
    "    f_blr_err = np.sqrt(np.sum(Hb_blr_br_err**2))\n",
    "    f_wing_err = np.sqrt(np.sum(OIII_br_err**2))\n",
    "    tab_par = [f_blr_data,f_wing_data,f_blr_model,f_wing_model]\n",
    "    tab_err = [f_blr_err,f_wing_err,0,0]\n",
    "    column_names={'flux_blr_data':0,'flux_wing_data':1,'flux_blr_model':2,'flux_wing_model':3}\n",
    "    columns=[]\n",
    "    for key in column_names.keys():\n",
    "        columns.append(fits.Column(name=key,format='E',array=[tab_par[column_names[key]]]))\n",
    "        columns.append(fits.Column(name=key+'_err',format='E',array=[tab_err[column_names[key]]]))\n",
    "    coldefs = fits.ColDefs(columns)\n",
    "    hdu = fits.BinTableHDU.from_columns(coldefs)\n",
    "    hdu.writeto('%s/%s/%s_13_arcsec_fluxden_HbOIII.fits'%(destination_path_cube,obj,obj),overwrite=True)\n",
    "    \n",
    "def fluxden_comp_table(obj,destination_path_cube=\"/home/mainak/Downloads/Outflow_paper1/PMAS\"):\n",
    "    t1 = Table.read('%s/%s/source_%s.fits'%(destination_path_cube,obj,obj),format='fits')\n",
    "    t2 = Table.read('%s/%s/%s_13_arcsec_fluxden_HbOIII.fits'%(destination_path_cube,obj,obj),format='fits')\n",
    "    new = hstack([t1, t2])\n",
    "    new.write('%s/%s/%s_13_arcsec_fluxden_HbOIII.fits'%(destination_path_cube,obj,obj),overwrite=True)\n",
    "    \n",
    "def emp_table(obj,emp_blr,emp_wing,destination_path_cube=\"/home/mainak/Downloads/Outflow_paper1/PMAS\"):\n",
    "    popt = [emp_blr,emp_wing]\n",
    "    column_names={'emp_fact_blr':0,'emp_fact_wing':1}\n",
    "    columns=[]\n",
    "    for key in column_names.keys():\n",
    "        columns.append(fits.Column(name=key,format='E',array=[popt[column_names[key]]]))\n",
    "    coldefs = fits.ColDefs(columns)\n",
    "    hdu = fits.BinTableHDU.from_columns(coldefs)\n",
    "    hdu.writeto('%s/%s/%s_13_arcsec_scaling_subcube.fits'%(destination_path_cube,obj,obj),overwrite=True)\n",
    "\n",
    "def emp_fact_table(obj,destination_path_cube=\"/home/mainak/Downloads/Outflow_paper1/PMAS\"):\n",
    "    t1 = Table.read('%s/%s/source_%s.fits'%(destination_path_cube,obj,obj),format='fits')\n",
    "    t2 = Table.read('%s/%s/%s_13_arcsec_scaling_subcube.fits'%(destination_path_cube,obj,obj),format='fits')\n",
    "    new = hstack([t1, t2])\n",
    "    new.write('%s/%s/%s_13_arcsec_scaling_subcube.fits'%(destination_path_cube,obj,obj),overwrite=True)"
   ]
  },
  {
   "cell_type": "code",
   "execution_count": 16,
   "metadata": {},
   "outputs": [],
   "source": [
    "def algorithm_script(obj,z,destination_path_cube=\"/home/mainak/Downloads/Outflow_paper1/PMAS\"):  \n",
    "    (Hb_blr_br_data,OIII_br_data,OIII_nr_data,amp_Hb_blr_br,amp_OIII_br,amp_OIII_nr,Hb_blr_br_err,OIII_br_err,OIII_nr_err) = flux_data_err(obj)\n",
    "    box_size = np.shape(Hb_blr_br_data)[0]\n",
    "    (brightest_pixel_Hb_blr_br_x,brightest_pixel_Hb_blr_br_y,brightest_pixel_OIII_br_x,brightest_pixel_OIII_br_y,brightest_pixel_OIII_nr_x,brightest_pixel_OIII_nr_y) = brightest_pixel_flux_map(Hb_blr_br_data,OIII_br_data,OIII_nr_data) \n",
    "\n",
    "    (Hb_par,Hb_error,Hb_model,Hb_res) = elliptical_moffat_fit(Hb_blr_br_data,Hb_blr_br_err,box_size,amp_Hb_blr_br,brightest_pixel_Hb_blr_br_x,brightest_pixel_Hb_blr_br_y,None,100)\n",
    "    print (Hb_par,Hb_error)\n",
    "    fixed_param = [Hb_par[3],Hb_par[4],Hb_par[5],Hb_par[6]]\n",
    "    (OIII_br_par,OIII_br_error,OIII_br_model,OIII_br_res) = elliptical_moffat_fit(OIII_br_data,OIII_br_err,box_size,amp_OIII_br,brightest_pixel_OIII_br_x,brightest_pixel_OIII_br_y,fixed_param,100)   \n",
    "    print (OIII_br_par,OIII_br_error)\n",
    "    (OIII_nr_par,OIII_nr_error,OIII_nr_model,OIII_nr_res) = elliptical_moffat_fit(OIII_nr_data,OIII_nr_err,box_size,amp_OIII_nr,brightest_pixel_OIII_nr_x,brightest_pixel_OIII_nr_y,fixed_param,100)   \n",
    "    #print (OIII_nr_par,OIII_nr_error)\n",
    "    red_chi_squared_Hb = red_chi_squared(Hb_blr_br_data,Hb_res,7)\n",
    "    red_chi_squared_OIII_br = red_chi_squared(OIII_br_data,OIII_br_res,3)\n",
    "    red_chi_squared_OIII_nr = red_chi_squared(OIII_nr_data,OIII_nr_res,3)\n",
    "    normalized_chi_squared_OIII_br = (red_chi_squared_OIII_br/red_chi_squared_Hb)\n",
    "    normalized_chi_squared_OIII_nr = (red_chi_squared_OIII_nr/red_chi_squared_Hb)\n",
    "    \n",
    "    flux_wing_data = np.sum(OIII_br_data)\n",
    "    flux_wing_model = np.sum(OIII_br_model)\n",
    "    flux_ratio = (flux_wing_data/flux_wing_model)\n",
    "    \n",
    "    print (normalized_chi_squared_OIII_br,flux_ratio)\n",
    "    plt.imshow(OIII_br_res,origin='lower',vmin=-5,vmax=5)\n",
    "    plt.colorbar()\n",
    "    plt.show()\n",
    "    \n",
    "    offset = np.sqrt((OIII_br_par[1] - Hb_par[1])**2 + (OIII_br_par[2] - Hb_par[2])**2)\n",
    "    print (\"offset is\",offset)\n",
    "    (full_data,full_error) = (np.append(Hb_par,[OIII_br_par,OIII_nr_par]),np.append(Hb_error,[OIII_br_error,OIII_nr_error]))\n",
    "    moffat_table(full_data,full_error,obj,destination_path_cube=\"/home/mainak/Downloads/Outflow_paper1/PMAS\")\n",
    "    maps(Hb_blr_br_data,OIII_br_data,OIII_nr_data,Hb_model,OIII_br_model,OIII_nr_model,Hb_res,OIII_br_res,OIII_nr_res,obj)\n",
    "    fluxden_compare(obj,Hb_blr_br_data,OIII_br_data,Hb_model,OIII_br_model,Hb_blr_br_err,OIII_br_err)"
   ]
  },
  {
   "cell_type": "code",
   "execution_count": 17,
   "metadata": {},
   "outputs": [
    {
     "name": "stdout",
     "output_type": "stream",
     "text": [
      "1.7620504\n",
      "[0.6798543004821861, 6.0636247490386115, 5.987101055194502, 2.335858191292213, 2.134645977728071, 2.8962618966995795, 5.309907679892439, 1.744507750022498, 1.5942348151027443] [2.33692495e-02 2.26234467e-02 2.43236016e-02 1.03435572e+01\n",
      " 1.15066793e+01 2.95547910e-01 9.52363450e+02 1.53571920e+00\n",
      " 1.63864967e+00]\n",
      "[0.22444277 5.97848829 6.13192569] [0.0060879  0.02251882 0.02568574]\n",
      "1.164596286822018 1.0938419999611266\n"
     ]
    },
    {
     "data": {
      "image/png": "[encoded data removed]",
      "text/plain": [
       "<Figure size 432x288 with 2 Axes>"
      ]
     },
     "metadata": {
      "needs_background": "light"
     },
     "output_type": "display_data"
    },
    {
     "name": "stdout",
     "output_type": "stream",
     "text": [
      "offset is 0.16799521310224913\n",
      "1.2549138\n",
      "[5.13821481601593, 6.081622951052727, 5.947407352166659, 1.8306378905630638, 1.7633181917217298, 1.7253560800041718, 3.460857030256859, 1.7240961890697881, 1.660694444344636] [0.09989696 0.00796688 0.0077537  0.06764976 0.07082589 2.70046871\n",
      " 0.15249937 0.03573013 0.0382352 ]\n",
      "[7.46541243 5.99235103 5.96143254] [0.02471857 0.00361364 0.00283352]\n",
      "6.52988749774908 0.9734207096332875\n"
     ]
    },
    {
     "data": {
      "image/png": "[encoded data removed]",
      "text/plain": [
       "<Figure size 432x288 with 2 Axes>"
      ]
     },
     "metadata": {
      "needs_background": "light"
     },
     "output_type": "display_data"
    },
    {
     "name": "stdout",
     "output_type": "stream",
     "text": [
      "offset is 0.0903669327963989\n"
     ]
    }
   ],
   "source": [
    "z = {\"HE0853-0126\":0.05981,\"HE0949-0122\":0.01993}\n",
    "\n",
    "objs = z.keys()\n",
    "\n",
    "for obj in objs:\n",
    "    box_size = aperture_size_PMAS(obj)\n",
    "    x, y = np.mgrid[:box_size, :box_size]\n",
    "    xy=(x,y)\n",
    "    algorithm_script(obj,z[obj])"
   ]
  },
  {
   "cell_type": "code",
   "execution_count": 13,
   "metadata": {},
   "outputs": [
    {
     "data": {
      "text/plain": [
       "0.089196"
      ]
     },
     "execution_count": 13,
     "metadata": {},
     "output_type": "execute_result"
    }
   ],
   "source": [
    "(np.sqrt(0.089)**2 + (0.014)**2)"
   ]
  },
  {
   "cell_type": "code",
   "execution_count": null,
   "metadata": {},
   "outputs": [],
   "source": []
  }
 ],
 "metadata": {
  "kernelspec": {
   "display_name": "Python 3",
   "language": "python",
   "name": "python3"
  },
  "language_info": {
   "codemirror_mode": {
    "name": "ipython",
    "version": 3
   },
   "file_extension": ".py",
   "mimetype": "text/x-python",
   "name": "python",
   "nbconvert_exporter": "python",
   "pygments_lexer": "ipython3",
   "version": "3.7.3"
  }
 },
 "nbformat": 4,
 "nbformat_minor": 2
}
