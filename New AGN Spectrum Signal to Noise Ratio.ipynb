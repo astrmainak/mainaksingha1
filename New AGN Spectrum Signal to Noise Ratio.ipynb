{
 "cells": [
  {
   "cell_type": "code",
   "execution_count": 1,
   "metadata": {},
   "outputs": [
    {
     "name": "stderr",
     "output_type": "stream",
     "text": [
      "/home/mainak/anaconda2/lib/python2.7/site-packages/h5py/__init__.py:34: FutureWarning: Conversion of the second argument of issubdtype from `float` to `np.floating` is deprecated. In future, it will be treated as `np.float64 == np.dtype(float).type`.\n",
      "  from ._conv import register_converters as _register_converters\n",
      "/home/mainak/.local/lib/python2.7/site-packages/pyneb/utils/manage_atomic_data.py:528: VisibleDeprecationWarning: Reading unicode strings without specifying the encoding argument is deprecated. Set the encoding, use None for the system default.\n",
      "  gsconf = np.genfromtxt(execution_path('../atomic_data/levels/gsconfs.dat'), names=['atom', 'gsconf'], dtype=None)\n"
     ]
    }
   ],
   "source": [
    "import numpy as np\n",
    "import matplotlib.pyplot as plt\n",
    "import astropy.io.fits as fits\n",
    "from scipy.optimize import leastsq\n",
    "from scipy import ndimage\n",
    "from func import *"
   ]
  },
  {
   "cell_type": "code",
   "execution_count": 2,
   "metadata": {
    "collapsed": true
   },
   "outputs": [],
   "source": [
    "def scale_factor_spectrum(z,data,error,wo_wave):\n",
    "    k = 1+z\n",
    "    select1 = (wo_wave>6750*k) & (wo_wave<6800*k)\n",
    "    cont_dat = data[select1]\n",
    "    cont_err = error[select1]\n",
    "    error_maincube = np.std(cont_dat)\n",
    "    error_errcube = np.mean(cont_err)\n",
    "    fact = error_maincube/error_errcube\n",
    "    return fact\n"
   ]
  },
  {
   "cell_type": "code",
   "execution_count": 8,
   "metadata": {
    "collapsed": true
   },
   "outputs": [],
   "source": [
    "def SNR(wo_wave,data,error,obj,z):\n",
    "    k = 1+z\n",
    "    select = (wo_wave>4997*k) & (wo_wave<5027*k)\n",
    "    SNR = np.mean(data[select]/error[select])\n",
    "    return SNR"
   ]
  },
  {
   "cell_type": "code",
   "execution_count": 9,
   "metadata": {},
   "outputs": [],
   "source": [
    "def algorithm_script(obj,z,prefix_path_cube=\"/home/mainak/ftp.hidrive.strato.com/users/login-carsftp/IFU_data\",destination_path_cube=\"/home/mainak/Downloads/Outflow_paper1/MUSE\"):\n",
    "    print '%s'%(obj)\n",
    "    (wo_cube,wo_err,wo_wave,wo_header) = loadCube('%s/%s/%s.wo_absorption.fits'%(destination_path_cube,obj,obj)) \n",
    "    [brightest_pixel_x,brightest_pixel_y] = agn_location(obj)\n",
    "        \n",
    "    (data,error) = (wo_cube[:,brightest_pixel_y,brightest_pixel_x],wo_err[:,brightest_pixel_y,brightest_pixel_x])\n",
    "    factor = scale_factor_spectrum(z,data,error,wo_wave)\n",
    "    print factor\n",
    "    error = factor*error\n",
    "    S_to_N = SNR(wo_wave,data,error,obj,z)\n",
    "    print  S_to_N"
   ]
  },
  {
   "cell_type": "code",
   "execution_count": 10,
   "metadata": {},
   "outputs": [
    {
     "name": "stdout",
     "output_type": "stream",
     "text": [
      "HE0345+0056\n",
      "2.5746026\n",
      "73.84744\n",
      "HE0412-0803\n",
      "1.4854273\n",
      "50.66852\n",
      "HE0224-2834\n",
      "1.412135\n",
      "60.739536\n",
      "HE0433-1028\n",
      "1.609308\n",
      "76.05933\n",
      "HE2233+0124\n",
      "2.707773\n",
      "22.026539\n",
      "HE1330-1013\n",
      "1.036044\n",
      "36.93391\n",
      "HE1011-0403\n",
      "0.97178704\n",
      "54.39212\n",
      "HE0429-0247\n",
      "1.3010414\n",
      "117.342834\n",
      "HE0021-1810\n",
      "3.982697\n",
      "18.457289\n",
      "HE0227-0913\n",
      "0.8485682\n",
      "208.85869\n",
      "HE1029-1831\n",
      "0.7206983\n",
      "59.133965\n",
      "HE0232-0900\n",
      "3.3214335\n",
      "58.53388\n",
      "HE2222-0026\n",
      "1.6797135\n",
      "24.48508\n",
      "HE2302-0857\n",
      "2.4370017\n",
      "30.741\n",
      "HE0021-1819\n",
      "1.7717222\n",
      "26.954016\n",
      "HE2128-0221\n",
      "0.93207616\n",
      "58.876163\n",
      "HE0853+0102\n",
      "1.4073384\n",
      "34.3636\n",
      "HE1237-0504\n",
      "0.9456109\n",
      "155.70135\n",
      "HE1107-0813\n",
      "1.1399627\n",
      "140.38548\n",
      "HE0114-0015\n",
      "1.0210758\n",
      "28.64728\n",
      "HE2211-3903\n",
      "0.70222497\n",
      "107.18981\n",
      "HE0351+0240\n",
      "1.3546728\n",
      "77.60125\n",
      "HE0040-1105\n",
      "1.0489476\n",
      "54.069283\n",
      "HE0253-1641\n",
      "1.5293405\n",
      "96.3605\n",
      "HE1126-0407\n",
      "4.7285314\n",
      "64.146736\n",
      "HE0119-0118\n",
      "2.4159665\n",
      "60.633854\n",
      "HE1248-1356\n",
      "1.2868639\n",
      "25.044891\n",
      "HE0108-4743\n",
      "1.8499876\n",
      "22.016872\n",
      "HE1353-1917\n",
      "1.1971182\n",
      "43.566505\n",
      "HE1417-0909\n",
      "2.4961486\n",
      "65.27755\n",
      "HE0212-0059\n",
      "5.650131\n",
      "20.560392\n",
      "HE1108-2813\n",
      "0.7723302\n",
      "88.869194\n",
      "HE0934+0119\n",
      "0.8446844\n",
      "87.925354\n",
      "HE1017-0305\n",
      "1.1553473\n",
      "41.51543\n"
     ]
    }
   ],
   "source": [
    "z = {\"HE0021-1810\":0.05352,\"HE0021-1819\":0.053197,\"HE0040-1105\":0.041692,\"HE0108-4743\":0.02392,\"HE0114-0015\":0.04560\n",
    "    ,\"HE0119-0118\":0.054341,\"HE0212-0059\":0.026385,\"HE0224-2834\":0.059800,\"HE0227-0913\":0.016451,\"HE0232-0900\":0.043143\n",
    "    ,\"HE0253-1641\":0.031588,\"HE0345+0056\":0.031,\"HE0351+0240\":0.036,\"HE0412-0803\":0.038160,\"HE0429-0247\":0.042009\n",
    "    ,\"HE0433-1028\":0.035550,\"HE0853+0102\":0.052,\"HE0934+0119\":0.050338,\"HE1011-0403\":0.058314,\"HE1017-0305\":0.049986\n",
    "    ,\"HE1029-1831\":0.040261,\"HE1107-0813\":0.058,\"HE1108-2813\":0.024013,\"HE1126-0407\":0.061960,\"HE1237-0504\":0.009\n",
    "    ,\"HE1248-1356\":0.01465,\"HE1330-1013\":0.022145,\"HE1353-1917\":0.035021,\"HE1417-0909\":0.044,\"HE2128-0221\":0.05248\n",
    "    ,\"HE2211-3903\":0.039714,\"HE2222-0026\":0.059114,\"HE2233+0124\":0.056482,\"HE2302-0857\":0.046860}\n",
    "\n",
    "objs = z.keys()\n",
    "\n",
    "for obj in objs:\n",
    "     algorithm_script(obj,z[obj]) \n"
   ]
  },
  {
   "cell_type": "code",
   "execution_count": null,
   "metadata": {
    "collapsed": true
   },
   "outputs": [],
   "source": []
  }
 ],
 "metadata": {
  "kernelspec": {
   "display_name": "Python 2",
   "language": "python",
   "name": "python2"
  },
  "language_info": {
   "codemirror_mode": {
    "name": "ipython",
    "version": 3
   },
   "file_extension": ".py",
   "mimetype": "text/x-python",
   "name": "python",
   "nbconvert_exporter": "python",
   "pygments_lexer": "ipython3",
   "version": "3.7.6"
  }
 },
 "nbformat": 4,
 "nbformat_minor": 2
}
