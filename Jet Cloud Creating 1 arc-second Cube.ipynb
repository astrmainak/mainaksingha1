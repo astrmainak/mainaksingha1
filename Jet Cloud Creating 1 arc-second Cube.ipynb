{
 "cells": [
  {
   "cell_type": "code",
   "execution_count": 1,
   "metadata": {},
   "outputs": [],
   "source": [
    "import numpy as np\n",
    "import matplotlib.pyplot as plt\n",
    "import astropy.io.fits as fits\n",
    "from scipy.optimize import leastsq\n",
    "from numpy import exp\n",
    "from scipy import ndimage\n",
    "from func import *"
   ]
  },
  {
   "cell_type": "code",
   "execution_count": 2,
   "metadata": {},
   "outputs": [],
   "source": [
    "def scale_factor_spectrum(z,data,error,wo_wave):\n",
    "    k = 1+z\n",
    "    select1 = (wo_wave>5030*k) & (wo_wave<5050*k)\n",
    "    cont_dat = data[select1]\n",
    "    cont_err = error[select1]\n",
    "    error_maincube = np.std(cont_dat)\n",
    "    error_errcube = np.mean(cont_err)\n",
    "    fact = error_maincube/error_errcube\n",
    "    return fact"
   ]
  },
  {
   "cell_type": "code",
   "execution_count": 3,
   "metadata": {},
   "outputs": [],
   "source": [
    "def create_1_arcsec_minicube(wo_cube,wo_err,wo_header,brightest_pixel_x,brightest_pixel_y,box_size):\n",
    "    mini_cube_data = wo_cube[:,brightest_pixel_y-box_size:brightest_pixel_y+box_size+1,brightest_pixel_x-box_size:brightest_pixel_x+box_size+1]\n",
    "    mini_cube_err = wo_err[:,brightest_pixel_y-box_size:brightest_pixel_y+box_size+1,brightest_pixel_x-box_size:brightest_pixel_x+box_size+1]\n",
    "    wo_header['CRPIX1'] = wo_header['CRPIX1'] - (brightest_pixel_x-box_size)\n",
    "    wo_header['CRPIX2'] = wo_header['CRPIX2'] - (brightest_pixel_y-box_size)\n",
    "    return mini_cube_data, mini_cube_err,wo_header"
   ]
  },
  {
   "cell_type": "code",
   "execution_count": 4,
   "metadata": {},
   "outputs": [],
   "source": [
    "\n",
    "def scaled_error(z,mini_cube,mini_err,wo_wave):\n",
    "    true_err = np.zeros((np.shape(wo_wave)[0],mini_cube.shape[1],mini_cube.shape[2]),dtype=np.float32)\n",
    "    for i in range(mini_cube.shape[1]):\n",
    "        for j in range(mini_cube.shape[2]):\n",
    "            k = 1+z\n",
    "            select1 = (wo_wave>5030*k) & (wo_wave<5050*k)\n",
    "   \n",
    "            (spectrum,error) = (mini_cube[:,i,j],mini_err[:,i,j])  \n",
    "            (spec,err) = (spectrum[select1],error[select1])\n",
    "            (error_maincube,error_errcube) = (np.std(spec),np.mean(err))\n",
    "            fact = error_maincube/error_errcube\n",
    "            new_err = fact*error\n",
    "            true_err[:,i,j] = new_err \n",
    "    return true_err\n",
    "    "
   ]
  },
  {
   "cell_type": "code",
   "execution_count": 5,
   "metadata": {},
   "outputs": [],
   "source": [
    "def algorithmic_script(obj,z,box_size=2,destination_path_cube=\"/Volumes/Seagate/HE0040-1105 Extended\"):\n",
    "    (wo_cube,wo_err,wo_wave,wo_header) = loadCube('%s/%s.extended_cube.fits'%(destination_path_cube,obj)) \n",
    "    [x0,y0] = [64,57]\n",
    "    [brightest_pixel_x,brightest_pixel_y] = [int(x0),int(y0)]\n",
    "    \n",
    "    (mini_cube,mini_err,wo_header)=create_1_arcsec_minicube(wo_cube,wo_err,wo_header,brightest_pixel_x,brightest_pixel_y,box_size=7)\n",
    "    true_err = scaled_error(z,mini_cube,mini_err,wo_wave)\n",
    "    \n",
    "#    store_cube('%s/%s/%s.3_arcsec_minicube.fits'%(destination_path_cube,obj,obj),mini_cube_Hb,mini_wave,mini_err,mini_header)\n",
    "    store_cube('%s/%s.1_arcsec_minicube.fits'%(destination_path_cube,obj),mini_cube,wo_wave,true_err,wo_header)\n",
    "    print ('%s'%(obj))"
   ]
  },
  {
   "cell_type": "code",
   "execution_count": 6,
   "metadata": {},
   "outputs": [
    {
     "name": "stdout",
     "output_type": "stream",
     "text": [
      "HE0040-1105\n"
     ]
    }
   ],
   "source": [
    "z = {\"HE0040-1105\":0.04196}\n",
    "\n",
    "objs = z.keys()\n",
    "\n",
    "\n",
    "for obj in objs:\n",
    "    algorithmic_script(obj,z[obj])              \n"
   ]
  },
  {
   "cell_type": "code",
   "execution_count": null,
   "metadata": {},
   "outputs": [],
   "source": []
  }
 ],
 "metadata": {
  "kernelspec": {
   "display_name": "Python 3",
   "language": "python",
   "name": "python3"
  },
  "language_info": {
   "codemirror_mode": {
    "name": "ipython",
    "version": 3
   },
   "file_extension": ".py",
   "mimetype": "text/x-python",
   "name": "python",
   "nbconvert_exporter": "python",
   "pygments_lexer": "ipython3",
   "version": "3.7.6"
  }
 },
 "nbformat": 4,
 "nbformat_minor": 2
}
