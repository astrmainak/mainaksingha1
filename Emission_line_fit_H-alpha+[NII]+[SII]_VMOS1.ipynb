{
 "cells": [
  {
   "cell_type": "code",
   "execution_count": 20,
   "metadata": {
    "collapsed": true
   },
   "outputs": [],
   "source": [
    "import numpy as np\n",
    "import matplotlib.pyplot as plt\n",
    "import astropy.io.fits as fits\n",
    "from scipy.optimize import leastsq\n",
    "from scipy import ndimage\n",
    "from VMOSfunc import *\n",
    "from scipy.stats import chisquare"
   ]
  },
  {
   "cell_type": "code",
   "execution_count": 1,
   "metadata": {
    "collapsed": true
   },
   "outputs": [],
   "source": [
    "def popt_central_fit(wo_wave,data,error,obj,p_init,z,broad2=False):\n",
    "    k = 1+z\n",
    "    select = (wo_wave>6500*k) & (wo_wave < 6800*k)\n",
    "    if broad2:\n",
    "        full_gauss = full_gauss2\n",
    "    else:\n",
    "        full_gauss = full_gauss1\n",
    "    popt_full_fit,pcov_full_fit = leastsq(full_gauss,x0=p_init,args=(wo_wave[select],data[select],error[select]),maxfev = 10000000)\n",
    "    Monte_Carlo_loops = 100\n",
    "    parameters_MC = np.zeros((len(popt_full_fit),Monte_Carlo_loops))\n",
    "    for l in range(Monte_Carlo_loops):\n",
    "        iteration_data = np.random.normal(data[select],error[select]) \n",
    "        popt_MC,pcov_MC =leastsq(full_gauss,x0=popt_full_fit,args=(wo_wave[select],iteration_data,error[select]),maxfev = 10000000)\n",
    "        parameters_MC[:,l]=popt_MC\n",
    "    parameters_err = np.std(parameters_MC,1)  \n",
    "    (amp_Hb_error,amp_OIII5007_error,vel_OIII_error,vel_sigma_OIII_error,amp_Hb_br_error,amp_OIII5007_br_error,vel_OIII_br_error,vel_sigma_OIII_br_error,amp_Hb1_error,amp_Fe5018_1_error,vel_Hb1_error,vel_sigma_Hb1_error,amp_Hb2_error,amp_Fe5018_2_error,vel_Hb2_error,vel_sigma_Hb2_error,m_error,c_error) = parameters_err\n",
    "    return popt_full_fit,parameters_err \n",
    "\n",
    "def chi_squared(obj,z,wo_wave,data,error,popt_full_fit,broad2=False):\n",
    "    (amp_Hb_fit,amp_OIII5007_fit,vel_OIII_fit,vel_sigma_OIII_fit,amp_Hb_br_fit,amp_OIII5007_br_fit,vel_OIII_br_fit,vel_sigma_OIII_br_fit,amp_Hb1_fit,amp_Fe5018_1_fit,vel_Hb1_fit,vel_sigma_Hb1_fit,amp_Hb2_fit,amp_Fe5018_2_fit,vel_Hb2_fit,vel_sigma_Hb2_fit,m_fit,c_fit) = popt_full_fit\n",
    "    k = 1+z\n",
    "    select = (wo_wave>6500*k) & (wo_wave < 6800*k)\n",
    "    if broad2:\n",
    "        full_gauss = full_gauss2\n",
    "    else:\n",
    "        full_gauss = full_gauss1\n",
    "\n",
    "    fit = full_gauss(popt_full_fit,wo_wave[select],data[select],error[select])*(error[select])+data[select]\n",
    "    residual = data[select] - fit\n",
    "    ratio = residual/error[select]\n",
    "    #chi_squared = np.sum(ratio**2)\n",
    "    print ratio\n",
    "    \n",
    "def chi_squared(obj,z,wo_wave,data,error,popt_full_fit,broad2=False):\n",
    "    (amp_Hb_fit,amp_OIII5007_fit,vel_OIII_fit,vel_sigma_OIII_fit,amp_Hb_br_fit,amp_OIII5007_br_fit,vel_OIII_br_fit,vel_sigma_OIII_br_fit,amp_Hb1_fit,amp_Fe5018_1_fit,vel_Hb1_fit,vel_sigma_Hb1_fit,amp_Hb2_fit,amp_Fe5018_2_fit,vel_Hb2_fit,vel_sigma_Hb2_fit,m_fit,c_fit) = popt_full_fit\n",
    "    k = 1+z\n",
    "    select = (wo_wave>4750*k) & (wo_wave < 5090*k)\n",
    "    if broad2:\n",
    "        full_gauss = full_gauss2\n",
    "    else:\n",
    "        full_gauss = full_gauss1\n",
    "\n",
    "    fit = full_gauss(popt_full_fit,wo_wave[select],data[select],error[select])\n",
    "    chi_squared = np.sum(fit**2)\n",
    "    print chi_squared "
   ]
  },
  {
   "cell_type": "code",
   "execution_count": 38,
   "metadata": {
    "collapsed": true
   },
   "outputs": [],
   "source": [
    "def plot(obj,wo_wave,data,error,z,popt_full_fit,broad2=False):\n",
    "    (amp_Hb_fit,amp_OIII5007_fit,vel_OIII_fit,vel_sigma_OIII_fit,amp_Hb_br_fit,amp_OIII5007_br_fit,vel_OIII_br_fit,vel_sigma_OIII_br_fit,amp_Hb1_fit,amp_Fe5018_1_fit,vel_Hb1_fit,vel_sigma_Hb1_fit,amp_Hb2_fit,amp_Fe5018_2_fit,vel_Hb2_fit,vel_sigma_Hb2_fit,m_fit,c_fit) = popt_full_fit\n",
    "    k = 1+z\n",
    "    select = (wo_wave>4750*k) & (wo_wave < 5090*k)\n",
    "    if broad2:\n",
    "        full_gauss = full_gauss2\n",
    "    else:\n",
    "        full_gauss = full_gauss1\n",
    "\n",
    "    fit = full_gauss(popt_full_fit,wo_wave[select],data[select],error[select])*(error[select])+data[select]\n",
    "    residual = data[select] - fit\n",
    "    fig = plt.gcf()\n",
    "    fig.set_size_inches(7,5)\n",
    "    \n",
    "    fit = full_gauss(popt_full_fit,wo_wave[select],data[select],error[select])*(error[select])+data[select]\n",
    "    residual = data[select] - fit\n",
    "    plt.plot(wo_wave[select],data[select],'k-',label='data')\n",
    "    plt.plot(wo_wave[select],fit,'r-',label='fit')\n",
    "    plt.plot(wo_wave[select],residual,label='residual')\n",
    "    plt.plot(wo_wave[select],Hb_O3_gauss(wo_wave[select],amp_Hb_fit,amp_OIII5007_fit,vel_OIII_fit,vel_sigma_OIII_fit) + continuum(wo_wave[select],m_fit,c_fit),'-g',label='core')\n",
    "    #plt.plot(wo_wave[select],Hb_O3_gauss(wo_wave[select],amp_Hb_br_fit,amp_OIII5007_br_fit,vel_OIII_br_fit,vel_sigma_OIII_br_fit) + continuum(wo_wave[select],m_fit,c_fit),color ='orange',label='wing')\n",
    "    plt.plot(wo_wave[select],Hb_Fe_doublet_gauss(wo_wave[select],amp_Hb1_fit,amp_Fe5018_1_fit,vel_Hb1_fit,vel_sigma_Hb1_fit) + continuum(wo_wave[select],m_fit,c_fit),color ='blue',label='BLR1')\n",
    "    plt.plot(wo_wave[select],Hb_Fe_doublet_gauss(wo_wave[select],amp_Hb2_fit,amp_Fe5018_2_fit,vel_Hb2_fit,vel_sigma_Hb2_fit) + continuum(wo_wave[select],m_fit,c_fit),'-c',label='BLR2')\n",
    "    plt.title('%s_brightest_pixel_fit'%(obj))\n",
    "    plt.xlabel(r\"Wavelength ($\\AA$)\")\n",
    "    plt.ylabel(r\"Flux Density ($\\times 10^{-16}$ erg s$^{-1}$ cm$^{-2}$ Hz$^{-1}$) \")\n",
    "    plt.legend()\n",
    "    plt.show()  \n",
    "    plt.savefig('%s_central_spectrum.png'%(obj),overwrite=True)\n",
    "\n"
   ]
  },
  {
   "cell_type": "code",
   "execution_count": 39,
   "metadata": {
    "collapsed": true
   },
   "outputs": [],
   "source": [
    "def central_table(obj,popt_full_fit,brightest_pixel_x,brightest_pixel_y,parameters_err):\n",
    "    central_coordinates = [int(brightest_pixel_x),int(brightest_pixel_y)]\n",
    "    print central_coordinates\n",
    "    popt = np.append(popt_full_fit,central_coordinates)\n",
    "    central_cordinates_err = [0,0]\n",
    "    err = np.append(parameters_err,central_cordinates_err)\n",
    "    column_names={'amp_Hb':0,'amp_OIII5007':1,'vel_OIII':2,'vel_sigma_OIII':3,'amp_Hb_br':4,'amp_OIII5007_br':5,'vel_OIII_br':6,\n",
    "              'vel_sigma_OIII_br':7,'amp_Hb1':8,'amp_Fe5018_1':9,'vel_Hb1':10,'vel_sigma_Hb1':11,'amp_Hb2':12,\n",
    "              'amp_Fe5018_2':13,'vel_Hb2':14,'vel_sigma_Hb2':15,'m':16,'n':17'c':18,'central_x':19,'central_y':20}\n",
    "    columns=[]\n",
    "    for key in column_names.keys():\n",
    "        columns.append(fits.Column(name=key,format='E',array=[popt[column_names[key]]]))\n",
    "        columns.append(fits.Column(name=key+'_err',format='E',array=[err[column_names[key]]]))\n",
    "    coldefs = fits.ColDefs(columns)\n",
    "    hdu = fits.BinTableHDU.from_columns(coldefs)\n",
    "    hdu.writeto('%s_central_fit.fits'%(obj),overwrite=True)\n",
    "\n"
   ]
  },
  {
   "cell_type": "code",
   "execution_count": 40,
   "metadata": {
    "collapsed": true
   },
   "outputs": [],
   "source": [
    "def algorithm_script(obj,p_init,z,broad2,prefix_path_cube=\"/home/mainak/xdata/ftp.hidrive.strato.com/users/login-carsftp\"):\n",
    "    print '%s'%(obj)\n",
    "    \n",
    "    (wo_cube,wo_err,wo_wave,wo_header) = loadCube('%s/VMOS/%s/%s_blue.rscube.fits'%(prefix_path_cube,obj,obj))\n",
    "    \n",
    "    [brightest_pixel_x,brightest_pixel_y] = brightest_pixel(wo_cube)\n",
    "    \n",
    "    (data,error) = (wo_cube[:,brightest_pixel_y,brightest_pixel_x],wo_err[:,brightest_pixel_y,brightest_pixel_x])\n",
    "    \n",
    "    (popt_full_fit,parameters_err) = popt_central_fit(wo_wave,data,error,obj,p_init,z,broad2)\n",
    "    \n",
    "    print popt_full_fit,parameters_err\n",
    "    \n",
    "    plot(obj,wo_wave,data,error,z,popt_full_fit,broad2)\n",
    "    \n",
    "    central_table(obj,popt_full_fit,brightest_pixel_x,brightest_pixel_y,parameters_err)\n",
    "    \n",
    "    chi_squared(obj,z,wo_wave,data,error,popt_full_fit,broad2)"
   ]
  },
  {
   "cell_type": "code",
   "execution_count": 44,
   "metadata": {},
   "outputs": [
    {
     "name": "stdout",
     "output_type": "stream",
     "text": [
      "HE1310-1051\n",
      "[ 5.64331521e-01  8.98801261e+00  1.02905172e+04  9.19457233e+01\n",
      "  4.22633058e-01  2.38450313e+00  1.02676121e+04  2.14010193e+02\n",
      "  1.23916143e+00  1.46501246e-01  1.03836268e+04  1.53461078e+03\n",
      "  1.00000000e-01  1.00000000e-01  1.02810000e+04  1.50000000e+03\n",
      " -4.28927605e-01  3.23180679e+00] [2.07150330e-02 1.06908874e-01 2.31332797e-01 1.07050907e+00\n",
      " 1.73208535e-02 1.15095741e-01 1.64914767e+00 3.09845311e+00\n",
      " 2.94791811e-03 2.13580226e-03 3.08177907e+00 3.42502387e+00\n",
      " 2.77555756e-17 2.77555756e-17 0.00000000e+00 0.00000000e+00\n",
      " 5.52847227e-03 2.79642883e-02]\n"
     ]
    },
    {
     "data": {
      "image/png": "[encoded data removed]",
      "text/plain": [
       "<matplotlib.figure.Figure at 0x7f8d374207d0>"
      ]
     },
     "metadata": {},
     "output_type": "display_data"
    },
    {
     "name": "stdout",
     "output_type": "stream",
     "text": [
      "[18, 22]\n",
      "4938.278448538144\n"
     ]
    }
   ],
   "source": [
    "z = {\"HE1310-1051\":0.03427}\n",
    "\n",
    "objs = z.keys()\n",
    "\n",
    "broad2= {'HE1310-1051':False}\n",
    "\n",
    "p_init= {'HE1310-1051':[1.139,1.5,10281.0,100.0,0.0,0.0,10281.0,200.0,1.0,1.0,10281.0,1000.0,0.1,0.1,10281.0,1500.0,-0.001,2.0]}\n",
    "\n",
    "for obj in objs:\n",
    "     algorithm_script(obj,p_init[obj],z[obj],broad2[obj]) \n"
   ]
  },
  {
   "cell_type": "code",
   "execution_count": null,
   "metadata": {
    "collapsed": true
   },
   "outputs": [],
   "source": []
  }
 ],
 "metadata": {
  "kernelspec": {
   "display_name": "Python 2",
   "language": "python",
   "name": "python2"
  },
  "language_info": {
   "codemirror_mode": {
    "name": "ipython",
    "version": 2
   },
   "file_extension": ".py",
   "mimetype": "text/x-python",
   "name": "python",
   "nbconvert_exporter": "python",
   "pygments_lexer": "ipython2",
   "version": "2.7.14"
  }
 },
 "nbformat": 4,
 "nbformat_minor": 2
}
