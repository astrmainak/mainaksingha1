{
 "cells": [
  {
   "cell_type": "code",
   "execution_count": 1,
   "metadata": {},
   "outputs": [],
   "source": [
    "import numpy as np\n",
    "import matplotlib.pyplot as plt\n",
    "import astropy.io.fits as fits\n",
    "from scipy.optimize import leastsq\n",
    "from numpy import exp\n",
    "from scipy import ndimage\n",
    "from VMOSfunc import *\n",
    "from astropy.table import Table, hstack\n",
    "import os\n",
    "import glob\n",
    "from astropy.table import Table, vstack, join\n",
    "import pandas as pd\n",
    "from shutil import copyfile"
   ]
  },
  {
   "cell_type": "code",
   "execution_count": 2,
   "metadata": {},
   "outputs": [],
   "source": [
    "def err_ratio(data,err):\n",
    "    data[2:-2,2:-2]=0\n",
    "    err[2:-2,2:-2]=0\n",
    "    edge_fluxmap = data[data!=0]\n",
    "    edge_errmap = err[err!=0]\n",
    "    err_fluxmap = np.std(edge_fluxmap)\n",
    "    err_errmap = np.mean(edge_errmap)\n",
    "    fact = err_fluxmap/err_errmap\n",
    "    return fact\n",
    "\n",
    "def emp_fact(err_ratio_Hb1,err_ratio_Hb2,err_ratio_OIII_br,broad2=False):\n",
    "    if broad2:\n",
    "        emp_Hb2 = err_ratio_Hb2\n",
    "    else:\n",
    "        emp_Hb2 = 0\n",
    "    emp_Hb1 = err_ratio_Hb1\n",
    "    emp_wing = err_ratio_OIII_br\n",
    "    return emp_Hb1,emp_Hb2,emp_wing"
   ]
  },
  {
   "cell_type": "code",
   "execution_count": 4,
   "metadata": {},
   "outputs": [],
   "source": [
    "def emp_table(obj,emp_Hb1,emp_Hb2,emp_wing,destination_path_cube=\"/home/mainak/Downloads/Outflow_paper1/VIMOS\"):\n",
    "    popt = [emp_Hb1,emp_Hb2,emp_wing]\n",
    "    column_names={'emp_fact_Hb1':0,'emp_fact_Hb2':1,'emp_fact_wing':2}\n",
    "    columns=[]\n",
    "    for key in column_names.keys():\n",
    "        columns.append(fits.Column(name=key,format='E',array=[popt[column_names[key]]]))\n",
    "    coldefs = fits.ColDefs(columns)\n",
    "    hdu = fits.BinTableHDU.from_columns(coldefs)\n",
    "    hdu.writeto('%s/%s/%s_19_arcsec_empirical_factor_subcube.fits'%(destination_path_cube,obj,obj),overwrite=True)\n",
    "\n",
    "def emp_fact_table(obj,destination_path_cube=\"/home/mainak/Downloads/Outflow_paper1/VIMOS\"):\n",
    "    t1 = Table.read('%s/%s/source_%s.fits'%(destination_path_cube,obj,obj),format='fits')\n",
    "    t2 = Table.read('%s/%s/%s_19_arcsec_empirical_factor_subcube.fits'%(destination_path_cube,obj,obj),format='fits')\n",
    "    new = hstack([t1, t2])\n",
    "    new.write('%s/%s/%s_19_arcsec_empirical_factor_subcube.fits'%(destination_path_cube,obj,obj),overwrite=True)"
   ]
  },
  {
   "cell_type": "code",
   "execution_count": 5,
   "metadata": {},
   "outputs": [],
   "source": [
    "def algorithm_script(obj,z,broad2,destination_path_cube=\"/home/mainak/Downloads/Outflow_paper1/VIMOS\"):\n",
    "    print ('%s'%(obj))\n",
    "\n",
    "    (Hb1_blr_br_data,Hb2_blr_br_data) = loadblr('%s/Flux Maps/%s/19_arcsec_subcube_par_%s.fits'%(destination_path_cube,obj,obj))\n",
    "    (Hb1_blr_br_err,Hb2_blr_br_err) = loadblr('%s/Flux Maps/%s/19_arcsec_subcube_par_err_%s.fits'%(destination_path_cube,obj,obj))\n",
    "    OIII_br_err = loadwing_err('%s/Flux Maps/%s/19_arcsec_subcube_par_err_%s.fits'%(destination_path_cube,obj,obj))\n",
    "    OIII_br_data = loadwing_err('%s/Flux Maps/%s/19_arcsec_subcube_par_%s.fits'%(destination_path_cube,obj,obj)) # It opens the hdu[3] where the OIII_br data \n",
    "  \n",
    "    err_ratio_OIII_br = err_ratio(OIII_br_data,OIII_br_err)\n",
    "    err_ratio_Hb1 = err_ratio(Hb1_blr_br_data,Hb1_blr_br_err)\n",
    "    err_ratio_Hb2 = err_ratio(Hb2_blr_br_data,Hb2_blr_br_err)\n",
    "    (emp_Hb1,emp_Hb2,emp_wing) = emp_fact(err_ratio_Hb1,err_ratio_Hb2,err_ratio_OIII_br,broad2)\n",
    "    print (emp_Hb1,emp_Hb2,emp_wing)\n",
    "    emp_table(obj,emp_Hb1,emp_Hb2,emp_wing)\n",
    "    #emp_fact_table(obj)"
   ]
  },
  {
   "cell_type": "code",
   "execution_count": 6,
   "metadata": {},
   "outputs": [
    {
     "name": "stdout",
     "output_type": "stream",
     "text": [
      "HE1310-1051\n",
      "2.522232 0 2.3234367\n",
      "HE1338-1423\n",
      "2.7409718 3.9046783 4.7387133\n"
     ]
    }
   ],
   "source": [
    "z = {\"HE1310-1051\":0.03427,\"HE1338-1423\":0.04179}\n",
    "\n",
    "broad2= {\"HE1310-1051\":False,\"HE1338-1423\":True}\n",
    "\n",
    "objs = z.keys()\n",
    "\n",
    "for obj in objs:\n",
    "    algorithm_script(obj,z[obj],broad2[obj])"
   ]
  },
  {
   "cell_type": "markdown",
   "metadata": {},
   "source": [
    "For this galaxy when we did not have the proper error propagation estimating code \n",
    "and continuum missing from the broad H-beta the reduced chi-squared was 23. Introducing \n",
    "the continuum brought it down to 14. Then we did the error estimation with monte carlo \n",
    "properly which further brought it down to 7. Now we see that the error for the both \n",
    "BLR H-beta and broad [OIII] was underestimated. \n",
    "\n",
    "What we did here is to check the error from the 2D maps and the 2D error maps to see whether\n",
    "they make any sense. That is why we choose the region of the edge where we took 2 pixels from \n",
    "the edges along the map and calculate the standard deviation. The reason behind this is BLR\n",
    "H-beta is point like and hence along the edge it should be almost equal to 0 but from the 2D\n",
    "maps it is not cleraly 0 but a fluctuation between positive and sometimes negative values.\n",
    "Taking the standard deviation would give us the error.\n",
    "\n",
    "Next we take the 2D error maps and choose the corresponding pixels. Since this is an error map\n",
    "already, thi stime we calculate the mean. Taking the reatios of this two error we get a ratio of\n",
    "5 which means that the true error was underestimated to a factor of 5. This factor is constant \n",
    "throughout the edge.\n",
    "\n",
    "We also do it for the broad [OIII] since most of the [OIII] emission comes from a very compact\n",
    "region around the center. Hence, if there is any excess flux that should be rather low and will\n",
    "not interfere with our measurements. Repeating the previous steps we get a ratio of 2.5.\n",
    "\n",
    "We cannot do it for the narrow [OIII] since it is extended in nature and hence the error computation\n",
    "from the 2D maps will not return its true eeror."
   ]
  },
  {
   "cell_type": "code",
   "execution_count": null,
   "metadata": {
    "collapsed": true
   },
   "outputs": [],
   "source": []
  }
 ],
 "metadata": {
  "kernelspec": {
   "display_name": "Python 3",
   "language": "python",
   "name": "python3"
  },
  "language_info": {
   "codemirror_mode": {
    "name": "ipython",
    "version": 3
   },
   "file_extension": ".py",
   "mimetype": "text/x-python",
   "name": "python",
   "nbconvert_exporter": "python",
   "pygments_lexer": "ipython3",
   "version": "3.7.3"
  }
 },
 "nbformat": 4,
 "nbformat_minor": 2
}
