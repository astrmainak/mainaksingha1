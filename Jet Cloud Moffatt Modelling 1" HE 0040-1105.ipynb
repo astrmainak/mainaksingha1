{
 "cells": [
  {
   "cell_type": "code",
   "execution_count": 19,
   "metadata": {},
   "outputs": [],
   "source": [
    "import numpy as np\n",
    "import matplotlib.pyplot as plt\n",
    "import astropy.io.fits as fits\n",
    "from numpy import exp\n",
    "from scipy import ndimage\n",
    "from func import *\n",
    "from astropy.table import Table, hstack\n",
    "import os\n",
    "import glob\n",
    "from astropy.table import Table, vstack, join\n",
    "import pandas as pd\n",
    "from shutil import copyfile\n",
    "from scipy.optimize import leastsq\n",
    "import math\n",
    "from astropy.convolution import Gaussian2DKernel\n",
    "from scipy.signal import convolve as scipy_convolve\n",
    "from astropy.convolution import convolve\n",
    "import cmasher as cmr"
   ]
  },
  {
   "cell_type": "code",
   "execution_count": 20,
   "metadata": {},
   "outputs": [],
   "source": [
    "def cloud_flux_data_err(obj,prefix_path_cube=\"/Volumes/Seagate/Outflow_paper1_old/MUSE\",destination_path_cube=\"/Volumes/Seagate/HE0040-1105 Extended\"):\n",
    "    hdu = fits.open('%s/Maps/jetcloud_par_%s.fits'%(destination_path_cube,obj))\n",
    "    (OIII_nr,OIII_br) = (hdu[2].data,hdu[3].data)\n",
    "    hdu.close()\n",
    "    \n",
    "    hdu = fits.open('%s/Error Maps/jetcloud_par_err_%s.fits'%(destination_path_cube,obj))\n",
    "    (OIII_nr_err,OIII_br_err) = (hdu[2].data,hdu[3].data)\n",
    "    hdu.close()\n",
    "    \n",
    "    hdu = fits.open('%s/%s/%s_9_arcsec_empirical_factor_subcube.fits'%(prefix_path_cube,obj,obj))\n",
    "    central_tab = hdu[1].data\n",
    "    central_columns = hdu[1].header\n",
    "    (emp_Hb1,emp_Hb2) = (central_tab.field('emp_fact_Hb1')[0],central_tab.field('emp_fact_Hb2')[0])\n",
    "    hdu.close()\n",
    "    \n",
    "    amp_OIII_br = np.max(OIII_br)\n",
    "    amp_OIII_nr = np.max(OIII_nr)\n",
    "    \n",
    "    OIII_br_err_final = emp_Hb1*OIII_br_err\n",
    "    OIII_nr_err_final = emp_Hb1*OIII_nr_err\n",
    "    \n",
    "    return OIII_br,OIII_nr,amp_OIII_br,amp_OIII_nr,OIII_br_err_final,OIII_nr_err_final\n",
    "    \n",
    "def cloud_fix_par(obj,destination_path_cube=\"/Volumes/Seagate/Outflow_paper1_old/MUSE\"):\n",
    "    hdu = fits.open('%s/%s/9_arcsec_moffat_table_%s.fits'%(destination_path_cube,obj,obj))\n",
    "    data = hdu[1].data\n",
    "    A = data['A']\n",
    "    B = data['B']\n",
    "    C = data['C']\n",
    "    alpha = data['alpha']\n",
    "    return A,B,C,alpha"
   ]
  },
  {
   "cell_type": "code",
   "execution_count": 21,
   "metadata": {},
   "outputs": [],
   "source": [
    "def ellip_moffat2D(p,xy,data,error):\n",
    "    xy=(x,y)\n",
    "    [amp, x0, y0, A, B, C, alpha] = p \n",
    "    g = amp*((1.0+A*(x-x0)**2+B*(y-y0)**2+C*(x-x0)*(y-y0))**(-alpha))\n",
    "    h = (data - g)/error\n",
    "    return h.ravel()\n",
    "\n",
    "def ellip_moffat2D_fixkin(p,xy,data,error,fixed_param):\n",
    "    [A,B,C,alpha] = fixed_param\n",
    "    xy=(x,y)\n",
    "    [amp, x0, y0] = p    \n",
    "    g = amp*((1.0+A*(x-x0)**2+B*(y-y0)**2+C*(x-x0)*(y-y0))**(-alpha))\n",
    "    h = (data - g)/error\n",
    "    return h.ravel()"
   ]
  },
  {
   "cell_type": "code",
   "execution_count": 22,
   "metadata": {},
   "outputs": [],
   "source": [
    "def elliptical_moffat_fit(data,error,box_size,amp,x0,y0,fix_par,MC_loops=100):\n",
    "    y, x = np.mgrid[:box_size, :box_size]\n",
    "    xy=(x,y)\n",
    "    \n",
    "    if fix_par is None:\n",
    "        p= [amp,x0,y0,0.25,0.25,-0.008,3]\n",
    "        popt,pcov = leastsq(ellip_moffat2D,x0=p,args=(xy,data,error),maxfev = 10000000)\n",
    "        [amp_out,x0_out,y0_out,A_out,B_out,C_out,alpha_out]= popt\n",
    "        theta_out = 0.5*np.arctan(C_out/(A_out - B_out))\n",
    "        a_out = np.sqrt(2/(A_out + B_out + np.sqrt(C_out**2 +(A_out - B_out)**2)))\n",
    "        b_out = np.sqrt(2/(A_out + B_out - np.sqrt(C_out**2 +(A_out - B_out)**2)))\n",
    "        [fwhm1_out,fwhm2_out] = [2*a_out*np.sqrt(2**(1/alpha_out)-1),2*b_out*np.sqrt(2**(1/alpha_out)-1)]\n",
    "        par = [amp_out,x0_out,y0_out,A_out,B_out,C_out,alpha_out,a_out,b_out,theta_out,fwhm1_out,fwhm2_out]\n",
    "        mod_rav = data.ravel() - ellip_moffat2D(popt,xy,data,error)*error.ravel()\n",
    "    else:\n",
    "        p= [amp,x0,y0]\n",
    "        popt,pcov = leastsq(ellip_moffat2D_fixkin,x0=p,args=(xy,data,error,fix_par),maxfev = 10000000)\n",
    "        [amp_out,x0_out,y0_out]= popt\n",
    "        par = popt\n",
    "        mod_rav = data.ravel() - ellip_moffat2D_fixkin(popt,xy,data,error,fix_par)*error.ravel()\n",
    "    model = mod_rav.reshape(box_size,box_size)\n",
    "    residual = data-model\n",
    "    res = (residual/error)\n",
    "\n",
    "    parameters_MC = np.zeros((len(par),MC_loops))\n",
    "    for l in range(MC_loops):\n",
    "        iteration_data = np.random.normal(data,error) \n",
    "        if fix_par is None:\n",
    "            p= [amp,x0,y0,0.25,0.25,-0.008,3]\n",
    "            popt_MC,pcov_MC = leastsq(ellip_moffat2D,x0=p,args=(xy,iteration_data,error),maxfev = 10000000)\n",
    "            [amp_MC,x0_MC,y0_MC,A_MC,B_MC,C_MC,alpha_MC]= popt_MC\n",
    "            theta_MC = 0.5*np.arctan(C_MC/(A_MC - B_MC))\n",
    "            a_MC = np.sqrt(2/(A_MC + B_MC + np.sqrt(C_MC**2 +(A_MC - B_MC)**2)))\n",
    "            b_MC = np.sqrt(2/(A_MC + B_MC - np.sqrt(C_MC**2 +(A_MC - B_MC)**2)))\n",
    "            [fwhm1_MC,fwhm2_MC] = [2*a_MC*np.sqrt(2**(1/alpha_MC)-1),2*b_MC*np.sqrt(2**(1/alpha_MC)-1)]\n",
    "            par_MC = [amp_MC,x0_MC,y0_MC,A_MC,B_MC,C_MC,alpha_MC,a_MC,b_MC,theta_MC,fwhm1_MC,fwhm2_MC]   \n",
    "            parameters_MC[:,l] = par_MC    \n",
    "        else:\n",
    "            p= [amp,x0,y0]\n",
    "            popt_MC,pcov_MC = leastsq(ellip_moffat2D_fixkin,x0=p,args=(xy,iteration_data,error,fix_par),maxfev = 10000000)\n",
    "            [amp_MC,x0_out,y0_out]= popt_MC\n",
    "            parameters_MC[:,l] = popt_MC    \n",
    "    parameters_err = np.std(parameters_MC,1) \n",
    "    return par,parameters_err,model,res"
   ]
  },
  {
   "cell_type": "code",
   "execution_count": 23,
   "metadata": {},
   "outputs": [],
   "source": [
    "def moffat_table(full_data,full_error,obj,destination_path_cube=\"/Volumes/Seagate/HE0040-1105 Extended\"):\n",
    "    column_names={'amp_OIII_br':0,'x0_OIII_br':1,'y0_OIII_br':2,'amp_OIII_nr':3,'x0_OIII_nr':4,'y0_OIII_nr':5}\n",
    "    columns=[]\n",
    "    for key in column_names.keys():\n",
    "        columns.append(fits.Column(name=key,format='E',array=[full_data[column_names[key]]]))\n",
    "        columns.append(fits.Column(name=key+'_err',format='E',array=[full_error[column_names[key]]]))\n",
    "    coldefs = fits.ColDefs(columns)\n",
    "    hdu = fits.BinTableHDU.from_columns(coldefs)\n",
    "    hdu.writeto('%s/Tables/jetcloud_1_arcsec_moffat_table_%s.fits'%(destination_path_cube,obj),overwrite=True)\n",
    "\n",
    "def maps(Hb_blr_br_data,OIII_br_data,OIII_nr_data,Hb_model,OIII_br_model,OIII_nr_model,Hb_res,OIII_br_res,OIII_nr_res,obj,destination_path_cube=\"/home/mainak/Downloads/Outflow_paper1/MUSE\"):\n",
    "    hdus=[]\n",
    "    hdus.append(fits.PrimaryHDU())\n",
    "    hdus.append(fits.ImageHDU(Hb_blr_br_data,name='Hb_blr_br_data'))\n",
    "    hdus.append(fits.ImageHDU(OIII_br_data,name='OIII_br_data'))\n",
    "    hdus.append(fits.ImageHDU(OIII_nr_data,name='OIII_nr_data'))\n",
    "    hdus.append(fits.ImageHDU(Hb_model,name='Hb_blr_br_model'))\n",
    "    hdus.append(fits.ImageHDU(OIII_br_model,name='OIII_br_model'))   \n",
    "    hdus.append(fits.ImageHDU(OIII_nr_model,name='OIII_nr_model'))\n",
    "    hdus.append(fits.ImageHDU(Hb_res,name='Hb_blr_br_res'))\n",
    "    hdus.append(fits.ImageHDU(OIII_br_res,name='OIII_br_res'))\n",
    "    hdus.append(fits.ImageHDU(OIII_nr_res,name='OIII_nr_res'))\n",
    "    hdu = fits.HDUList(hdus)\n",
    "    hdu.writeto('%s/%s/3_arcsec_maps_%s.fits'%(destination_path_cube,obj,obj),overwrite='True')\n",
    "\n",
    "def fluxden_compare(obj,Hb_blr_br_data,OIII_br_data,Hb_model,OIII_br_model,Hb_blr_br_err,OIII_br_err,destination_path_cube=\"/home/mainak/Downloads/Outflow_paper1/MUSE\"):\n",
    "    f_blr_data = np.sum(Hb_blr_br_data)\n",
    "    f_wing_data = np.sum(OIII_br_data)\n",
    "    f_blr_model = np.sum(Hb_model)\n",
    "    f_wing_model = np.sum(OIII_br_model)\n",
    "    f_blr_err = np.sqrt(np.sum(Hb_blr_br_err**2))\n",
    "    f_wing_err = np.sqrt(np.sum(OIII_br_err**2))\n",
    "    tab_par = [f_blr_data,f_wing_data,f_blr_model,f_wing_model]\n",
    "    tab_err = [f_blr_err,f_wing_err,0,0]\n",
    "    column_names={'flux_blr_data':0,'flux_wing_data':1,'flux_blr_model':2,'flux_wing_model':3}\n",
    "    columns=[]\n",
    "    for key in column_names.keys():\n",
    "        columns.append(fits.Column(name=key,format='E',array=[tab_par[column_names[key]]]))\n",
    "        columns.append(fits.Column(name=key+'_err',format='E',array=[tab_err[column_names[key]]]))\n",
    "    coldefs = fits.ColDefs(columns)\n",
    "    hdu = fits.BinTableHDU.from_columns(coldefs)\n",
    "    hdu.writeto('%s/%s/%s_3_arcsec_fluxden_HbOIII.fits'%(destination_path_cube,obj,obj),overwrite=True)\n",
    "    \n",
    "def fluxden_comp_table(obj,destination_path_cube=\"/home/mainak/Downloads/Outflow_paper1/MUSE\"):\n",
    "    t1 = Table.read('%s/%s/source_%s.fits'%(destination_path_cube,obj,obj),format='fits')\n",
    "    t2 = Table.read('%s/%s/%s_3_arcsec_fluxden_HbOIII.fits'%(destination_path_cube,obj,obj),format='fits')\n",
    "    new = hstack([t1, t2])\n",
    "    new.write('%s/%s/%s_3_arcsec_fluxden_HbOIII.fits'%(destination_path_cube,obj,obj),overwrite=True)\n",
    "    \n",
    "def emp_table(obj,emp_blr,emp_wing,destination_path_cube=\"/home/mainak/Downloads/Outflow_paper1/MUSE\"):\n",
    "    popt = [emp_blr,emp_wing]\n",
    "    column_names={'emp_fact_blr':0,'emp_fact_wing':1}\n",
    "    columns=[]\n",
    "    for key in column_names.keys():\n",
    "        columns.append(fits.Column(name=key,format='E',array=[popt[column_names[key]]]))\n",
    "    coldefs = fits.ColDefs(columns)\n",
    "    hdu = fits.BinTableHDU.from_columns(coldefs)\n",
    "    hdu.writeto('%s/%s/%s_3_arcsec_scaling_subcube.fits'%(destination_path_cube,obj,obj),overwrite=True)\n",
    "\n",
    "def emp_fact_table(obj,destination_path_cube=\"/home/mainak/Downloads/Outflow_paper1/MUSE\"):\n",
    "    t1 = Table.read('%s/%s/source_%s.fits'%(destination_path_cube,obj,obj),format='fits')\n",
    "    t2 = Table.read('%s/%s/%s_9_arcsec_scaling_subcube.fits'%(destination_path_cube,obj,obj),format='fits')\n",
    "    new = hstack([t1, t2])\n",
    "    new.write('%s/%s/%s_9_arcsec_scaling_subcube.fits'%(destination_path_cube,obj,obj),overwrite=True)"
   ]
  },
  {
   "cell_type": "code",
   "execution_count": 24,
   "metadata": {},
   "outputs": [],
   "source": [
    "def algorithm_script(obj,z,destination_path_cube=\"/Volumes/Seagate/Outflow_paper1/MUSE\"):  \n",
    "    print ('%s'%(obj))\n",
    "    (OIII_br_data,OIII_nr_data,amp_OIII_br,amp_OIII_nr,OIII_br_err,OIII_nr_err) = cloud_flux_data_err(obj)\n",
    "    box_size = np.shape(OIII_br_data)[0]\n",
    "    (brightest_pixel_OIII_br_x,brightest_pixel_OIII_br_y,brightest_pixel_OIII_nr_x,brightest_pixel_OIII_nr_y) = jetcloud_brightest_pixel_flux_map(OIII_br_data,OIII_nr_data) \n",
    "    print (brightest_pixel_OIII_nr_x,brightest_pixel_OIII_nr_y)\n",
    "    \n",
    "    fixed_param = cloud_fix_par(obj)\n",
    "    (OIII_br_par,OIII_br_error,OIII_br_model,OIII_br_res) = elliptical_moffat_fit(OIII_br_data,OIII_br_err,box_size,amp_OIII_br,brightest_pixel_OIII_br_x,brightest_pixel_OIII_br_y,fixed_param,100)   \n",
    "    print (OIII_br_par,OIII_br_error)\n",
    "    print (np.sum(OIII_br_model))\n",
    "    (OIII_nr_par,OIII_nr_error,OIII_nr_model,OIII_nr_res) = elliptical_moffat_fit(OIII_nr_data,OIII_nr_err,box_size,amp_OIII_nr,brightest_pixel_OIII_nr_x,brightest_pixel_OIII_nr_y,fixed_param,100)   \n",
    "    print (OIII_nr_par,OIII_nr_error)\n",
    "\n",
    "    (full_data,full_error) = (np.append(OIII_br_par,OIII_nr_par),np.append(OIII_br_error,OIII_nr_error))\n",
    "    moffat_table(full_data,full_error,obj)\n",
    "    #maps(Hb_blr_br_data,OIII_br_data,OIII_nr_data,Hb_model,OIII_br_model,OIII_nr_model,Hb_res,OIII_br_res,OIII_nr_res,obj)\n",
    "    #fluxden_compare(obj,Hb_blr_br_data,OIII_br_data,Hb_model,OIII_br_model,Hb_blr_br_err,OIII_br_err)\n",
    "    \n",
    "    plt.imshow(OIII_br_data,origin='lower',cmap=cmr.amber)\n",
    "    plt.plot(OIII_br_par[1],OIII_br_par[2],'bx')\n",
    "    plt.title(\"Blue Cloud Surface Brightness\")\n",
    "    plt.xlabel(r'$\\delta$ x (pixel)')\n",
    "    plt.ylabel(r'$\\delta$ y (pixel)')\n",
    "    plt.show()\n",
    "    plt.imshow(OIII_br_model,origin='lower',cmap=cmr.amber)\n",
    "    plt.plot(OIII_br_par[1],OIII_br_par[2],'bx')\n",
    "    plt.title(\"Blue Cloud Moffat Model\")\n",
    "    plt.xlabel(r'$\\delta$ x (pixel)')\n",
    "    plt.ylabel(r'$\\delta$ y (pixel)')\n",
    "    plt.show()\n",
    "    plt.imshow((OIII_br_data - OIII_br_model)/OIII_br_err,origin='lower',vmin=-5,vmax=5,cmap='BrBG')\n",
    "    plt.title(\"Blue Cloud Normalized Residual\")\n",
    "    plt.xlabel(r'$\\delta$ x (pixel)')\n",
    "    plt.ylabel(r'$\\delta$ y (pixel)')\n",
    "    plt.colorbar()\n",
    "    plt.show()\n",
    "    plt.imshow(OIII_nr_data,origin='lower')\n",
    "    plt.plot(OIII_nr_par[1],OIII_nr_par[2],'gx')\n",
    "    plt.show()\n",
    "    plt.imshow(OIII_nr_model,origin='lower')\n",
    "    plt.plot(OIII_nr_par[1],OIII_nr_par[2],'gx')\n",
    "    plt.show()\n",
    "    "
   ]
  },
  {
   "cell_type": "code",
   "execution_count": 25,
   "metadata": {},
   "outputs": [
    {
     "name": "stdout",
     "output_type": "stream",
     "text": [
      "HE0040-1105\n",
      "0 0\n",
      "[0.0440247  6.76602714 6.65761983] [0.0007556  0.04567361 0.05522191]\n",
      "0.886884931900429\n",
      "[0.11775818 0.63345667 1.85979091] [0.00174501 0.04721952 0.04631093]\n"
     ]
    },
    {
     "data": {
      "image/png": "[encoded data removed]",
      "text/plain": [
       "<Figure size 432x288 with 1 Axes>"
      ]
     },
     "metadata": {
      "needs_background": "light"
     },
     "output_type": "display_data"
    },
    {
     "data": {
      "image/png": "[encoded data removed]",
      "text/plain": [
       "<Figure size 432x288 with 1 Axes>"
      ]
     },
     "metadata": {
      "needs_background": "light"
     },
     "output_type": "display_data"
    },
    {
     "data": {
      "image/png": "[encoded data removed]",
      "text/plain": [
       "<Figure size 432x288 with 2 Axes>"
      ]
     },
     "metadata": {
      "needs_background": "light"
     },
     "output_type": "display_data"
    },
    {
     "data": {
      "image/png": "[encoded data removed]",
      "text/plain": [
       "<Figure size 432x288 with 1 Axes>"
      ]
     },
     "metadata": {
      "needs_background": "light"
     },
     "output_type": "display_data"
    },
    {
     "data": {
      "image/png": "[encoded data removed]",
      "text/plain": [
       "<Figure size 432x288 with 1 Axes>"
      ]
     },
     "metadata": {
      "needs_background": "light"
     },
     "output_type": "display_data"
    }
   ],
   "source": [
    "z = {\"HE0040-1105\":0.041692}\n",
    "\n",
    "objs = z.keys()\n",
    "\n",
    "for obj in objs:\n",
    "    (OIII_br_data,OIII_nr_data,amp_OIII_br,amp_OIII_nr,OIII_br_err,OIII_nr_err) = cloud_flux_data_err(obj)\n",
    "    box_size = np.shape(OIII_br_data)[1]  \n",
    "    y, x = np.mgrid[:box_size, :box_size]\n",
    "    xy=(x,y)\n",
    "    algorithm_script(obj,z[obj])"
   ]
  },
  {
   "cell_type": "code",
   "execution_count": null,
   "metadata": {},
   "outputs": [],
   "source": []
  }
 ],
 "metadata": {
  "kernelspec": {
   "display_name": "Python 3",
   "language": "python",
   "name": "python3"
  },
  "language_info": {
   "codemirror_mode": {
    "name": "ipython",
    "version": 3
   },
   "file_extension": ".py",
   "mimetype": "text/x-python",
   "name": "python",
   "nbconvert_exporter": "python",
   "pygments_lexer": "ipython3",
   "version": "3.7.6"
  }
 },
 "nbformat": 4,
 "nbformat_minor": 2
}
