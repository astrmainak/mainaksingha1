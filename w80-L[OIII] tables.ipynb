{
 "cells": [
  {
   "cell_type": "code",
   "execution_count": 1,
   "metadata": {},
   "outputs": [],
   "source": [
    "import numpy as np\n",
    "import astropy.io.fits as fits\n",
    "from astropy.table import Table, hstack\n",
    "import os\n",
    "import glob\n",
    "from astropy.table import vstack, join"
   ]
  },
  {
   "cell_type": "code",
   "execution_count": 2,
   "metadata": {},
   "outputs": [],
   "source": [
    "w80 = np.array([1009,815,795,1449,1280,1066,1285,778,1228,1127,890,672,667,900,822,1184])\n",
    "log_L_OIII = np.array([42.83,42.60,42.80,43.21,42.30,42.82,42.06,42.03,41.93,42.87,42.64,41.95,42.09,42.95,42.72,42.20])\n",
    "col2 = fits.Column(name='w80', format='E', array=w80)\n",
    "col3 = fits.Column(name='log_L_OIII', format='E', array=log_L_OIII)\n",
    "t = fits.BinTableHDU.from_columns([col2, col3])\n",
    "t.writeto('/home/mainak/Downloads/Outflow_paper1/harrison.fits',overwrite=True)"
   ]
  },
  {
   "cell_type": "code",
   "execution_count": 5,
   "metadata": {},
   "outputs": [],
   "source": [
    "w80 = np.array([1208,753,1458,467,637,263,604,632,948,797,564,787])\n",
    "log_L_OIII = np.array([41.7,42.61,43.13,42.51,41.78,42.23,41.6,41.3,41.3,42.0,42.08,42.15])\n",
    "col2 = fits.Column(name='w80', format='E', array=w80)\n",
    "col3 = fits.Column(name='log_L_OIII', format='E', array=log_L_OIII)\n",
    "t1 = fits.BinTableHDU.from_columns([col2, col3])\n",
    "t1.writeto('/home/mainak/Downloads/Outflow_paper1/sun.fits',overwrite=True)"
   ]
  },
  {
   "cell_type": "code",
   "execution_count": 4,
   "metadata": {},
   "outputs": [],
   "source": [
    "w80 = np.array([1167,667,1845,780,974,1230,723,489,876,1105,1315,688,714,753])\n",
    "log_L_OIII = np.array([42.87,43.48,42.74,42.96,43.10,43.38,43.31,43.56,43.30,43.29,43.52,42.83,43.27,43.55])\n",
    "col2 = fits.Column(name='w80', format='E', array=w80)\n",
    "col3 = fits.Column(name='log_L_OIII', format='E', array=log_L_OIII)\n",
    "t1 = fits.BinTableHDU.from_columns([col2, col3])\n",
    "t1.writeto('/home/mainak/Downloads/Outflow_paper1/Liu.fits',overwrite=True)"
   ]
  }
 ],
 "metadata": {
  "kernelspec": {
   "display_name": "Python 3",
   "language": "python",
   "name": "python3"
  },
  "language_info": {
   "codemirror_mode": {
    "name": "ipython",
    "version": 3
   },
   "file_extension": ".py",
   "mimetype": "text/x-python",
   "name": "python",
   "nbconvert_exporter": "python",
   "pygments_lexer": "ipython3",
   "version": "3.7.3"
  }
 },
 "nbformat": 4,
 "nbformat_minor": 2
}
