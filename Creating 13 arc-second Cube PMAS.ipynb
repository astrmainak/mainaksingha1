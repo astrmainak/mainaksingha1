{
 "cells": [
  {
   "cell_type": "code",
   "execution_count": 1,
   "metadata": {},
   "outputs": [],
   "source": [
    "import numpy as np\n",
    "import matplotlib.pyplot as plt\n",
    "import astropy.io.fits as fits\n",
    "from scipy.optimize import leastsq\n",
    "from numpy import exp\n",
    "from scipy import ndimage\n",
    "from PMASfunc import *"
   ]
  },
  {
   "cell_type": "code",
   "execution_count": 2,
   "metadata": {},
   "outputs": [],
   "source": [
    "def create_13_arcsec_minicube(wo_cube,wo_err,wo_header,brightest_pixel_x,brightest_pixel_y,box_size):\n",
    "    mini_cube_data = wo_cube[:,brightest_pixel_y-box_size:brightest_pixel_y+box_size+1,brightest_pixel_x-box_size:brightest_pixel_x+box_size+1]\n",
    "    mini_cube_err = wo_err[:,brightest_pixel_y-box_size:brightest_pixel_y+box_size+1,brightest_pixel_x-box_size:brightest_pixel_x+box_size+1]\n",
    "    wo_header['CRPIX1'] = wo_header['CRPIX1'] - (brightest_pixel_x-box_size)\n",
    "    wo_header['CRPIX2'] = wo_header['CRPIX2'] - (brightest_pixel_y-box_size)\n",
    "    return mini_cube_data, mini_cube_err,wo_header"
   ]
  },
  {
   "cell_type": "code",
   "execution_count": 3,
   "metadata": {},
   "outputs": [],
   "source": [
    "def scale_factor_spectrum(z,data,error,wo_wave):\n",
    "    k = 1+z\n",
    "    select1 = (wo_wave>5100*k) & (wo_wave<5130*k)\n",
    "    cont_dat = data[select1]\n",
    "    cont_err = error[select1]\n",
    "    error_maincube = np.std(cont_dat)\n",
    "    error_errcube = np.mean(cont_err)\n",
    "    fact = error_maincube/error_errcube\n",
    "    return fact\n",
    "\n",
    "def emp_fact(z,mini_cube,mini_err,wo_wave):\n",
    "    true_err = np.zeros((np.shape(wo_wave)[0],mini_cube.shape[1],mini_cube.shape[2]),dtype=np.float32)\n",
    "    for i in range(mini_cube.shape[1]):\n",
    "        for j in range(mini_cube.shape[2]):\n",
    "            k = 1+z\n",
    "            select1 = (wo_wave>5100*k) & (wo_wave<5130*k)\n",
    "   \n",
    "            (spectrum,error) = (mini_cube[:,i,j],mini_err[:,i,j])  \n",
    "            (spec,err) = (spectrum[select1],error[select1])\n",
    "            (error_maincube,error_errcube) = (np.std(spec),np.mean(err))\n",
    "            fact = error_maincube/error_errcube\n",
    "            new_err = fact*error\n",
    "            true_err[:,i,j] = new_err \n",
    "    return true_err\n",
    "    "
   ]
  },
  {
   "cell_type": "code",
   "execution_count": 4,
   "metadata": {},
   "outputs": [],
   "source": [
    "def algorithmic_script(obj,z,box_size=6,min_wave=4750,max_wave=5090,prefix_path_cube=\"/home/mainak/ftp.hidrive.strato.com/users/login-carsftp/IFU_data\",destination_path_cube=\"/home/mainak/Downloads/Outflow_paper1/PMAS\"):\n",
    "    (wo_cube,wo_err,wo_wave,wo_header) = loadCube('%s/%s/%s.wo_absorption.fits'%(destination_path_cube,obj,obj)) \n",
    "    [x0,y0] = agn_loc(obj)\n",
    "    (brightest_pixel_x,brightest_pixel_y) = (int(x0),int(y0))\n",
    "    \n",
    "    (mini_cube,mini_err,wo_header)=create_13_arcsec_minicube(wo_cube,wo_err,wo_header,brightest_pixel_x,brightest_pixel_y,box_size=6)\n",
    "    true_err = emp_fact(z,mini_cube,mini_err,wo_wave)\n",
    "    k = 1+z\n",
    "    select = (wo_wave > min_wave*k) & (wo_wave < max_wave*k)  \n",
    "    mini_header = wo_header\n",
    "    mini_wave = wo_wave[select]\n",
    "    mini_cube = mini_cube[select]\n",
    "    mini_err = true_err[select]\n",
    "    store_cube('%s/%s/%s.13_arcsec_minicube.fits'%(destination_path_cube,obj,obj),mini_cube,mini_wave,mini_err,mini_header)\n",
    "    print ('%s'%(obj))"
   ]
  },
  {
   "cell_type": "code",
   "execution_count": 5,
   "metadata": {},
   "outputs": [
    {
     "name": "stdout",
     "output_type": "stream",
     "text": [
      "HE0853-0126\n",
      "HE0949-0122\n"
     ]
    }
   ],
   "source": [
    "z = {\"HE0853-0126\":0.05981,\"HE0949-0122\":0.01993}\n",
    "objs = z.keys()\n",
    "\n",
    "\n",
    "for obj in objs:\n",
    "    algorithmic_script(obj,z[obj])              \n"
   ]
  },
  {
   "cell_type": "code",
   "execution_count": null,
   "metadata": {
    "collapsed": true
   },
   "outputs": [],
   "source": []
  }
 ],
 "metadata": {
  "kernelspec": {
   "display_name": "Python 3",
   "language": "python",
   "name": "python3"
  },
  "language_info": {
   "codemirror_mode": {
    "name": "ipython",
    "version": 3
   },
   "file_extension": ".py",
   "mimetype": "text/x-python",
   "name": "python",
   "nbconvert_exporter": "python",
   "pygments_lexer": "ipython3",
   "version": "3.7.3"
  }
 },
 "nbformat": 4,
 "nbformat_minor": 2
}
