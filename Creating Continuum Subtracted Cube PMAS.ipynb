{
 "cells": [
  {
   "cell_type": "code",
   "execution_count": 1,
   "metadata": {},
   "outputs": [],
   "source": [
    "import numpy as np\n",
    "import matplotlib.pyplot as plt\n",
    "import astropy.io.fits as fits\n",
    "from scipy.optimize import leastsq\n",
    "from scipy import ndimage\n",
    "from func import *"
   ]
  },
  {
   "cell_type": "code",
   "execution_count": 2,
   "metadata": {},
   "outputs": [],
   "source": [
    "def algorithm_script(obj,z,prefix_path_cube=\"/home/mainak/ftp.hidrive.strato.com/users/login-carsftp/IFU_data\",destination_path_cube=\"/home/mainak/Downloads/Outflow_paper1/PMAS\"):\n",
    "    print ('%s'%(obj))\n",
    "    (orig_cube,orig_err,orig_wave,orig_header) = loadCube('%s/PMAS_O3Ha/%s/%s.rscube.fits'%(prefix_path_cube,obj,obj))   \n",
    "    (cont_cube,cont_err,cont_wave,cont_header) = loadCube('%s/PMAS_O3Ha/%s/fitting/full/%s.cont_model.fits'%(prefix_path_cube,obj,obj))\n",
    "    (QSO_cube,QSO_err,QSO_wave,QSO_header) = loadCube('%s/PMAS_O3Ha/%s/%s.QSO_full.fits'%(prefix_path_cube,obj,obj))\n",
    "    difference = difference_in_wavelength_dimension(orig_cube,cont_cube)\n",
    "    (wo_cube,wo_err,wo_wave,wo_header) = create_wo_absorption_cube(obj,orig_cube,orig_err,orig_header,cont_cube,cont_wave,difference)\n",
    "    store_cube('%s/%s/%s.wo_absorption.fits'%(destination_path_cube,obj,obj),wo_cube,wo_wave,wo_err,wo_header)"
   ]
  },
  {
   "cell_type": "code",
   "execution_count": 3,
   "metadata": {},
   "outputs": [
    {
     "name": "stdout",
     "output_type": "stream",
     "text": [
      "HE0853-0126\n",
      "HE0949-0122\n"
     ]
    }
   ],
   "source": [
    "z = {\"HE0853-0126\":0.05981,\"HE0949-0122\":0.01993}\n",
    "\n",
    "objs = z.keys()\n",
    "\n",
    "for obj in objs:\n",
    "     algorithm_script(obj,z[obj]) "
   ]
  },
  {
   "cell_type": "code",
   "execution_count": 29,
   "metadata": {},
   "outputs": [],
   "source": [
    "hdu = fits.open('/home/mainak/Downloads/Outflow_paper1/PMAS/HE0853-0126/HE0853-0126.wo_absorption.fits')\n",
    "cube = hdu[0].data\n",
    "err = hdu[1].data\n",
    "header = hdu[0].header\n",
    "try:\n",
    "    err = hdu[1].data\n",
    "except IndexError:\n",
    "    err = 0\n",
    "wavestart = header['CRVAL3']\n",
    "try:\n",
    "    wavint = header['CD3_3']\n",
    "except KeyError:\n",
    "    wavint = header['CDELT3']  \n",
    "wave = wavestart+np.arange(cube.shape[0])*wavint\n",
    "z = 0.05981\n",
    "(x0,y0) = (8,7)\n",
    "hdu.close()"
   ]
  },
  {
   "cell_type": "code",
   "execution_count": 56,
   "metadata": {},
   "outputs": [],
   "source": [
    "k = 1+z\n",
    "select = ((wave>4750*k) & (wave<5090*k)) ^ ((wave>4775*k) & (wave<4783*k))"
   ]
  },
  {
   "cell_type": "code",
   "execution_count": 57,
   "metadata": {},
   "outputs": [],
   "source": [
    "spec = cube[:,y0,x0][select]\n",
    "spec_err = err[:,y0,x0][select]"
   ]
  },
  {
   "cell_type": "code",
   "execution_count": 59,
   "metadata": {},
   "outputs": [
    {
     "data": {
      "image/png": "[encoded data removed]",
      "text/plain": [
       "<Figure size 432x288 with 1 Axes>"
      ]
     },
     "metadata": {
      "needs_background": "light"
     },
     "output_type": "display_data"
    }
   ],
   "source": [
    "plt.plot(wave[select],spec)\n",
    "plt.show()"
   ]
  },
  {
   "cell_type": "code",
   "execution_count": null,
   "metadata": {},
   "outputs": [],
   "source": [
    "select = "
   ]
  }
 ],
 "metadata": {
  "kernelspec": {
   "display_name": "Python 3",
   "language": "python",
   "name": "python3"
  },
  "language_info": {
   "codemirror_mode": {
    "name": "ipython",
    "version": 3
   },
   "file_extension": ".py",
   "mimetype": "text/x-python",
   "name": "python",
   "nbconvert_exporter": "python",
   "pygments_lexer": "ipython3",
   "version": "3.7.3"
  }
 },
 "nbformat": 4,
 "nbformat_minor": 2
}
