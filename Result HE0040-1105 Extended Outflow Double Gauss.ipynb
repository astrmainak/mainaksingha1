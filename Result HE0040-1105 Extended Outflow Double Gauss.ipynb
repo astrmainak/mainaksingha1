{
 "cells": [
  {
   "cell_type": "code",
   "execution_count": 1,
   "metadata": {},
   "outputs": [],
   "source": [
    "import astropy.io.fits as fits\n",
    "import numpy as np\n",
    "import matplotlib.pyplot as plt\n",
    "from scipy.optimize import curve_fit\n",
    "from scipy import asarray as ar,exp\n",
    "from scipy import ndimage\n",
    "import random\n",
    "from scipy.optimize import leastsq\n",
    "from scipy import ndimage\n",
    "from scipy.optimize import least_squares\n",
    "from func import *\n",
    "from scipy import stats\n",
    "from matplotlib.colors import LogNorm\n",
    "from astropy.convolution import convolve\n",
    "from astropy.convolution import Gaussian2DKernel\n",
    "from scipy.signal import convolve as scipy_convolve\n",
    "kernel = Gaussian2DKernel(x_stddev=0.05)\n",
    "plt.rcParams['font.family'] = 'Serif'\n",
    "plt.rcParams['font.weight'] = 'light'\n",
    "from matplotlib import cm"
   ]
  },
  {
   "cell_type": "code",
   "execution_count": 2,
   "metadata": {},
   "outputs": [],
   "source": [
    "(x_BH,y_BH)=(49.6491,49.8141)\n",
    "\n",
    "xmin = - x_BH*0.2 - 0.5*0.2\n",
    "xmax = 0.2*(100 - x_BH) + 0.5*0.2\n",
    "ymin = - y_BH*0.2 - 0.5*0.2\n",
    "ymax = 0.2*(100 - y_BH) + 0.5*0.2"
   ]
  },
  {
   "cell_type": "code",
   "execution_count": 3,
   "metadata": {},
   "outputs": [],
   "source": [
    "hdu = fits.open('/Volumes/Seagate/HE0040-1105 Extended/table_HE0040-1105_extended_double_gauss.fits')\n",
    "data = hdu[1].data\n",
    "amp_OIII = data['amp_OIII']\n",
    "amp_OIII_err = data['amp_OIII_err']\n",
    "amp_OIII_br = data['amp_OIII_br']\n",
    "amp_OIII_br_err = data['amp_OIII_br_err']\n",
    "vel_OIII = data['vel_OIII']\n",
    "vel_OIII_err = data['vel_OIII_err']\n",
    "vel_OIII_br = data['vel_OIII_br']\n",
    "vel_OIII_br_err = data['vel_OIII_br_err']\n",
    "vel_sigma_OIII = data['vel_sigma_OIII']\n",
    "vel_sigma_OIII_err = data['vel_sigma_OIII_err']\n",
    "vel_sigma_OIII_br = data['vel_sigma_OIII_br']\n",
    "vel_sigma_OIII_br_err = data['vel_OIII_br_err']\n",
    "w80 = data['w80']\n",
    "w80_err = data['w80_err']\n",
    "v5 = data['v5']\n",
    "v5_err = data['v5_err']\n",
    "x_cor = np.array([int(x) for x in data['x_cor']])\n",
    "y_cor = np.array([int(x) for x in data['y_cor']])\n",
    "vel_off = np.abs(vel_OIII_br - vel_OIII)\n",
    "vel_off_err = np.sqrt(vel_OIII_err**2 + vel_OIII_br_err**2)\n",
    "vel_syst = (vel_OIII/vel_OIII)*12568\n",
    "hdu.close()"
   ]
  },
  {
   "cell_type": "code",
   "execution_count": 4,
   "metadata": {},
   "outputs": [],
   "source": [
    "hdu = fits.open('/Volumes/Seagate/HE0040-1105 Extended/HE0040-1105.extended_cube.fits')\n",
    "data = hdu[0].data\n",
    "dim = np.shape(data)\n",
    "hdu.close()"
   ]
  },
  {
   "cell_type": "code",
   "execution_count": 5,
   "metadata": {},
   "outputs": [],
   "source": [
    "import seaborn as sns\n",
    "sigma_eff_OIII = line_width_recons(vel_sigma_OIII,rest_line=5006.8,inst_res_fwhm=0)\n",
    "sigma_eff_OIII_br = line_width_recons(vel_sigma_OIII_br,rest_line=5006.8,inst_res_fwhm=0) \n",
    "flux_OIII = amp_OIII*(np.sqrt(2.*np.pi)*np.fabs(sigma_eff_OIII))\n",
    "flux_OIII_br = amp_OIII_br*(np.sqrt(2.*np.pi)*np.fabs(sigma_eff_OIII_br))\n",
    "   \n",
    "\n",
    "s = flux_OIII+flux_OIII_br\n",
    "\n",
    "for l in range(100):\n",
    "    popt = np.zeros((10201,100),dtype=np.float32)\n",
    "    sigma_eff_OIII = line_width_recons(np.random.normal(vel_sigma_OIII,vel_sigma_OIII_err),rest_line=5006.8,inst_res_fwhm=0)\n",
    "    sigma_eff_OIII_br = line_width_recons(np.random.normal(vel_sigma_OIII_br,vel_sigma_OIII_br_err),rest_line=5006.8,inst_res_fwhm=0) \n",
    "    amp_eff_OIII = np.random.normal(amp_OIII,amp_OIII_err)\n",
    "    amp_eff_OIII_br = np.random.normal(amp_OIII_br,amp_OIII_br_err)                                                      \n",
    "    flux_OIII = amp_eff_OIII*(np.sqrt(2.*np.pi)*np.fabs(sigma_eff_OIII))\n",
    "    flux_OIII_br = amp_eff_OIII_br*(np.sqrt(2.*np.pi)*np.fabs(sigma_eff_OIII_br))\n",
    "    F = flux_OIII + flux_OIII_br                                                      \n",
    "    popt[:,l]=F\n",
    "s_err = np.nanstd(popt,1)"
   ]
  },
  {
   "cell_type": "code",
   "execution_count": 6,
   "metadata": {},
   "outputs": [
    {
     "name": "stderr",
     "output_type": "stream",
     "text": [
      "/opt/anaconda3/lib/python3.7/site-packages/ipykernel_launcher.py:1: RuntimeWarning: divide by zero encountered in true_divide\n",
      "  \"\"\"Entry point for launching an IPython kernel.\n"
     ]
    }
   ],
   "source": [
    "gas_select = (s / s_err > 3) #& (vel_sigma_OIII_br/vel_sigma_OIII_br_err > 1) & (vel_sigma_OIII/vel_sigma_OIII_err > 1) \n",
    "dim = [0,101,101]"
   ]
  },
  {
   "cell_type": "code",
   "execution_count": 7,
   "metadata": {},
   "outputs": [],
   "source": [
    "s_map = np.full((dim[1],dim[2]) ,np.nan)\n",
    "s_map[x_cor[gas_select],y_cor[gas_select]] = s[gas_select]"
   ]
  },
  {
   "cell_type": "code",
   "execution_count": 8,
   "metadata": {},
   "outputs": [
    {
     "name": "stderr",
     "output_type": "stream",
     "text": [
      "/opt/anaconda3/lib/python3.7/site-packages/matplotlib/colors.py:1110: RuntimeWarning: invalid value encountered in less_equal\n",
      "  mask |= resdat <= 0\n"
     ]
    },
    {
     "data": {
      "image/png": "[encoded data removed]",
      "text/plain": [
       "<Figure size 432x288 with 2 Axes>"
      ]
     },
     "metadata": {
      "needs_background": "light"
     },
     "output_type": "display_data"
    }
   ],
   "source": [
    "fig = plt.figure()\n",
    "\n",
    "ax = plt.axes([0,0,1,1])\n",
    "\n",
    "cmap=cm.afmhot\n",
    "#cmap = sns.cubehelix_palette(1, light=0.05,dark=0.95, as_cmap=True)\n",
    "cmap.set_bad('k',1) # Make the NANs white\n",
    "\n",
    "frame = plt.imshow(s_map, origin='lower', cmap=cmap, interpolation='None',vmin=0.02,vmax=20,extent=[xmin,xmax,ymin,ymax], norm=LogNorm())\n",
    "cbar = plt.colorbar()\n",
    "plt.tick_params(axis='both',which='both',direction='in',width=1.5,labelsize=15)\n",
    "plt.xlabel(r'$\\Delta$ x (\")',fontsize=15)\n",
    "plt.ylabel(r'$\\Delta$ y (\")',fontsize=15)\n",
    "plt.plot(0,0,'o',color='k',ms=5)\n",
    "\n",
    "cbar.set_label(r\"[OIII] Total Flux ($\\times 10^{-16}$ erg s$^{-1}$ cm$^{-2}$)\",fontsize=10)"
   ]
  },
  {
   "cell_type": "code",
   "execution_count": 11,
   "metadata": {},
   "outputs": [
    {
     "name": "stderr",
     "output_type": "stream",
     "text": [
      "/opt/anaconda3/lib/python3.7/site-packages/ipykernel_launcher.py:1: RuntimeWarning: divide by zero encountered in true_divide\n",
      "  \"\"\"Entry point for launching an IPython kernel.\n",
      "/opt/anaconda3/lib/python3.7/site-packages/ipykernel_launcher.py:1: RuntimeWarning: invalid value encountered in true_divide\n",
      "  \"\"\"Entry point for launching an IPython kernel.\n",
      "/opt/anaconda3/lib/python3.7/site-packages/ipykernel_launcher.py:1: RuntimeWarning: invalid value encountered in greater\n",
      "  \"\"\"Entry point for launching an IPython kernel.\n"
     ]
    }
   ],
   "source": [
    "gas_select = (w80/ w80_err > 1) & (amp_OIII>0.005) & (amp_OIII_br>0.005)\n",
    "dim = [0,101,101]\n",
    "\n",
    "w80_map = np.full((dim[1],dim[2]) ,np.nan)\n",
    "w80_map[x_cor[gas_select],y_cor[gas_select]] = w80[gas_select]# - vel_syst[gas_select]"
   ]
  },
  {
   "cell_type": "code",
   "execution_count": 14,
   "metadata": {},
   "outputs": [
    {
     "data": {
      "image/png": "[encoded data removed]",
      "text/plain": [
       "<Figure size 432x288 with 2 Axes>"
      ]
     },
     "metadata": {
      "needs_background": "light"
     },
     "output_type": "display_data"
    }
   ],
   "source": [
    "fig = plt.figure()\n",
    "\n",
    "ax = plt.axes([0,0,1,1])\n",
    "\n",
    "\n",
    "cmap = cm.afmhot\n",
    "\n",
    "cmap.set_bad('w',1) # Make the NANs white\n",
    "\n",
    "frame = plt.imshow(w80_map, origin='lower', cmap='Reds', vmin=30,vmax=500,extent=[xmin,xmax,ymin,ymax],interpolation='None')\n",
    "cbar = plt.colorbar()\n",
    "plt.tick_params(axis='both',which='both',direction='in',width=1.5,labelsize=15)\n",
    "plt.xlabel(r'$\\Delta$ x (\")',fontsize=15)\n",
    "plt.ylabel(r'$\\Delta$ y (\")',fontsize=15)\n",
    "plt.plot(0,0,'o',color='Lime',ms=5)\n",
    "\n",
    "cbar.set_label(r\"[OIII] W$_{80}$ (km/s)\")"
   ]
  },
  {
   "cell_type": "code",
   "execution_count": 15,
   "metadata": {},
   "outputs": [
    {
     "name": "stderr",
     "output_type": "stream",
     "text": [
      "/opt/anaconda3/lib/python3.7/site-packages/ipykernel_launcher.py:1: RuntimeWarning: invalid value encountered in true_divide\n",
      "  \"\"\"Entry point for launching an IPython kernel.\n",
      "/opt/anaconda3/lib/python3.7/site-packages/ipykernel_launcher.py:1: RuntimeWarning: invalid value encountered in greater\n",
      "  \"\"\"Entry point for launching an IPython kernel.\n"
     ]
    }
   ],
   "source": [
    "gas_select = (np.abs(v5)/ v5_err > 1) & (amp_OIII>0.005) & (amp_OIII_br>0.005)\n",
    "dim = [0,101,101]\n",
    "\n",
    "v5_map = np.full((dim[1],dim[2]) ,np.nan)\n",
    "v5_map[x_cor[gas_select],y_cor[gas_select]] = v5[gas_select]# - vel_syst[gas_select]"
   ]
  },
  {
   "cell_type": "code",
   "execution_count": 16,
   "metadata": {},
   "outputs": [
    {
     "data": {
      "image/png": "[encoded data removed]",
      "text/plain": [
       "<Figure size 432x288 with 2 Axes>"
      ]
     },
     "metadata": {
      "needs_background": "light"
     },
     "output_type": "display_data"
    }
   ],
   "source": [
    "fig = plt.figure()\n",
    "\n",
    "ax = plt.axes([0,0,1,1])\n",
    "\n",
    "\n",
    "cmap = cm.afmhot\n",
    "\n",
    "cmap.set_bad('k',1) # Make the NANs white\n",
    "\n",
    "frame = plt.imshow(v5_map, origin='lower', cmap='Reds', vmin=-300,vmax=-50,extent=[xmin,xmax,ymin,ymax],interpolation='None')\n",
    "cbar = plt.colorbar()\n",
    "plt.tick_params(axis='both',which='both',direction='in',width=1.5,labelsize=15)\n",
    "plt.xlabel(r'$\\Delta$ x (\")',fontsize=15)\n",
    "plt.ylabel(r'$\\Delta$ y (\")',fontsize=15)\n",
    "plt.plot(0,0,'o',color='Lime',ms=5)\n",
    "\n",
    "cbar.set_label(r\"[OIII] V$_{5}$ (km/s)\")"
   ]
  },
  {
   "cell_type": "code",
   "execution_count": 125,
   "metadata": {},
   "outputs": [],
   "source": [
    "hdu = fits.open('/Volumes/Seagate/3C264/Radio/3C264_MERLIN.fits')\n",
    "header = hdu[0].header"
   ]
  },
  {
   "cell_type": "code",
   "execution_count": 129,
   "metadata": {},
   "outputs": [
    {
     "data": {
      "text/plain": [
       "array([0.0004537 , 0.00024342, 0.00058478, ..., 0.00093841, 0.00057431,\n",
       "       0.00064358], dtype=float32)"
      ]
     },
     "execution_count": 129,
     "metadata": {},
     "output_type": "execute_result"
    }
   ],
   "source": [
    "amp_OIII_br_err"
   ]
  },
  {
   "cell_type": "code",
   "execution_count": 130,
   "metadata": {},
   "outputs": [
    {
     "data": {
      "text/plain": [
       "array([7.8997161e-04, 3.4647397e-04, 6.0228870e-04, ..., 6.5501791e-04,\n",
       "       7.1933639e-31, 2.0075918e-03], dtype=float32)"
      ]
     },
     "execution_count": 130,
     "metadata": {},
     "output_type": "execute_result"
    }
   ],
   "source": [
    "amp_OIII_br"
   ]
  },
  {
   "cell_type": "code",
   "execution_count": null,
   "metadata": {},
   "outputs": [],
   "source": []
  }
 ],
 "metadata": {
  "kernelspec": {
   "display_name": "Python 3",
   "language": "python",
   "name": "python3"
  },
  "language_info": {
   "codemirror_mode": {
    "name": "ipython",
    "version": 3
   },
   "file_extension": ".py",
   "mimetype": "text/x-python",
   "name": "python",
   "nbconvert_exporter": "python",
   "pygments_lexer": "ipython3",
   "version": "3.7.6"
  }
 },
 "nbformat": 4,
 "nbformat_minor": 4
}
