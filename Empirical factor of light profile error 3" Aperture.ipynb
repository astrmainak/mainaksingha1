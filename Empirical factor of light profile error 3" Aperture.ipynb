{
 "cells": [
  {
   "cell_type": "code",
   "execution_count": 1,
   "metadata": {},
   "outputs": [
    {
     "name": "stderr",
     "output_type": "stream",
     "text": [
      "/home/mainak/anaconda2/lib/python2.7/site-packages/h5py/__init__.py:34: FutureWarning: Conversion of the second argument of issubdtype from `float` to `np.floating` is deprecated. In future, it will be treated as `np.float64 == np.dtype(float).type`.\n",
      "  from ._conv import register_converters as _register_converters\n",
      "/home/mainak/.local/lib/python2.7/site-packages/pyneb/utils/manage_atomic_data.py:528: VisibleDeprecationWarning: Reading unicode strings without specifying the encoding argument is deprecated. Set the encoding, use None for the system default.\n",
      "  gsconf = np.genfromtxt(execution_path('../atomic_data/levels/gsconfs.dat'), names=['atom', 'gsconf'], dtype=None)\n"
     ]
    }
   ],
   "source": [
    "import numpy as np\n",
    "import matplotlib.pyplot as plt\n",
    "import astropy.io.fits as fits\n",
    "from scipy.optimize import leastsq\n",
    "from numpy import exp\n",
    "from scipy import ndimage\n",
    "from func import *"
   ]
  },
  {
   "cell_type": "code",
   "execution_count": 6,
   "metadata": {
    "collapsed": true
   },
   "outputs": [],
   "source": [
    "def err_ratio(data,err):\n",
    "    data[1:-1,1:-1]=0\n",
    "    err[1:-1,1:-1]=0\n",
    "    edge_fluxmap = data[data!=0]\n",
    "    edge_errmap = err[err!=0]\n",
    "    err_fluxmap = np.std(edge_fluxmap)\n",
    "    err_errmap = np.mean(edge_errmap)\n",
    "    fact = err_fluxmap/err_errmap\n",
    "    return fact\n",
    "\n",
    "def emp_fact(err_ratio_Hb1,err_ratio_Hb2,err_ratio_OIII_br,broad2=False):\n",
    "    if broad2:\n",
    "        emp_Hb2 = err_ratio_Hb2\n",
    "    else:\n",
    "        emp_Hb2 = 0\n",
    "    emp_Hb1 = err_ratio_Hb1\n",
    "    emp_wing = err_ratio_OIII_br\n",
    "    return emp_Hb1,emp_Hb2,emp_wing"
   ]
  },
  {
   "cell_type": "code",
   "execution_count": 7,
   "metadata": {
    "collapsed": true
   },
   "outputs": [],
   "source": [
    "def emp_table(obj,emp_Hb1,emp_Hb2,emp_wing,destination_path_cube=\"/home/mainak/Downloads/Outflow_paper1/MUSE\"):\n",
    "    popt = [emp_Hb1,emp_Hb2,emp_wing]\n",
    "    column_names={'emp_fact_Hb1':0,'emp_fact_Hb2':1,'emp_fact_wing':2}\n",
    "    columns=[]\n",
    "    for key in column_names.keys():\n",
    "        columns.append(fits.Column(name=key,format='E',array=[popt[column_names[key]]]))\n",
    "    coldefs = fits.ColDefs(columns)\n",
    "    hdu = fits.BinTableHDU.from_columns(coldefs)\n",
    "    hdu.writeto('%s/%s/%s_empirical_factor_subcube.fits'%(destination_path_cube,obj,obj),overwrite=True)\n",
    "\n"
   ]
  },
  {
   "cell_type": "code",
   "execution_count": 8,
   "metadata": {
    "collapsed": true
   },
   "outputs": [],
   "source": [
    "def algorithm_script(obj,z,broad2,destination_path_cube=\"/home/mainak/Downloads/Outflow_paper1/MUSE\"):\n",
    "    print '%s'%(obj)\n",
    "\n",
    "    (Hb1_blr_br_data,Hb2_blr_br_data) = loadblr('%s/Flux Maps/%s/subcube_par_%s.fits'%(destination_path_cube,obj,obj))\n",
    "    (Hb1_blr_br_err,Hb2_blr_br_err) = loadblr('%s/Flux Maps/%s/subcube_par_err_%s.fits'%(destination_path_cube,obj,obj))\n",
    "    OIII_br_err = loadwing_err('%s/Flux Maps/%s/subcube_par_err_%s.fits'%(destination_path_cube,obj,obj))\n",
    "    OIII_br_data = loadwing_err('%s/Flux Maps/%s/subcube_par_%s.fits'%(destination_path_cube,obj,obj)) # It opens the hdu[3] where the OIII_br data \n",
    "  \n",
    "    err_ratio_OIII_br = err_ratio(OIII_br_data,OIII_br_err)\n",
    "    err_ratio_Hb1 = err_ratio(Hb1_blr_br_data,Hb1_blr_br_err)\n",
    "    err_ratio_Hb2 = err_ratio(Hb2_blr_br_data,Hb2_blr_br_err)\n",
    "    (emp_Hb1,emp_Hb2,emp_wing) = emp_fact(err_ratio_Hb1,err_ratio_Hb2,err_ratio_OIII_br,broad2)\n",
    "    print emp_Hb1,emp_Hb2,emp_wing\n",
    "    emp_table(obj,emp_Hb1,emp_Hb2,emp_wing)"
   ]
  },
  {
   "cell_type": "code",
   "execution_count": 9,
   "metadata": {},
   "outputs": [
    {
     "name": "stdout",
     "output_type": "stream",
     "text": [
      "HE0345+0056\n",
      "15.222629 15.761352 12.901825\n",
      "HE0412-0803\n",
      "8.121325 0 8.239651\n",
      "HE0224-2834\n",
      "9.413425 0 6.747091\n",
      "HE0433-1028\n",
      "2.5560184 1.9514743 5.4899254\n",
      "HE2233+0124\n",
      "1.517402 1.3830233 1.1046313\n",
      "HE1330-1013\n",
      "1.5794193 1.7396283 1.1692858\n",
      "HE1011-0403\n",
      "1.9336365 2.367999 2.0449343\n",
      "HE0429-0247\n",
      "4.6716094 7.149344 6.860238\n",
      "HE0021-1810\n",
      "1.0194954 0 4.588025\n",
      "HE0227-0913\n",
      "13.8548565 13.839813 2.8249495\n",
      "HE1029-1831\n",
      "1.828467 1.7635233 3.7001073\n",
      "HE0232-0900\n",
      "22.78571 0 21.86577\n",
      "HE2222-0026\n",
      "1.4775398 1.6231946 1.4996231\n",
      "HE2302-0857\n",
      "4.5948586 0 4.9886885\n",
      "HE0021-1819\n",
      "1.8785377 0 2.6389513\n",
      "HE2128-0221\n",
      "2.4497123 0 1.9578505\n",
      "HE0853+0102\n",
      "1.3272012 1.2595259 1.4256444\n",
      "HE1237-0504\n",
      "5.831209 0 4.969183\n",
      "HE1107-0813\n",
      "1.9822851 3.049605 2.4390473\n",
      "HE0114-0015\n",
      "1.3032086 0 1.2271528\n",
      "HE2211-3903\n",
      "1.8929497 0 1.3774226\n",
      "HE0351+0240\n",
      "1.9639591 2.8504014 4.7769957\n",
      "HE0040-1105\n",
      "1.9171313 0 2.3746393\n",
      "HE0253-1641\n",
      "4.623868 3.210793 8.565299\n",
      "HE1126-0407\n",
      "7.8426785 12.115863 2.889389\n",
      "HE0119-0118\n",
      "2.3862443 1.8196064 5.030903\n",
      "HE1248-1356\n",
      "1.7604065 0 2.5330808\n",
      "HE0108-4743\n",
      "2.8933432 5.784241 5.370116\n",
      "HE1353-1917\n",
      "1.9494376 2.2388322 11.532068\n",
      "HE1417-0909\n",
      "6.4015284 0 3.7783628\n",
      "HE0212-0059\n",
      "2.700611 1.0534745 2.1910257\n",
      "HE1108-2813\n",
      "1.5224 0 1.5332408\n",
      "HE0934+0119\n",
      "3.265795 2.4530582 3.513214\n",
      "HE1017-0305\n",
      "2.4538298 0 2.053154\n"
     ]
    }
   ],
   "source": [
    "z = {\"HE0021-1810\":0.05352,\"HE0021-1819\":0.053197,\"HE0040-1105\":0.041692,\"HE0108-4743\":0.02392,\"HE0114-0015\":0.04560\n",
    "    ,\"HE0119-0118\":0.054341,\"HE0212-0059\":0.026385,\"HE0224-2834\":0.059800,\"HE0227-0913\":0.016451,\"HE0232-0900\":0.043143\n",
    "    ,\"HE0253-1641\":0.031588,\"HE0345+0056\":0.031,\"HE0351+0240\":0.036,\"HE0412-0803\":0.038160,\"HE0429-0247\":0.042009\n",
    "    ,\"HE0433-1028\":0.035550,\"HE0853+0102\":0.052,\"HE0934+0119\":0.050338,\"HE1011-0403\":0.058314,\"HE1017-0305\":0.049986\n",
    "    ,\"HE1029-1831\":0.040261,\"HE1107-0813\":0.058,\"HE1108-2813\":0.024013,\"HE1126-0407\":0.061960,\"HE1237-0504\":0.009\n",
    "    ,\"HE1248-1356\":0.01465,\"HE1330-1013\":0.022145,\"HE1353-1917\":0.035021,\"HE1417-0909\":0.044,\"HE2128-0221\":0.05248\n",
    "    ,\"HE2211-3903\":0.039714,\"HE2222-0026\":0.059114,\"HE2233+0124\":0.056482,\"HE2302-0857\":0.046860}\n",
    "\n",
    "broad2= {'HE0021-1810':False,'HE0021-1819':False,'HE0040-1105':False,'HE0108-4743':True,'HE0114-0015':False\n",
    "        ,'HE0119-0118':True,'HE0212-0059':True,'HE0224-2834':False,'HE0227-0913':True,'HE0232-0900':False\n",
    "        ,'HE0253-1641':True,'HE0345+0056':True,'HE0351+0240':True,'HE0412-0803':False,'HE0429-0247':True\n",
    "        ,'HE0433-1028':True,'HE0853+0102':True,'HE0934+0119':True,'HE1011-0403':True,'HE1017-0305':False\n",
    "        ,'HE1029-1831':True,'HE1107-0813':True,'HE1108-2813':False,'HE1126-0407':True,'HE1237-0504':False\n",
    "        ,'HE1248-1356':False,'HE1330-1013':True,'HE1353-1917':True,'HE1417-0909':False,'HE2128-0221':False\n",
    "        ,'HE2211-3903':False,'HE2222-0026':True,'HE2233+0124':True,'HE2302-0857':False}\n",
    "\n",
    "\n",
    "objs = z.keys()\n",
    "\n",
    "for obj in objs:\n",
    "    algorithm_script(obj,z[obj],broad2[obj])"
   ]
  },
  {
   "cell_type": "markdown",
   "metadata": {},
   "source": [
    "For this galaxy when we did not have the proper error propagation estimating code \n",
    "and continuum missing from the broad H-beta the reduced chi-squared was 23. Introducing \n",
    "the continuum brought it down to 14. Then we did the error estimation with monte carlo \n",
    "properly which further brought it down to 7. Now we see that the error for the both \n",
    "BLR H-beta and broad [OIII] was underestimated. \n",
    "\n",
    "What we did here is to check the error from the 2D maps and the 2D error maps to see whether\n",
    "they make any sense. That is why we choose the region of the edge where we took 2 pixels from \n",
    "the edges along the map and calculate the standard deviation. The reason behind this is BLR\n",
    "H-beta is point like and hence along the edge it should be almost equal to 0 but from the 2D\n",
    "maps it is not cleraly 0 but a fluctuation between positive and sometimes negative values.\n",
    "Taking the standard deviation would give us the error.\n",
    "\n",
    "Next we take the 2D error maps and choose the corresponding pixels. Since this is an error map\n",
    "already, thi stime we calculate the mean. Taking the reatios of this two error we get a ratio of\n",
    "5 which means that the true error was underestimated to a factor of 5. This factor is constant \n",
    "throughout the edge.\n",
    "\n",
    "We also do it for the broad [OIII] since most of the [OIII] emission comes from a very compact\n",
    "region around the center. Hence, if there is any excess flux that should be rather low and will\n",
    "not interfere with our measurements. Repeating the previous steps we get a ratio of 2.5.\n",
    "\n",
    "We cannot do it for the narrow [OIII] since it is extended in nature and hence the error computation\n",
    "from the 2D maps will not return its true eeror."
   ]
  },
  {
   "cell_type": "code",
   "execution_count": null,
   "metadata": {
    "collapsed": true
   },
   "outputs": [],
   "source": []
  }
 ],
 "metadata": {
  "kernelspec": {
   "display_name": "Python 2",
   "language": "python",
   "name": "python2"
  },
  "language_info": {
   "codemirror_mode": {
    "name": "ipython",
    "version": 2
   },
   "file_extension": ".py",
   "mimetype": "text/x-python",
   "name": "python",
   "nbconvert_exporter": "python",
   "pygments_lexer": "ipython2",
   "version": "2.7.14"
  }
 },
 "nbformat": 4,
 "nbformat_minor": 2
}
