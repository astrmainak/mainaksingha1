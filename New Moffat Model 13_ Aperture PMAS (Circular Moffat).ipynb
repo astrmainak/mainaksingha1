{
 "cells": [
  {
   "cell_type": "code",
   "execution_count": 1,
   "metadata": {},
   "outputs": [],
   "source": [
    "import numpy as np\n",
    "import matplotlib.pyplot as plt\n",
    "import astropy.io.fits as fits\n",
    "import numpy as np\n",
    "import matplotlib.pyplot as plt\n",
    "from scipy.optimize import curve_fit\n",
    "from numpy import exp\n",
    "from scipy import ndimage\n",
    "from PMASfunc import *\n",
    "from astropy.table import Table, hstack\n",
    "import os\n",
    "import glob\n",
    "from astropy.table import Table, vstack, join\n",
    "import pandas as pd\n",
    "from shutil import copyfile"
   ]
  },
  {
   "cell_type": "code",
   "execution_count": 2,
   "metadata": {},
   "outputs": [],
   "source": [
    "def moffat_fit(data,error,box_size,amp,x0,y0,gamma_fixed=None,alpha_fixed=None,MC_loops=100):\n",
    "    y, x = np.mgrid[:box_size, :box_size] \n",
    "    if gamma_fixed is None and alpha_fixed is None:\n",
    "        p_init = models.Moffat2D(amplitude=amp,x_0=x0,y_0=y0,gamma=1,alpha=1)\n",
    "    else:\n",
    "        p_init = models.Moffat2D(amp,x0,y0,gamma_fixed,alpha_fixed,fixed={'gamma':True,'alpha':True})\n",
    "    f = fitting.LevMarLSQFitter()\n",
    "    p = f(p_init, x, y, data)\n",
    "    model = p(x,y)\n",
    "    residual = data - model\n",
    "    res = (residual/error)\n",
    "    [amp_out,x0_out,y0_out,gamma_out,alpha_out]= p.parameters\n",
    "    fwhm_out = 2*gamma_out*np.sqrt(2**(1/alpha_out)-1)\n",
    "    p_parameters = np.append(p.parameters,fwhm_out)\n",
    "    parameters_MC = np.zeros((len(p_parameters),MC_loops))\n",
    "    for l in range(MC_loops):\n",
    "        iteration_data = np.random.normal(data,error) \n",
    "        if gamma_fixed is None and alpha_fixed is None:\n",
    "            p_MC_init = models.Moffat2D(amplitude=amp,x_0=x0,y_0=y0,gamma=1,alpha=1)\n",
    "        else:\n",
    "            p_MC_init = models.Moffat2D(amp,x0,y0,gamma_fixed,alpha_fixed,fixed={'gamma':True,'alpha':True})\n",
    "        f = fitting.LevMarLSQFitter()\n",
    "        p_MC = f(p_MC_init, x, y, iteration_data)\n",
    "        [amp_MC,x0_MC,y0_MC,gamma_MC,alpha_MC]= p_MC.parameters\n",
    "        fwhm_MC = 2*gamma_MC*np.sqrt(2**(1/alpha_MC)-1)\n",
    "        p_MC_parameters = np.append(p_MC.parameters, fwhm_MC)\n",
    "        parameters_MC[:,l] = p_MC_parameters    \n",
    "    parameters_err = np.std(parameters_MC,1) \n",
    "    [amp_err,x0_err,y0_err,gamma_err,alpha_err,fwhm_err] = parameters_err    \n",
    "    if gamma_fixed is None and alpha_fixed is None:\n",
    "        (par,err) = ([amp_out,x0_out,y0_out,gamma_out,alpha_out,fwhm_out],[amp_err,x0_err,y0_err,gamma_err,alpha_err,fwhm_err])   \n",
    "    else:\n",
    "        (par,err) = ([amp_out,x0_out,y0_out],[amp_err,x0_err,y0_err])   \n",
    "    return par,err,model,res\n",
    "\n",
    "def maps(Hb_blr_br_data,OIII_br_data,OIII_nr_data,Hb_model,OIII_br_model,OIII_nr_model,Hb_dev,OIII_br_dev,OIII_nr_dev,obj,destination_path_cube=\"/home/mainak/Downloads/Outflow_paper1/PMAS\"):\n",
    "    hdus=[]\n",
    "    hdus.append(fits.PrimaryHDU())\n",
    "    hdus.append(fits.ImageHDU(Hb_blr_br_data,name='Hb_blr_br_data'))\n",
    "    hdus.append(fits.ImageHDU(OIII_br_data,name='OIII_br_data'))\n",
    "    hdus.append(fits.ImageHDU(OIII_nr_data,name='OIII_nr_data'))\n",
    "    hdus.append(fits.ImageHDU(Hb_model,name='Hb_blr_br_model'))\n",
    "    hdus.append(fits.ImageHDU(OIII_br_model,name='OIII_br_model'))   \n",
    "    hdus.append(fits.ImageHDU(OIII_nr_model,name='OIII_nr_model'))\n",
    "    hdus.append(fits.ImageHDU(Hb_dev,name='Hb_blr_br_res'))\n",
    "    hdus.append(fits.ImageHDU(OIII_br_dev,name='OIII_br_res'))\n",
    "    hdus.append(fits.ImageHDU(OIII_nr_dev,name='OIII_nr_res'))\n",
    "    hdu = fits.HDUList(hdus)\n",
    "    hdu.writeto('%s/%s/13_arcsec_maps_%s.fits'%(destination_path_cube,obj,obj),overwrite='True')\n",
    "    \n",
    "def moffat_table(full_data,full_error,obj,destination_path_cube=\"/home/mainak/Downloads/Outflow_paper1/PMAS\"):\n",
    "    column_names={'amp_Hb_blr':0,'x0_Hb_Blr':1,'y0_Hb_Blr':2,'gamma':3,'alpha':4,'fwhm':5,'amp_OIII_br':6,'x0_OIII_br':7,'y0_OIII_br':8,'amp_OIII_nr':9,'x0_OIII_nr':10,'y0_OIII_nr':11}\n",
    "    columns=[]\n",
    "    for key in column_names.keys():\n",
    "        columns.append(fits.Column(name=key,format='E',array=[full_data[column_names[key]]]))\n",
    "        columns.append(fits.Column(name=key+'_err',format='E',array=[full_error[column_names[key]]]))\n",
    "    coldefs = fits.ColDefs(columns)\n",
    "    hdu = fits.BinTableHDU.from_columns(coldefs)\n",
    "    hdu.writeto('%s/%s/13_arcsec_moffat_table_%s.fits'%(destination_path_cube,obj,obj),overwrite=True)\n",
    "    \n",
    "def fluxden_compare(obj,Hb_blr_br_data,OIII_br_data,Hb_model,OIII_br_model,Hb_blr_br_err,OIII_br_err,destination_path_cube=\"/home/mainak/Downloads/Outflow_paper1/PMAS\"):\n",
    "    f_blr_data = np.sum(Hb_blr_br_data)\n",
    "    f_wing_data = np.sum(OIII_br_data)\n",
    "    f_blr_model = np.sum(Hb_model)\n",
    "    f_wing_model = np.sum(OIII_br_model)\n",
    "    f_blr_err = np.sqrt(np.sum(Hb_blr_br_err**2))\n",
    "    f_wing_err = np.sqrt(np.sum(OIII_br_err**2))\n",
    "    tab_par = [f_blr_data,f_wing_data,f_blr_model,f_wing_model]\n",
    "    tab_err = [f_blr_err,f_wing_err,0,0]\n",
    "    column_names={'flux_blr_data':0,'flux_wing_data':1,'flux_blr_model':2,'flux_wing_model':3}\n",
    "    columns=[]\n",
    "    for key in column_names.keys():\n",
    "        columns.append(fits.Column(name=key,format='E',array=[tab_par[column_names[key]]]))\n",
    "        columns.append(fits.Column(name=key+'_err',format='E',array=[tab_err[column_names[key]]]))\n",
    "    coldefs = fits.ColDefs(columns)\n",
    "    hdu = fits.BinTableHDU.from_columns(coldefs)\n",
    "    hdu.writeto('%s/%s/%s_13_arcsec_fluxden_HbOIII.fits'%(destination_path_cube,obj,obj),overwrite=True)\n",
    "    \n",
    "def fluxden_comp_table(obj,destination_path_cube=\"/home/mainak/Downloads/Outflow_paper1/PMAS\"):\n",
    "    t1 = Table.read('%s/%s/source_%s.fits'%(destination_path_cube,obj,obj),format='fits')\n",
    "    t2 = Table.read('%s/%s/%s_13_arcsec_fluxden_HbOIII.fits'%(destination_path_cube,obj,obj),format='fits')\n",
    "    new = hstack([t1, t2])\n",
    "    new.write('%s/%s/%s_13_arcsec_fluxden_HbOIII.fits'%(destination_path_cube,obj,obj),overwrite=True)\n",
    "    \n",
    "def emp_table(obj,emp_blr,emp_wing,destination_path_cube=\"/home/mainak/Downloads/Outflow_paper1/PMAS\"):\n",
    "    popt = [emp_blr,emp_wing]\n",
    "    column_names={'emp_fact_blr':0,'emp_fact_wing':1}\n",
    "    columns=[]\n",
    "    for key in column_names.keys():\n",
    "        columns.append(fits.Column(name=key,format='E',array=[popt[column_names[key]]]))\n",
    "    coldefs = fits.ColDefs(columns)\n",
    "    hdu = fits.BinTableHDU.from_columns(coldefs)\n",
    "    hdu.writeto('%s/%s/%s_13_arcsec_scaling_subcube.fits'%(destination_path_cube,obj,obj),overwrite=True)\n",
    "\n",
    "def emp_fact_table(obj,destination_path_cube=\"/home/mainak/Downloads/Outflow_paper1/PMAS\"):\n",
    "    t1 = Table.read('%s/%s/source_%s.fits'%(destination_path_cube,obj,obj),format='fits')\n",
    "    t2 = Table.read('%s/%s/%s_13_arcsec_scaling_subcube.fits'%(destination_path_cube,obj,obj),format='fits')\n",
    "    new = hstack([t1, t2])\n",
    "    new.write('%s/%s/%s_13_arcsec_scaling_subcube.fits'%(destination_path_cube,obj,obj),overwrite=True)"
   ]
  },
  {
   "cell_type": "code",
   "execution_count": 3,
   "metadata": {},
   "outputs": [],
   "source": [
    "def flux_data_err(obj,destination_path_cube=\"/home/mainak/Downloads/Outflow_paper1/PMAS\"):\n",
    "    hdu = fits.open('%s/Flux Maps/%s/13_arcsec_subcube_par_%s.fits'%(destination_path_cube,obj,obj))\n",
    "    (OIII_nr,OIII_br,Hb1_blr_br,Hb2_blr_br) = (hdu[2].data,hdu[3].data,hdu[5].data,hdu[6].data)\n",
    "    hdu.close()\n",
    "    \n",
    "    hdu = fits.open('%s/Flux Maps/%s/13_arcsec_subcube_par_err_%s.fits'%(destination_path_cube,obj,obj))\n",
    "    (OIII_nr_err,OIII_br_err,Hb1_blr_br_err,Hb2_blr_br_err) = (hdu[2].data,hdu[3].data,hdu[5].data,hdu[6].data)\n",
    "    hdu.close()\n",
    "    \n",
    "    hdu = fits.open('%s/%s/%s_13_arcsec_empirical_factor_subcube.fits'%(destination_path_cube,obj,obj))\n",
    "    central_tab = hdu[1].data\n",
    "    central_columns = hdu[1].header\n",
    "    (emp_Hb1,emp_Hb2,emp_wing) = (central_tab.field('emp_fact_Hb1')[0],central_tab.field('emp_fact_Hb2')[0],central_tab.field('emp_fact_wing')[0])\n",
    "    hdu.close()\n",
    "    \n",
    "    (amp_OIII_nr,amp_OIII_br,amp_Hb1_blr_br,amp_Hb2_blr_br) = (np.max(OIII_nr),np.max(OIII_br),np.max(Hb1_blr_br),np.max(Hb2_blr_br))\n",
    "    if amp_Hb1_blr_br > amp_Hb2_blr_br:\n",
    "        (Hb_blr_br,amp_Hb_blr_br,Hb_blr_err,emp_Hb_blr) = (Hb1_blr_br,amp_Hb1_blr_br,Hb1_blr_br_err,emp_Hb1)\n",
    "    else:\n",
    "        (Hb_blr_br,amp_Hb_blr_br,Hb_blr_err,emp_Hb_blr) = (Hb2_blr_br,amp_Hb2_blr_br,Hb2_blr_br_err,emp_Hb2)\n",
    "    print (emp_Hb_blr)\n",
    "    (blr_err_final,wing_err_final,core_err_final) = (emp_Hb_blr*Hb_blr_err,emp_wing*OIII_br_err,OIII_nr_err)\n",
    "    return Hb_blr_br,OIII_br,OIII_nr,amp_Hb_blr_br,amp_OIII_br,amp_OIII_nr,blr_err_final,wing_err_final,core_err_final\n",
    "    "
   ]
  },
  {
   "cell_type": "code",
   "execution_count": 4,
   "metadata": {},
   "outputs": [],
   "source": [
    "def emp_err(obj,destination_path_cube=\"/home/mainak/Downloads/Outflow_paper1/PMAS\"):\n",
    "    hdu = fits.open('%s/Flux Maps/%s/13_arcsec_subcube_par_%s.fits'%(destination_path_cube,obj,obj))\n",
    "    (OIII_nr,OIII_br,Hb1_blr_br,Hb2_blr_br) = (hdu[2].data,hdu[3].data,hdu[5].data,hdu[6].data)\n",
    "    hdu.close()\n",
    "    \n",
    "    hdu = fits.open('%s/Flux Maps/%s/13_arcsec_subcube_par_err_%s.fits'%(destination_path_cube,obj,obj))\n",
    "    (OIII_nr_err,OIII_br_err,Hb1_blr_br_err,Hb2_blr_br_err) = (hdu[2].data,hdu[3].data,hdu[5].data,hdu[6].data)\n",
    "    hdu.close()\n",
    "    \n",
    "    hdu = fits.open('%s/%s/%s_13_arcsec_empirical_factor_subcube.fits'%(destination_path_cube,obj,obj))\n",
    "    central_tab = hdu[1].data\n",
    "    central_columns = hdu[1].header\n",
    "    (emp_Hb1,emp_Hb2,emp_wing) = (central_tab.field('emp_fact_Hb1')[0],central_tab.field('emp_fact_Hb2')[0],central_tab.field('emp_fact_wing')[0])\n",
    "    hdu.close()\n",
    "    \n",
    "    (amp_OIII_nr,amp_OIII_br,amp_Hb1_blr_br,amp_Hb2_blr_br) = (np.max(OIII_nr),np.max(OIII_br),np.max(Hb1_blr_br),np.max(Hb2_blr_br))\n",
    "    if amp_Hb1_blr_br > amp_Hb2_blr_br:\n",
    "        (Hb_blr_br,amp_Hb_blr_br,Hb_blr_err,emp_Hb_blr) = (Hb1_blr_br,amp_Hb1_blr_br,Hb1_blr_br_err,emp_Hb1)\n",
    "    else:\n",
    "        (Hb_blr_br,amp_Hb_blr_br,Hb_blr_err,emp_Hb_blr) = (Hb2_blr_br,amp_Hb2_blr_br,Hb2_blr_br_err,emp_Hb2)\n",
    "    return emp_Hb_blr,emp_wing    "
   ]
  },
  {
   "cell_type": "code",
   "execution_count": 10,
   "metadata": {},
   "outputs": [],
   "source": [
    "def chi_squared(data,model,err):\n",
    "    res = data - model\n",
    "    a = np.sum((res/err)**2)\n",
    "    return a\n",
    "\n",
    "def red_chi_squared(data,res,n_free):\n",
    "    dof = len(data.flatten()) - n_free\n",
    "    k = res\n",
    "    k[k>10**10]=0\n",
    "    l = k[k!=0]\n",
    "    a = np.sum(l**2)\n",
    "    red = a/dof\n",
    "    return red\n"
   ]
  },
  {
   "cell_type": "code",
   "execution_count": 11,
   "metadata": {},
   "outputs": [],
   "source": [
    "def circular_moffat2D(x,y,amp,x0,y0,gamma,alpha):\n",
    "    A = (1/gamma)**2 \n",
    "    g = amp*((1.0+A*((x-x0)**2)+A*((y-y0)**2))**(-alpha))\n",
    "    return g\n",
    "\n",
    "def OIII_br_full_par(Hb_par,Hb_err,OIII_br_par,OIII_br_err):\n",
    "    (gamma,alpha) = (Hb_par[3],Hb_par[4])\n",
    "    (gamma_err,alpha_err) = (Hb_err[3],Hb_err[4])\n",
    "    [amp,x0,y0] = OIII_br_par\n",
    "    [amp_err,x0_err,y0_err] = OIII_br_err\n",
    "    wing_full_par = [amp,x0,y0,gamma,alpha]\n",
    "    wing_full_err = [amp_err,x0_err,y0_err,gamma_err,alpha_err]\n",
    "    return wing_full_par,wing_full_err\n",
    "\n",
    "def flux_ratio_err(data,error,par,par_err,box_size):\n",
    "    [amp,x0,y0,gamma,alpha] = par\n",
    "    [amp_err,x0_err,y0_err,gamma_err,alpha_err] = par_err\n",
    "    dat1 = np.sum(data)\n",
    "    err1 = np.sqrt(np.sum(error**2))\n",
    "    MC_loops = 10\n",
    "    ratio = np.zeros(MC_loops)\n",
    "    \n",
    "    for m in range(MC_loops):\n",
    "        flux_aperture = np.random.normal(dat1,err1)\n",
    "        y, x = np.mgrid[:box_size,:box_size]\n",
    "        PSF = circular_moffat2D(x,y,np.random.normal(amp,amp_err),np.random.normal(x0,x0_err),np.random.normal(y0,y0_err),np.random.normal(gamma,gamma_err),np.random.normal(alpha,alpha_err))\n",
    "        #plt.imshow(PSF)\n",
    "        #plt.show()\n",
    "        flux_PSF = np.sum(PSF)\n",
    "        flux_ratio = flux_aperture/flux_PSF\n",
    "        ratio[m] = flux_ratio\n",
    "    ratio_err = np.nanstd(ratio)\n",
    "    return ratio_err\n"
   ]
  },
  {
   "cell_type": "code",
   "execution_count": 16,
   "metadata": {},
   "outputs": [],
   "source": [
    "def algorithm_script(obj,z,destination_path_cube=\"/home/mainak/Downloads/Outflow_paper1/PMAS\"):  \n",
    "    (Hb_blr_br_data,OIII_br_data,OIII_nr_data,amp_Hb_blr_br,amp_OIII_br,amp_OIII_nr,Hb_blr_br_err,OIII_br_err,OIII_nr_err) = flux_data_err(obj)\n",
    "    (emp_blr,emp_wing) = emp_err(obj)\n",
    "    box_size = np.shape(Hb_blr_br_data)[1]\n",
    "    #print box_size   \n",
    "    \n",
    "    (brightest_pixel_Hb_blr_br_x,brightest_pixel_Hb_blr_br_y,brightest_pixel_OIII_br_x,brightest_pixel_OIII_br_y,brightest_pixel_OIII_nr_x,brightest_pixel_OIII_nr_y) = brightest_pixel_flux_map(Hb_blr_br_data,OIII_br_data,OIII_nr_data) \n",
    "    #print (brightest_pixel_Hb_blr_br_x,brightest_pixel_Hb_blr_br_y)\n",
    "    (Hb_par,Hb_error,Hb_model,Hb_res) = moffat_fit(Hb_blr_br_data,Hb_blr_br_err,box_size,amp_Hb_blr_br,brightest_pixel_Hb_blr_br_x,brightest_pixel_Hb_blr_br_y,None,None,100)\n",
    "    #print (Hb_par,Hb_error)\n",
    "  \n",
    "    #red_chi_sq_Hb = red_chi_squared(Hb_blr_br_data,Hb_model,Hb_blr_br_err,5)\n",
    "    \n",
    "    (gamma_fix,alpha_fix) = (Hb_par[3],Hb_par[4])#these two are gamma and alpha\n",
    "    #print Hb_par\n",
    "    (OIII_br_par,OIII_br_error,OIII_br_model,OIII_br_res) = moffat_fit(OIII_br_data,OIII_br_err,box_size,amp_OIII_br,brightest_pixel_OIII_br_x,brightest_pixel_OIII_br_y,gamma_fix,alpha_fix,100)   \n",
    "    #print (OIII_br_par,OIII_br_error)\n",
    "    #red_chi_sq_wing = red_chi_squared(OIII_br_data,OIII_br_model,OIII_br_err,3)\n",
    "    #norm_chi_sq_wing = red_chi_sq_wing/red_chi_sq_Hb\n",
    "    \n",
    "    #print (red_chi_sq_Hb,red_chi_sq_wing)\n",
    "    \n",
    "    (OIII_nr_par,OIII_nr_error,OIII_nr_model,OIII_nr_res) = moffat_fit(OIII_nr_data,OIII_nr_err,box_size,amp_OIII_nr,brightest_pixel_OIII_nr_x,brightest_pixel_OIII_nr_y,gamma_fix,alpha_fix,100)\n",
    "    #print (OIII_nr_par,OIII_nr_error)\n",
    "\n",
    "    maps(Hb_blr_br_data,OIII_br_data,OIII_nr_data,Hb_model,OIII_br_model,OIII_nr_model,Hb_res,OIII_br_res,OIII_nr_res,obj)\n",
    "    \n",
    "    (full_data,full_error) = (np.append(Hb_par,[OIII_br_par,OIII_nr_par]),np.append(Hb_error,[OIII_br_error,OIII_nr_error]))\n",
    "    \n",
    "    moffat_table(full_data,full_error,obj)   \n",
    "    red_chi_squared_Hb = red_chi_squared(Hb_blr_br_data,Hb_res,5)\n",
    "    red_chi_squared_OIII_br = red_chi_squared(OIII_br_data,OIII_br_res,3)\n",
    "    red_chi_squared_OIII_nr = red_chi_squared(OIII_nr_data,OIII_nr_res,3)\n",
    "    normalized_chi_squared_OIII_br = (red_chi_squared_OIII_br/red_chi_squared_Hb)\n",
    "    normalized_chi_squared_OIII_nr = (red_chi_squared_OIII_nr/red_chi_squared_Hb)\n",
    "    \n",
    "    flux_wing_data = np.sum(OIII_br_data)\n",
    "    flux_wing_model = np.sum(OIII_br_model)\n",
    "    flux_ratio = (flux_wing_data/flux_wing_model)\n",
    "    plt.imshow(OIII_br_res,origin='lower',vmin=-5,vmax=5)\n",
    "    plt.colorbar()\n",
    "    plt.show()\n",
    "    \n",
    "    print (normalized_chi_squared_OIII_br,flux_ratio)    \n",
    "    print ('%s.fits'%(obj))\n"
   ]
  },
  {
   "cell_type": "code",
   "execution_count": 17,
   "metadata": {},
   "outputs": [
    {
     "name": "stdout",
     "output_type": "stream",
     "text": [
      "1.7620504\n"
     ]
    },
    {
     "data": {
      "image/png": "[encoded data removed]",
      "text/plain": [
       "<Figure size 432x288 with 2 Axes>"
      ]
     },
     "metadata": {
      "needs_background": "light"
     },
     "output_type": "display_data"
    },
    {
     "name": "stdout",
     "output_type": "stream",
     "text": [
      "1.2540748266479353 1.0061397783184665\n",
      "HE0853-0126.fits\n",
      "1.2549138\n"
     ]
    },
    {
     "data": {
      "image/png": "[encoded data removed]",
      "text/plain": [
       "<Figure size 432x288 with 2 Axes>"
      ]
     },
     "metadata": {
      "needs_background": "light"
     },
     "output_type": "display_data"
    },
    {
     "name": "stdout",
     "output_type": "stream",
     "text": [
      "9.14190553827968 0.9312077551453392\n",
      "HE0949-0122.fits\n"
     ]
    }
   ],
   "source": [
    "z = {\"HE0853-0126\":0.05981,\"HE0949-0122\":0.01993}\n",
    "\n",
    "objs = z.keys()\n",
    "\n",
    "\n",
    "for obj in objs:\n",
    "    algorithm_script(obj,z[obj])"
   ]
  },
  {
   "cell_type": "code",
   "execution_count": 33,
   "metadata": {},
   "outputs": [
    {
     "data": {
      "text/plain": [
       "7"
      ]
     },
     "execution_count": 33,
     "metadata": {},
     "output_type": "execute_result"
    }
   ],
   "source": [
    "int(round(7.456))"
   ]
  },
  {
   "cell_type": "code",
   "execution_count": 17,
   "metadata": {},
   "outputs": [
    {
     "ename": "TypeError",
     "evalue": "'module' object is not callable",
     "output_type": "error",
     "traceback": [
      "\u001b[0;31m---------------------------------------------------------------------------\u001b[0m",
      "\u001b[0;31mTypeError\u001b[0m                                 Traceback (most recent call last)",
      "\u001b[0;32m<ipython-input-17-d2b1d21a6477>\u001b[0m in \u001b[0;36m<module>\u001b[0;34m\u001b[0m\n\u001b[1;32m      6\u001b[0m \u001b[0merr\u001b[0m \u001b[0;34m=\u001b[0m \u001b[0;34m[\u001b[0m\u001b[0;36m0.223\u001b[0m\u001b[0;34m,\u001b[0m\u001b[0;36m0.3\u001b[0m\u001b[0;34m,\u001b[0m\u001b[0;36m0.11\u001b[0m\u001b[0;34m,\u001b[0m\u001b[0;36m0.3\u001b[0m\u001b[0;34m,\u001b[0m\u001b[0;36m0.99\u001b[0m\u001b[0;34m,\u001b[0m\u001b[0;36m0.7\u001b[0m\u001b[0;34m,\u001b[0m\u001b[0;36m0.9\u001b[0m\u001b[0;34m,\u001b[0m\u001b[0;36m0.12\u001b[0m\u001b[0;34m,\u001b[0m\u001b[0;36m0.7\u001b[0m\u001b[0;34m,\u001b[0m\u001b[0;36m0.5\u001b[0m\u001b[0;34m]\u001b[0m\u001b[0;34m\u001b[0m\u001b[0;34m\u001b[0m\u001b[0m\n\u001b[1;32m      7\u001b[0m \u001b[0mfa\u001b[0m \u001b[0;34m=\u001b[0m \u001b[0;34m{\u001b[0m\u001b[0;34m'x'\u001b[0m\u001b[0;34m:\u001b[0m\u001b[0mx\u001b[0m\u001b[0;34m,\u001b[0m \u001b[0;34m'y'\u001b[0m\u001b[0;34m:\u001b[0m\u001b[0my\u001b[0m\u001b[0;34m,\u001b[0m \u001b[0;34m'err'\u001b[0m\u001b[0;34m:\u001b[0m\u001b[0merr\u001b[0m\u001b[0;34m}\u001b[0m\u001b[0;34m\u001b[0m\u001b[0;34m\u001b[0m\u001b[0m\n\u001b[0;32m----> 8\u001b[0;31m \u001b[0mm\u001b[0m \u001b[0;34m=\u001b[0m \u001b[0mmpfit\u001b[0m\u001b[0;34m(\u001b[0m\u001b[0;34m'myfunct'\u001b[0m\u001b[0;34m,\u001b[0m \u001b[0mp0\u001b[0m\u001b[0;34m,\u001b[0m \u001b[0mfunctkw\u001b[0m\u001b[0;34m=\u001b[0m\u001b[0mfa\u001b[0m\u001b[0;34m)\u001b[0m\u001b[0;34m\u001b[0m\u001b[0;34m\u001b[0m\u001b[0m\n\u001b[0m\u001b[1;32m      9\u001b[0m \u001b[0mprint\u001b[0m \u001b[0;34m(\u001b[0m\u001b[0;34m'status = '\u001b[0m\u001b[0;34m,\u001b[0m \u001b[0mm\u001b[0m\u001b[0;34m.\u001b[0m\u001b[0mstatus\u001b[0m\u001b[0;34m)\u001b[0m\u001b[0;34m\u001b[0m\u001b[0;34m\u001b[0m\u001b[0m\n\u001b[1;32m     10\u001b[0m \u001b[0;32mif\u001b[0m \u001b[0;34m(\u001b[0m\u001b[0mm\u001b[0m\u001b[0;34m.\u001b[0m\u001b[0mstatus\u001b[0m \u001b[0;34m<=\u001b[0m \u001b[0;36m0\u001b[0m\u001b[0;34m)\u001b[0m\u001b[0;34m:\u001b[0m\u001b[0;34m\u001b[0m\u001b[0;34m\u001b[0m\u001b[0m\n",
      "\u001b[0;31mTypeError\u001b[0m: 'module' object is not callable"
     ]
    }
   ],
   "source": [
    "import mpfit\n",
    "import numpy as np\n",
    "x = [2,3,1,0,9,0.7,8.6,199,67,54]\n",
    "p0 = [5.7, 2.2, 500., 1.5, 2000.]\n",
    "y = [223,3,11,0.3,99,7.7,88.6,1199,667,554]\n",
    "err = [0.223,0.3,0.11,0.3,0.99,0.7,0.9,0.12,0.7,0.5]\n",
    "fa = {'x':x, 'y':y, 'err':err}\n",
    "m = mpfit('myfunct', p0, functkw=fa)\n",
    "print ('status = ', m.status)\n",
    "if (m.status <= 0):\n",
    "    print ('error message = ', m.errmsg)\n",
    "    print ('parameters = ', m.params)"
   ]
  },
  {
   "cell_type": "code",
   "execution_count": 22,
   "metadata": {},
   "outputs": [
    {
     "ename": "AttributeError",
     "evalue": "module 'mpfit' has no attribute 'mpfit'",
     "output_type": "error",
     "traceback": [
      "\u001b[0;31m---------------------------------------------------------------------------\u001b[0m",
      "\u001b[0;31mAttributeError\u001b[0m                            Traceback (most recent call last)",
      "\u001b[0;32m<ipython-input-22-6e93a9a866c6>\u001b[0m in \u001b[0;36m<module>\u001b[0;34m\u001b[0m\n\u001b[1;32m     42\u001b[0m \u001b[0;34m\u001b[0m\u001b[0m\n\u001b[1;32m     43\u001b[0m \u001b[0;31m# Call MPFIT with user defined function 'myfunct'\u001b[0m\u001b[0;34m\u001b[0m\u001b[0;34m\u001b[0m\u001b[0;34m\u001b[0m\u001b[0m\n\u001b[0;32m---> 44\u001b[0;31m \u001b[0mm\u001b[0m \u001b[0;34m=\u001b[0m \u001b[0mmpfit\u001b[0m\u001b[0;34m.\u001b[0m\u001b[0mmpfit\u001b[0m\u001b[0;34m(\u001b[0m \u001b[0mmyfunct\u001b[0m\u001b[0;34m,\u001b[0m \u001b[0mp0\u001b[0m\u001b[0;34m,\u001b[0m \u001b[0mfunctkw\u001b[0m\u001b[0;34m=\u001b[0m\u001b[0mfa\u001b[0m \u001b[0;34m)\u001b[0m\u001b[0;34m\u001b[0m\u001b[0;34m\u001b[0m\u001b[0m\n\u001b[0m\u001b[1;32m     45\u001b[0m \u001b[0;34m\u001b[0m\u001b[0m\n\u001b[1;32m     46\u001b[0m \u001b[0mprint\u001b[0m \u001b[0;34m(\u001b[0m\u001b[0;34m\"status: \"\u001b[0m\u001b[0;34m,\u001b[0m \u001b[0mm\u001b[0m\u001b[0;34m.\u001b[0m\u001b[0mstatus\u001b[0m\u001b[0;34m)\u001b[0m\u001b[0;34m\u001b[0m\u001b[0;34m\u001b[0m\u001b[0m\n",
      "\u001b[0;31mAttributeError\u001b[0m: module 'mpfit' has no attribute 'mpfit'"
     ]
    }
   ],
   "source": [
    "import pylab\n",
    "import string\n",
    "import math\n",
    "import os\n",
    "import sys\n",
    "import time\n",
    "import getopt\n",
    "import numpy\n",
    "import scipy.stats\n",
    "import datetime\n",
    "from math import sqrt\n",
    "import mpfit\n",
    "\n",
    "#\n",
    "# append path\n",
    "#\n",
    "path=os.getcwd()\n",
    "sys.path.append(path)\n",
    "files = os.listdir(path)\n",
    "#\n",
    "\n",
    "def peval(x, p):\n",
    "       # The model function with parameters p\n",
    "       return (1./sqrt(2*numpy.pi*p[1]**2))*numpy.exp(-(x-p[0])**2/(2*p[1]**2))\n",
    "\n",
    "def myfunct(p, fjac=None, x=None, y=None, err=None ):\n",
    "       # Function that return the weighted deviates\n",
    "       model = peval(x, p)\n",
    "       status = 0\n",
    "       return([status, (y-model)/err])\n",
    "\n",
    "# Generate model data for a Gaussian with param mu and sigma and add noise\n",
    "x=numpy.arange(-10.,10.,20./1000)\n",
    "preal=[-2, .5]\n",
    "y_true=peval(x,preal)\n",
    "mu,sigma=0,0.7\n",
    "y      = y_true + 0.06 * numpy.random.normal(mu,sigma, len(x) )\n",
    "err    = 1.0 + 0.01 * numpy.random.normal(mu,sigma, len(x) )\n",
    "# Initial estimates for MPFIT\n",
    "p0 = [-0.5, 0.5]\n",
    "fa = {'x':x, 'y':y, 'err':err}\n",
    "\n",
    "# Call MPFIT with user defined function 'myfunct'\n",
    "m = mpfit.mpfit( myfunct, p0, functkw=fa )\n",
    "\n",
    "print (\"status: \", m.status)\n",
    "if (m.status <= 0): \n",
    "    print ('error message = ', m.errmsg)\n",
    "else:\n",
    "    print (\"Iterations: \", m.niter)\n",
    "    print (\"Fitted pars: \", m.params)\n",
    "    print (\"Uncertainties: \", m.perror)\n",
    "\n",
    "# Plot the result with Matplotlib\n",
    "pylab.clf()\n",
    "pylab.plot(x,y,'r', label=\"Noisy data\")\n",
    "pylab.plot( x,peval(x,m.params), label=\"Fit\" )\n",
    "pylab.plot( x,y_true, 'g', label=\"True data\" )\n",
    "pylab.xlabel( \"X\" )\n",
    "pylab.ylabel( \"Measurement data\" )\n",
    "pylab.title( \"Least-squares fit to noisy data using MPFIT\" )\n",
    "pylab.legend()\n",
    "pylab.show()"
   ]
  },
  {
   "cell_type": "code",
   "execution_count": null,
   "metadata": {},
   "outputs": [],
   "source": []
  }
 ],
 "metadata": {
  "kernelspec": {
   "display_name": "Python 3",
   "language": "python",
   "name": "python3"
  },
  "language_info": {
   "codemirror_mode": {
    "name": "ipython",
    "version": 3
   },
   "file_extension": ".py",
   "mimetype": "text/x-python",
   "name": "python",
   "nbconvert_exporter": "python",
   "pygments_lexer": "ipython3",
   "version": "3.7.3"
  }
 },
 "nbformat": 4,
 "nbformat_minor": 2
}
