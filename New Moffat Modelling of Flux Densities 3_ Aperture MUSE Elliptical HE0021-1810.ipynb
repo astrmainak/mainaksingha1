{
 "cells": [
  {
   "cell_type": "code",
   "execution_count": 2,
   "metadata": {},
   "outputs": [],
   "source": [
    "import numpy as np\n",
    "import matplotlib.pyplot as plt\n",
    "import astropy.io.fits as fits\n",
    "from numpy import exp\n",
    "from scipy import ndimage\n",
    "from func import *\n",
    "from astropy.table import Table, hstack\n",
    "import os\n",
    "import glob\n",
    "from astropy.table import Table, vstack, join\n",
    "import pandas as pd\n",
    "from shutil import copyfile\n",
    "from scipy.optimize import leastsq\n",
    "import math\n",
    "from astropy.convolution import Gaussian2DKernel\n",
    "from scipy.signal import convolve as scipy_convolve\n",
    "from astropy.convolution import convolve\n",
    "from matplotlib.colors import LogNorm"
   ]
  },
  {
   "cell_type": "code",
   "execution_count": 3,
   "metadata": {},
   "outputs": [],
   "source": [
    "def flux_data_err(obj,destination_path_cube=\"/home/mainak/Downloads/Outflow_paper1/MUSE\"):\n",
    "    hdu = fits.open('%s/Flux Maps/%s/subcube_par_%s.fits'%(destination_path_cube,obj,obj))\n",
    "    (OIII_nr,OIII_br,Hb1_blr_br,Hb2_blr_br) = (hdu[2].data,hdu[3].data,hdu[5].data,hdu[6].data)\n",
    "    hdu.close()\n",
    "    \n",
    "    hdu = fits.open('%s/Flux Maps/%s/subcube_par_err_%s.fits'%(destination_path_cube,obj,obj))\n",
    "    (OIII_nr_err,OIII_br_err,Hb1_blr_br_err,Hb2_blr_br_err) = (hdu[2].data,hdu[3].data,hdu[5].data,hdu[6].data)\n",
    "    hdu.close()\n",
    "    \n",
    "    hdu = fits.open('%s/%s/%s_9_arcsec_empirical_factor_subcube.fits'%(destination_path_cube,obj,obj))\n",
    "    central_tab = hdu[1].data\n",
    "    central_columns = hdu[1].header\n",
    "    (emp_Hb1,emp_Hb2,emp_wing) = (central_tab.field('emp_fact_Hb1')[0],central_tab.field('emp_fact_Hb2')[0],central_tab.field('emp_fact_wing')[0])\n",
    "    hdu.close()\n",
    "    \n",
    "    (amp_OIII_nr,amp_OIII_br,amp_Hb1_blr_br,amp_Hb2_blr_br) = (np.max(OIII_nr),np.max(OIII_br),np.max(Hb1_blr_br),np.max(Hb2_blr_br))\n",
    "    if amp_Hb1_blr_br > amp_Hb2_blr_br:\n",
    "        (Hb_blr_br,amp_Hb_blr_br,Hb_blr_err,emp_Hb_blr) = (Hb1_blr_br,amp_Hb1_blr_br,Hb1_blr_br_err,emp_Hb1)\n",
    "    else:\n",
    "        (Hb_blr_br,amp_Hb_blr_br,Hb_blr_err,emp_Hb_blr) = (Hb2_blr_br,amp_Hb2_blr_br,Hb2_blr_br_err,emp_Hb2)\n",
    "    print (emp_Hb_blr,emp_wing)\n",
    "    (blr_err_final,wing_err_final,core_err_final) = (emp_Hb_blr*Hb_blr_err,emp_wing*OIII_br_err,OIII_nr_err)\n",
    "    return Hb_blr_br,OIII_br,OIII_nr,amp_Hb_blr_br,amp_OIII_br,amp_OIII_nr,blr_err_final,wing_err_final,core_err_final\n",
    "    "
   ]
  },
  {
   "cell_type": "code",
   "execution_count": 4,
   "metadata": {},
   "outputs": [],
   "source": [
    "def remove_bad_pixel_astropy(img):\n",
    "    img[img == 0.01] = np.nan\n",
    "    img_zerod = img.copy()\n",
    "    img_zerod[np.isnan(img)] = 0\n",
    "    kernel = Gaussian2DKernel(x_stddev=1)\n",
    "    scipy_conv = scipy_convolve(img, kernel, mode='same', method='direct')\n",
    "    scipy_conv_zerod = scipy_convolve(img_zerod, kernel, mode='same',\n",
    "                                  method='direct')\n",
    "    astropy_conv = convolve(img, kernel)\n",
    "    return astropy_conv"
   ]
  },
  {
   "cell_type": "code",
   "execution_count": 5,
   "metadata": {},
   "outputs": [],
   "source": [
    "def remove_bad_pixel(data,err):\n",
    "    data[data == 0.01] = 0\n",
    "    err[err < 10**(-14)] =10**(10)  \n",
    "    return data,err"
   ]
  },
  {
   "cell_type": "code",
   "execution_count": 6,
   "metadata": {},
   "outputs": [],
   "source": [
    "def ellip_moffat2D(p,xy,data,error):\n",
    "    xy=(x,y)\n",
    "    [amp, x0, y0, A, B, C, alpha] = p \n",
    "    g = amp*((1.0+A*(x-x0)**2+B*(y-y0)**2+C*(x-x0)*(y-y0))**(-alpha))\n",
    "    h = (data - g)/error\n",
    "    return h.ravel()\n",
    "\n",
    "def ellip_moffat2D_fixkin(p,xy,data,error,fixed_param):\n",
    "    [A,B,C,alpha] = fixed_param\n",
    "    xy=(x,y)\n",
    "    [amp, x0, y0] = p    \n",
    "    g = amp*((1.0+(A*((x-x0)**2))+(B*((y-y0)**2))+(C*(x-x0)*(y-y0)))**(-alpha))\n",
    "    h = (data - g)/error\n",
    "    return h.ravel()"
   ]
  },
  {
   "cell_type": "code",
   "execution_count": 7,
   "metadata": {},
   "outputs": [],
   "source": [
    "def elliptical_moffat_fit(data,error,box_size,amp,x0,y0,fix_par,MC_loops=100):\n",
    "    y, x = np.mgrid[:box_size, :box_size]\n",
    "    xy=(x,y)\n",
    "    \n",
    "    if fix_par is None:\n",
    "        p= [amp,x0,y0,0.1,0.1,-0.0000008,3]\n",
    "        popt,pcov = leastsq(ellip_moffat2D,x0=p,args=(xy,data,error),maxfev = 10000000)\n",
    "        [amp_out,x0_out,y0_out,A_out,B_out,C_out,alpha_out]= popt\n",
    "        theta_out = 0.5*np.arctan(C_out/(A_out - B_out))\n",
    "        a_out = np.sqrt(2/(A_out + B_out + np.sqrt(C_out**2 +(A_out - B_out)**2)))\n",
    "        b_out = np.sqrt(2/(A_out + B_out - np.sqrt(C_out**2 +(A_out - B_out)**2)))\n",
    "        [fwhm1_out,fwhm2_out] = [2*a_out*np.sqrt(2**(1/alpha_out)-1),2*b_out*np.sqrt(2**(1/alpha_out)-1)]\n",
    "        par = [amp_out,x0_out,y0_out,A_out,B_out,C_out,alpha_out,a_out,b_out,theta_out,fwhm1_out,fwhm2_out]\n",
    "        mod_rav = data.ravel() - ellip_moffat2D(popt,xy,data,error)*error.ravel()\n",
    "    else:\n",
    "        p= [amp,x0,y0]\n",
    "        popt,pcov = leastsq(ellip_moffat2D_fixkin,x0=p,args=(xy,data,error,fix_par),maxfev = 10000000)\n",
    "        [amp_out,x0_out,y0_out]= popt\n",
    "        par = popt\n",
    "        mod_rav = data.ravel() - ellip_moffat2D_fixkin(popt,xy,data,error,fix_par)*error.ravel()\n",
    "    model = mod_rav.reshape(box_size,box_size)\n",
    "    residual = data-model\n",
    "    res = (residual/error)\n",
    "\n",
    "    parameters_MC = np.zeros((len(par),MC_loops))\n",
    "    for l in range(MC_loops):\n",
    "        iteration_data = np.random.normal(data,error) \n",
    "        if fix_par is None:\n",
    "            p= [amp,x0,y0,0.1,0.1,-0.0000008,3]\n",
    "            popt_MC,pcov_MC = leastsq(ellip_moffat2D,x0=p,args=(xy,iteration_data,error),maxfev = 10000000)\n",
    "            [amp_MC,x0_MC,y0_MC,A_MC,B_MC,C_MC,alpha_MC]= popt_MC\n",
    "            theta_MC = 0.5*np.arctan(C_MC/(A_MC - B_MC))\n",
    "            a_MC = np.sqrt(2/(A_MC + B_MC + np.sqrt(C_MC**2 +(A_MC - B_MC)**2)))\n",
    "            b_MC = np.sqrt(2/(A_MC + B_MC - np.sqrt(C_MC**2 +(A_MC - B_MC)**2)))\n",
    "            [fwhm1_MC,fwhm2_MC] = [2*a_MC*np.sqrt(2**(1/alpha_MC)-1),2*b_MC*np.sqrt(2**(1/alpha_MC)-1)]\n",
    "            par_MC = [amp_MC,x0_MC,y0_MC,A_MC,B_MC,C_MC,alpha_MC,a_MC,b_MC,theta_MC,fwhm1_MC,fwhm2_MC]   \n",
    "            parameters_MC[:,l] = par_MC    \n",
    "        else:\n",
    "            p= [amp,x0,y0]\n",
    "            popt_MC,pcov_MC = leastsq(ellip_moffat2D_fixkin,x0=p,args=(xy,iteration_data,error,fix_par),maxfev = 10000000)\n",
    "            [amp_MC,x0_out,y0_out]= popt_MC\n",
    "            parameters_MC[:,l] = popt_MC    \n",
    "    parameters_err = np.std(parameters_MC,1) \n",
    "    return par,parameters_err,model,res"
   ]
  },
  {
   "cell_type": "code",
   "execution_count": 8,
   "metadata": {},
   "outputs": [],
   "source": [
    "def chi_squared(data,model,err):\n",
    "    res = data - model\n",
    "    a = np.sum((res/err)**2)\n",
    "    return a\n",
    "\n",
    "def red_chi_squared(data,model,err,n_free):\n",
    "    dof = len(data.flatten()) - n_free\n",
    "    res = data - model\n",
    "    k = res/err\n",
    "    k[k>10**10]=0\n",
    "    l = k[k!=0]\n",
    "    a = np.sum(l**2)\n",
    "    red = a/dof\n",
    "    return red\n"
   ]
  },
  {
   "cell_type": "code",
   "execution_count": 9,
   "metadata": {},
   "outputs": [],
   "source": [
    "def moffat_table(full_data,full_error,obj,destination_path_cube=\"/home/mainak/Downloads/Outflow_paper1/MUSE\"):\n",
    "    column_names={'amp_Hb_blr':0,'x0_Hb_Blr':1,'y0_Hb_Blr':2,'A':3,'B':4,'C':5,'alpha':6,'a':7,'b':8,'theta':9,'fwhm1':10,'fwhm2':11,'amp_OIII_br':12,'x0_OIII_br':13,'y0_OIII_br':14,'amp_OIII_nr':15,'x0_OIII_nr':16,'y0_OIII_nr':17}\n",
    "    columns=[]\n",
    "    for key in column_names.keys():\n",
    "        columns.append(fits.Column(name=key,format='E',array=[full_data[column_names[key]]]))\n",
    "        columns.append(fits.Column(name=key+'_err',format='E',array=[full_error[column_names[key]]]))\n",
    "    coldefs = fits.ColDefs(columns)\n",
    "    hdu = fits.BinTableHDU.from_columns(coldefs)\n",
    "    hdu.writeto('%s/%s/3_arcsec_moffat_table_%s.fits'%(destination_path_cube,obj,obj),overwrite=True)\n",
    "\n",
    "def maps(Hb_blr_br_data,OIII_br_data,OIII_nr_data,Hb_model,OIII_br_model,OIII_nr_model,Hb_res,OIII_br_res,OIII_nr_res,obj,destination_path_cube=\"/home/mainak/Downloads/Outflow_paper1/MUSE\"):\n",
    "    hdus=[]\n",
    "    hdus.append(fits.PrimaryHDU())\n",
    "    hdus.append(fits.ImageHDU(Hb_blr_br_data,name='Hb_blr_br_data'))\n",
    "    hdus.append(fits.ImageHDU(OIII_br_data,name='OIII_br_data'))\n",
    "    hdus.append(fits.ImageHDU(OIII_nr_data,name='OIII_nr_data'))\n",
    "    hdus.append(fits.ImageHDU(Hb_model,name='Hb_blr_br_model'))\n",
    "    hdus.append(fits.ImageHDU(OIII_br_model,name='OIII_br_model'))   \n",
    "    hdus.append(fits.ImageHDU(OIII_nr_model,name='OIII_nr_model'))\n",
    "    hdus.append(fits.ImageHDU(Hb_res,name='Hb_blr_br_res'))\n",
    "    hdus.append(fits.ImageHDU(OIII_br_res,name='OIII_br_res'))\n",
    "    hdus.append(fits.ImageHDU(OIII_nr_res,name='OIII_nr_res'))\n",
    "    hdu = fits.HDUList(hdus)\n",
    "    hdu.writeto('%s/%s/3_arcsec_maps_%s.fits'%(destination_path_cube,obj,obj),overwrite='True')\n",
    "\n",
    "def fluxden_compare(obj,Hb_blr_br_data,OIII_br_data,Hb_model,OIII_br_model,Hb_blr_br_err,OIII_br_err,destination_path_cube=\"/home/mainak/Downloads/Outflow_paper1/MUSE\"):\n",
    "    f_blr_data = np.sum(Hb_blr_br_data)\n",
    "    f_wing_data = np.sum(OIII_br_data)\n",
    "    f_blr_model = np.sum(Hb_model)\n",
    "    f_wing_model = np.sum(OIII_br_model)\n",
    "    f_blr_err = np.sqrt(np.sum(Hb_blr_br_err**2))\n",
    "    f_wing_err = np.sqrt(np.sum(OIII_br_err**2))\n",
    "    tab_par = [f_blr_data,f_wing_data,f_blr_model,f_wing_model]\n",
    "    tab_err = [f_blr_err,f_wing_err,0,0]\n",
    "    column_names={'flux_blr_data':0,'flux_wing_data':1,'flux_blr_model':2,'flux_wing_model':3}\n",
    "    columns=[]\n",
    "    for key in column_names.keys():\n",
    "        columns.append(fits.Column(name=key,format='E',array=[tab_par[column_names[key]]]))\n",
    "        columns.append(fits.Column(name=key+'_err',format='E',array=[tab_err[column_names[key]]]))\n",
    "    coldefs = fits.ColDefs(columns)\n",
    "    hdu = fits.BinTableHDU.from_columns(coldefs)\n",
    "    hdu.writeto('%s/%s/%s_3_arcsec_fluxden_HbOIII.fits'%(destination_path_cube,obj,obj),overwrite=True)\n",
    "    \n",
    "def fluxden_comp_table(obj,destination_path_cube=\"/home/mainak/Downloads/Outflow_paper1/MUSE\"):\n",
    "    t1 = Table.read('%s/%s/source_%s.fits'%(destination_path_cube,obj,obj),format='fits')\n",
    "    t2 = Table.read('%s/%s/%s_3_arcsec_fluxden_HbOIII.fits'%(destination_path_cube,obj,obj),format='fits')\n",
    "    new = hstack([t1, t2])\n",
    "    new.write('%s/%s/%s_3_arcsec_fluxden_HbOIII.fits'%(destination_path_cube,obj,obj),overwrite=True)\n",
    "    \n",
    "def emp_table(obj,emp_blr,emp_wing,destination_path_cube=\"/home/mainak/Downloads/Outflow_paper1/MUSE\"):\n",
    "    popt = [emp_blr,emp_wing]\n",
    "    column_names={'emp_fact_blr':0,'emp_fact_wing':1}\n",
    "    columns=[]\n",
    "    for key in column_names.keys():\n",
    "        columns.append(fits.Column(name=key,format='E',array=[popt[column_names[key]]]))\n",
    "    coldefs = fits.ColDefs(columns)\n",
    "    hdu = fits.BinTableHDU.from_columns(coldefs)\n",
    "    hdu.writeto('%s/%s/%s_3_arcsec_scaling_subcube.fits'%(destination_path_cube,obj,obj),overwrite=True)\n",
    "\n",
    "def emp_fact_table(obj,destination_path_cube=\"/home/mainak/Downloads/Outflow_paper1/MUSE\"):\n",
    "    t1 = Table.read('%s/%s/source_%s.fits'%(destination_path_cube,obj,obj),format='fits')\n",
    "    t2 = Table.read('%s/%s/%s_9_arcsec_scaling_subcube.fits'%(destination_path_cube,obj,obj),format='fits')\n",
    "    new = hstack([t1, t2])\n",
    "    new.write('%s/%s/%s_9_arcsec_scaling_subcube.fits'%(destination_path_cube,obj,obj),overwrite=True)"
   ]
  },
  {
   "cell_type": "code",
   "execution_count": 10,
   "metadata": {},
   "outputs": [],
   "source": [
    "def algorithm_script(obj,z,destination_path_cube=\"/home/mainak/Downloads/Outflow_paper1/MUSE\"):  \n",
    "    print ('%s'%(obj))\n",
    "    (Hb_blr_br_dat,OIII_br_dat,OIII_nr_dat,amp_Hb_blr_br,amp_OIII_br,amp_OIII_nr,Hb_blr_br_error,OIII_br_error,OIII_nr_error) = flux_data_err(obj)\n",
    "    (Hb_blr_br_data,Hb_blr_br_err) = remove_bad_pixel(Hb_blr_br_dat,Hb_blr_br_error)\n",
    "    (OIII_br_data,OIII_br_err) = remove_bad_pixel(OIII_br_dat,OIII_br_error)\n",
    "    (OIII_nr_data,OIII_nr_err) = remove_bad_pixel(OIII_nr_dat,OIII_nr_error)\n",
    "    box_size = np.shape(Hb_blr_br_data)[0]\n",
    "    (brightest_pixel_Hb_blr_br_x,brightest_pixel_Hb_blr_br_y,brightest_pixel_OIII_br_x,brightest_pixel_OIII_br_y,brightest_pixel_OIII_nr_x,brightest_pixel_OIII_nr_y) = brightest_pixel_flux_map(Hb_blr_br_data,OIII_br_data,OIII_nr_data) \n",
    "    \n",
    "    (Hb_par,Hb_error,Hb_model,Hb_res) = elliptical_moffat_fit(Hb_blr_br_data,Hb_blr_br_err,box_size,amp_Hb_blr_br,brightest_pixel_Hb_blr_br_x,brightest_pixel_Hb_blr_br_y,None,100)\n",
    "    print (Hb_par,Hb_error)\n",
    "    red_chi_sq_Hb = red_chi_squared(Hb_blr_br_data,Hb_model,Hb_blr_br_err,5)   \n",
    "    #print (red_chi_sq_Hb)\n",
    "    fixed_param = [Hb_par[3],Hb_par[4],Hb_par[5],Hb_par[6]]\n",
    "    (OIII_br_par,OIII_br_error,OIII_br_model,OIII_br_res) = elliptical_moffat_fit(OIII_br_data,OIII_br_err,box_size,amp_OIII_br,brightest_pixel_OIII_br_x,brightest_pixel_OIII_br_y,fixed_param,100)   \n",
    "    print (OIII_br_par,OIII_br_error)\n",
    "    (OIII_nr_par,OIII_nr_error,OIII_nr_model,OIII_nr_res) = elliptical_moffat_fit(OIII_nr_data,OIII_nr_err,box_size,amp_OIII_nr,brightest_pixel_OIII_nr_x,brightest_pixel_OIII_nr_y,fixed_param,100)   \n",
    "    print (OIII_nr_par,OIII_nr_error)\n",
    "\n",
    "    (full_data,full_error) = (np.append(Hb_par,[OIII_br_par,OIII_nr_par]),np.append(Hb_error,[OIII_br_error,OIII_nr_error]))\n",
    "    moffat_table(full_data,full_error,obj,destination_path_cube=\"/home/mainak/Downloads/Outflow_paper1/MUSE\")\n",
    "    maps(Hb_blr_br_data,OIII_br_data,OIII_nr_data,Hb_model,OIII_br_model,OIII_nr_model,Hb_res,OIII_br_res,OIII_nr_res,obj)\n",
    "    fluxden_compare(obj,Hb_blr_br_data,OIII_br_data,Hb_model,OIII_br_model,Hb_blr_br_err,OIII_br_err)\n",
    "    \n",
    "    plt.imshow(Hb_blr_br_data,norm=LogNorm(),origin='lower')\n",
    "    plt.plot(Hb_par[1],Hb_par[2],'kx')\n",
    "    plt.show()\n",
    "    plt.imshow(Hb_model,norm=LogNorm(),origin='lower')\n",
    "    plt.plot(Hb_par[1],Hb_par[2],'kx')\n",
    "    plt.show()\n",
    "    plt.imshow(OIII_br_data,norm=LogNorm(),origin='lower')\n",
    "    plt.plot(OIII_br_par[1],OIII_br_par[2],'bx')\n",
    "    plt.show()\n",
    "    plt.imshow(OIII_br_model,norm=LogNorm(),origin='lower')\n",
    "    plt.plot(OIII_br_par[1],OIII_br_par[2],'bx')\n",
    "    plt.show()\n",
    "    plt.imshow(OIII_nr_data,norm=LogNorm(),origin='lower')\n",
    "    plt.plot(OIII_nr_par[1],OIII_nr_par[2],'gx')\n",
    "    plt.show()\n",
    "    plt.imshow(OIII_nr_model,norm=LogNorm(),origin='lower')\n",
    "    plt.plot(OIII_nr_par[1],OIII_nr_par[2],'gx')\n",
    "    plt.show()\n",
    "    "
   ]
  },
  {
   "cell_type": "code",
   "execution_count": 11,
   "metadata": {},
   "outputs": [
    {
     "name": "stdout",
     "output_type": "stream",
     "text": [
      "1.5501313 1.3924917\n",
      "HE1330-1013\n",
      "1.5501313 1.3924917\n",
      "[0.3130593837243739, 7.648242117764311, 7.836602449195525, 0.09477041256638327, 0.09290797670724471, 0.0018101366041048375, 2.421477523584673, 3.242078311429972, 3.2872581825839378, 0.3855793147367923, 3.732897215757378, 3.7849168769248256] [0.00679527 0.0204871  0.01862881 0.0072917  0.00736206 0.00255938\n",
      " 0.09867248 0.12001405 0.1302402  0.43498995 0.0573881  0.0673896 ]\n",
      "[0.15056747 7.48573672 8.05096274] [0.00261113 0.03446691 0.03939471]\n",
      "[0.73577322 7.81516251 7.62658792] [0.00303346 0.01176108 0.01087107]\n"
     ]
    },
    {
     "data": {
      "image/png": "[encoded data removed]",
      "text/plain": [
       "<Figure size 432x288 with 1 Axes>"
      ]
     },
     "metadata": {
      "needs_background": "light"
     },
     "output_type": "display_data"
    },
    {
     "data": {
      "image/png": "[encoded data removed]",
      "text/plain": [
       "<Figure size 432x288 with 1 Axes>"
      ]
     },
     "metadata": {
      "needs_background": "light"
     },
     "output_type": "display_data"
    },
    {
     "data": {
      "image/png": "[encoded data removed]",
      "text/plain": [
       "<Figure size 432x288 with 1 Axes>"
      ]
     },
     "metadata": {
      "needs_background": "light"
     },
     "output_type": "display_data"
    },
    {
     "data": {
      "image/png": "[encoded data removed]",
      "text/plain": [
       "<Figure size 432x288 with 1 Axes>"
      ]
     },
     "metadata": {
      "needs_background": "light"
     },
     "output_type": "display_data"
    },
    {
     "data": {
      "image/png": "[encoded data removed]",
      "text/plain": [
       "<Figure size 432x288 with 1 Axes>"
      ]
     },
     "metadata": {
      "needs_background": "light"
     },
     "output_type": "display_data"
    },
    {
     "data": {
      "image/png": "[encoded data removed]",
      "text/plain": [
       "<Figure size 432x288 with 1 Axes>"
      ]
     },
     "metadata": {
      "needs_background": "light"
     },
     "output_type": "display_data"
    }
   ],
   "source": [
    "z = {\"HE1330-1013\":0.022145}\n",
    "\n",
    "objs = z.keys()\n",
    "\n",
    "for obj in objs:\n",
    "    (Hb_blr_br_data,OIII_br_data,OIII_nr_data,amp_Hb_blr_br,amp_OIII_br,amp_OIII_nr,Hb_blr_br_err,OIII_br_err,OIII_nr_err) = flux_data_err(obj)\n",
    "    box_size = np.shape(Hb_blr_br_data)[1]  \n",
    "    y, x = np.mgrid[:box_size, :box_size]\n",
    "    xy=(x,y)\n",
    "    algorithm_script(obj,z[obj])"
   ]
  },
  {
   "cell_type": "code",
   "execution_count": 15,
   "metadata": {
    "scrolled": true
   },
   "outputs": [
    {
     "name": "stdout",
     "output_type": "stream",
     "text": [
      "1.356066 8.513918\n",
      "HE0021-1810\n",
      "1.356066 8.513918\n",
      "[0.17110787209556433, 4.2996711534801895, 3.6460912689899465, 0.27840935349433005, 0.3056832500121336, -0.014837407207417582, 2.2768325262099367, 1.8031323172379674, 1.9016699532348316, 0.24911827313728455, 2.151276747958596, 2.2688397926072414] [4.48241481e-02 1.26551425e-01 1.11442627e-01 2.47345977e-01\n",
      " 3.07298232e-01 6.66543269e-02 2.96245609e+02 8.65306619e+00\n",
      " 9.83337044e+00 4.09643556e-01 3.43587428e-01 4.06541558e-01]\n",
      "[1.41080153 4.18965277 3.74055548] [0.10568673 0.11554837 0.10480075]\n",
      "[2.23066481 4.23789518 3.75256093] [0.02261523 0.01163375 0.0140716 ]\n"
     ]
    },
    {
     "data": {
      "image/png": "[encoded data removed]",
      "text/plain": [
       "<Figure size 432x288 with 1 Axes>"
      ]
     },
     "metadata": {
      "needs_background": "light"
     },
     "output_type": "display_data"
    },
    {
     "data": {
      "image/png": "[encoded data removed]",
      "text/plain": [
       "<Figure size 432x288 with 1 Axes>"
      ]
     },
     "metadata": {
      "needs_background": "light"
     },
     "output_type": "display_data"
    },
    {
     "data": {
      "image/png": "[encoded data removed]",
      "text/plain": [
       "<Figure size 432x288 with 1 Axes>"
      ]
     },
     "metadata": {
      "needs_background": "light"
     },
     "output_type": "display_data"
    },
    {
     "data": {
      "image/png": "[encoded data removed]",
      "text/plain": [
       "<Figure size 432x288 with 1 Axes>"
      ]
     },
     "metadata": {
      "needs_background": "light"
     },
     "output_type": "display_data"
    },
    {
     "data": {
      "image/png": "[encoded data removed]",
      "text/plain": [
       "<Figure size 432x288 with 1 Axes>"
      ]
     },
     "metadata": {
      "needs_background": "light"
     },
     "output_type": "display_data"
    },
    {
     "data": {
      "image/png": "[encoded data removed]",
      "text/plain": [
       "<Figure size 432x288 with 1 Axes>"
      ]
     },
     "metadata": {
      "needs_background": "light"
     },
     "output_type": "display_data"
    }
   ],
   "source": [
    "z = {\"HE0021-1810\":0.05252}\n",
    "\n",
    "objs = z.keys()\n",
    "\n",
    "for obj in objs:\n",
    "    (Hb_blr_br_data,OIII_br_data,OIII_nr_data,amp_Hb_blr_br,amp_OIII_br,amp_OIII_nr,Hb_blr_br_err,OIII_br_err,OIII_nr_err) = flux_data_err(obj)\n",
    "    box_size = np.shape(Hb_blr_br_data)[1]  \n",
    "    y, x = np.mgrid[:box_size, :box_size]\n",
    "    xy=(x,y)\n",
    "    algorithm_script(obj,z[obj])"
   ]
  },
  {
   "cell_type": "code",
   "execution_count": 43,
   "metadata": {},
   "outputs": [],
   "source": [
    "hdu = fits.open('subcube_par_HE0021-1810.fits')\n",
    "Hb_data = hdu[5].data\n",
    "hdu.close()\n",
    "hdu = fits.open('subcube_par_err_HE0021-1810.fits')\n",
    "Hb_err = hdu[5].data\n",
    "hdu.close()\n",
    "(a,b) = np.where(Hb_data == 0.01) \n",
    "(zero_y,zero_x)=(a[0],b[0])\n",
    "Hb_err[zero_y,zero_x]"
   ]
  },
  {
   "cell_type": "code",
   "execution_count": null,
   "metadata": {},
   "outputs": [],
   "source": []
  }
 ],
 "metadata": {
  "kernelspec": {
   "display_name": "Python 3",
   "language": "python",
   "name": "python3"
  },
  "language_info": {
   "codemirror_mode": {
    "name": "ipython",
    "version": 3
   },
   "file_extension": ".py",
   "mimetype": "text/x-python",
   "name": "python",
   "nbconvert_exporter": "python",
   "pygments_lexer": "ipython3",
   "version": "3.7.3"
  }
 },
 "nbformat": 4,
 "nbformat_minor": 2
}
