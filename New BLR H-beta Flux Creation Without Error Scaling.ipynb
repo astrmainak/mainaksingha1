{
 "cells": [
  {
   "cell_type": "code",
   "execution_count": 1,
   "metadata": {},
   "outputs": [
    {
     "name": "stderr",
     "output_type": "stream",
     "text": [
      "/home/mainak/anaconda2/lib/python2.7/site-packages/h5py/__init__.py:34: FutureWarning: Conversion of the second argument of issubdtype from `float` to `np.floating` is deprecated. In future, it will be treated as `np.float64 == np.dtype(float).type`.\n",
      "  from ._conv import register_converters as _register_converters\n",
      "/home/mainak/.local/lib/python2.7/site-packages/pyneb/utils/manage_atomic_data.py:528: VisibleDeprecationWarning: Reading unicode strings without specifying the encoding argument is deprecated. Set the encoding, use None for the system default.\n",
      "  gsconf = np.genfromtxt(execution_path('../atomic_data/levels/gsconfs.dat'), names=['atom', 'gsconf'], dtype=None)\n"
     ]
    }
   ],
   "source": [
    "import numpy as np\n",
    "import matplotlib.pyplot as plt\n",
    "import astropy.io.fits as fits\n",
    "from scipy import ndimage\n",
    "from func import *\n",
    "import astropy.units as u\n",
    "from astropy.cosmology import FlatLambdaCDM\n",
    "from matplotlib.colors import LogNorm"
   ]
  },
  {
   "cell_type": "code",
   "execution_count": 2,
   "metadata": {
    "collapsed": true
   },
   "outputs": [],
   "source": [
    "def err_ratio(data,err):   \n",
    "    (y_blr,x_blr) = ndimage.measurements.maximum_position(data)\n",
    "    (act_dat,act_err) = (data,err)\n",
    "    data_mask = data[1:-1,1:-1]\n",
    "    err_mask = err[1:-1,1:-1]\n",
    "    data[1:-1,1:-1]=0\n",
    "    err[1:-1,1:-1]=0\n",
    "    data_edge = data[data!=0]\n",
    "    err_edge = err[err!=0]\n",
    "    err_2D_dat = np.std(data_edge)\n",
    "    err_2D_err = np.mean(err_edge)\n",
    "    correct_fact = np.abs(err_2D_dat/err_2D_err)\n",
    "    return correct_fact\n",
    "\n",
    "def flux_err_fact(obj,destination_path_cube=\"/home/mainak/Downloads/Outflow_paper1/MUSE\"):\n",
    "    hdu = fits.open('%s/%s/%s_empirical_factor_subcube.fits'%(destination_path_cube,obj,obj))\n",
    "    central_tab = hdu[1].data\n",
    "    central_columns = hdu[1].header\n",
    "    (emp_Hb1,emp_Hb2,emp_wing) = (central_tab.field('emp_fact_Hb1')[0],central_tab.field('emp_fact_Hb2')[0],central_tab.field('emp_fact_wing')[0])\n",
    "    hdu.close()\n",
    "    return emp_Hb1,emp_Hb2,emp_wing\n",
    "    \n",
    "def flux_error_single_comp(data,err,vel_sigma,vel_sigma_err,ratio,flux):\n",
    "    identity_array = (data/data)\n",
    "    amp_contribution = (err/data)\n",
    "    true_amp_contribution = amp_contribution\n",
    "    vel_sigma_contribution = 0.5*(vel_sigma_err/vel_sigma)*identity_array\n",
    "    #print vel_sigma_contribution,true_amp_contribution \n",
    "    flux_err= flux*(true_amp_contribution + vel_sigma_contribution)\n",
    "    return flux_err\n",
    "\n",
    "def blr_flux(flux_Hb1,flux_Hb2,broad2=False):\n",
    "    if broad2:\n",
    "        flux_Hb_blr = flux_Hb1+flux_Hb2\n",
    "    else:\n",
    "        flux_Hb_blr = flux_Hb1\n",
    "    return flux_Hb_blr \n",
    "\n",
    "def blr_flux_err(flux_Hb1_err,flux_Hb2_err,broad2=False):\n",
    "    if broad2:\n",
    "        flux_Hb_blr_err = np.sqrt(flux_Hb1_err**2+flux_Hb2_err**2) \n",
    "    else:\n",
    "        flux_Hb_blr_err = flux_Hb1_err\n",
    "    return flux_Hb_blr_err \n"
   ]
  },
  {
   "cell_type": "code",
   "execution_count": 3,
   "metadata": {
    "collapsed": true
   },
   "outputs": [],
   "source": [
    "def blr_flux_map(output_par,obj,destination_path_cube=\"/home/mainak/Downloads/Outflow_paper1/MUSE\"):\n",
    "    [flux_Hb1,flux_Hb2,flux_Hb_blr] = output_par\n",
    "    hdus=[]\n",
    "    hdus.append(fits.PrimaryHDU())\n",
    "    hdus.append(fits.ImageHDU(flux_Hb1,name='flux_Hb1_blr'))\n",
    "    hdus.append(fits.ImageHDU(flux_Hb2,name='flux_Hb2_blr'))\n",
    "    hdus.append(fits.ImageHDU(flux_Hb_blr,name='flux_Hb_blr'))\n",
    "    hdu = fits.HDUList(hdus)\n",
    "    hdu.writeto('%s/Flux Maps/%s/fluxcube_blr_%s.fits'%(destination_path_cube,obj,obj),overwrite='True')\n",
    "\n",
    "def blr_flux_err_map(output_par_err,obj,destination_path_cube=\"/home/mainak/Downloads/Outflow_paper1/MUSE\"):\n",
    "    [flux_Hb1_error,flux_Hb2_error,flux_Hb_blr_error] = output_par_err\n",
    "    hdus=[]\n",
    "    hdus.append(fits.PrimaryHDU())\n",
    "    hdus.append(fits.ImageHDU(flux_Hb1_error,name='flux_Hb1_blr_err'))\n",
    "    hdus.append(fits.ImageHDU(flux_Hb2_error,name='flux_Hb2_blr_err'))\n",
    "    hdus.append(fits.ImageHDU(flux_Hb_blr_error,name='flux_Hb_blr_err'))\n",
    "    hdu = fits.HDUList(hdus)\n",
    "    hdu.writeto('%s/Flux Maps/%s/fluxcube_blr_err_%s.fits'%(destination_path_cube,obj,obj),overwrite='True')\n",
    "\n",
    "def new_flux_err_map(obj,correction_fact,destination_path_cube=\"/home/mainak/Downloads/Outflow_paper1/MUSE\"):\n",
    "    [Hb1_fact,Hb2_fact,Hb_fact] = correction_fact\n",
    "    hdu = fits.open('%s/Flux Maps/%s/fluxcube_blr_err_%s.fits'%(destination_path_cube,obj,obj))\n",
    "    Hb1_err = hdu[1].data\n",
    "    Hb2_err = hdu[2].data\n",
    "    Hb_err = hdu[3].data\n",
    "    Hb1_err_new = Hb1_fact*Hb1_err\n",
    "    Hb2_err_new = Hb2_fact*Hb2_err\n",
    "    Hb_err_new = Hb_fact*Hb_err\n",
    "    hdus=[]\n",
    "    hdus.append(fits.PrimaryHDU())\n",
    "    hdus.append(fits.ImageHDU(Hb1_err,name='flux_Hb1_blr_err'))\n",
    "    hdus.append(fits.ImageHDU(Hb2_err,name='flux_Hb2_blr_err'))\n",
    "    hdus.append(fits.ImageHDU(Hb_err,name='flux_Hb_blr_err'))\n",
    "    hdu = fits.HDUList(hdus)\n",
    "    hdu.writeto('%s/Flux Maps/%s/fluxcube_blr_err_%s.fits'%(destination_path_cube,obj,obj),overwrite='True')\n"
   ]
  },
  {
   "cell_type": "code",
   "execution_count": 4,
   "metadata": {
    "collapsed": true
   },
   "outputs": [],
   "source": [
    "def algorithm_script(obj,z,broad2,destination_path_cube=\"/home/mainak/Downloads/Outflow_paper1/MUSE\"):\n",
    "    print '%s'%(obj)\n",
    "\n",
    "    (amp_Hb1,amp_Hb2,vel_Hb1,vel_Hb2,vel_sigma_Hb1,vel_sigma_Hb2,amp_OIII5007,vel_OIII,vel_sigma_OIII,amp_OIII5007_br,vel_OIII_br,vel_sigma_OIII_br,vel_offset,m,c) = central_par(obj)\n",
    "    (vel_sigma_Hb1_err,vel_sigma_Hb2_err,vel_sigma_OIII_err,vel_sigma_OIII_br_err) = central_vel_sigma_err(obj)\n",
    "    print \"Value and Error with BLR1 Velocity dispersion is\",vel_sigma_Hb1,vel_sigma_Hb1_err\n",
    "    print \"Value and Error with BLR2 Velocity dispersion is\",vel_sigma_Hb2,vel_sigma_Hb2_err\n",
    "    \n",
    "    (Hb1_blr_br_data,Hb2_blr_br_data) = loadblr('%s/Flux Maps/%s/subcube_par_%s.fits'%(destination_path_cube,obj,obj))\n",
    "    (Hb1_blr_br_err,Hb2_blr_br_err) = loadblr('%s/Flux Maps/%s/subcube_par_err_%s.fits'%(destination_path_cube,obj,obj))\n",
    "    OIII_br_err = loadwing_err('%s/Flux Maps/%s/subcube_par_err_%s.fits'%(destination_path_cube,obj,obj))\n",
    "    OIII_br_data = loadwing_err('%s/Flux Maps/%s/subcube_par_%s.fits'%(destination_path_cube,obj,obj)) # It opens the hdu[3] where the OIII_br data \n",
    "                                                        # whether that is error or data because it sepends upon filename\n",
    "    sigma_eff_Hb1 = line_width_recons(vel_sigma_Hb1,rest_line=4861.33,inst_res_fwhm=0)\n",
    "    sigma_eff_Hb2 = line_width_recons(vel_sigma_Hb2,rest_line=4861.33,inst_res_fwhm=0) \n",
    "    sigma_eff_OIII_br = line_width_recons(vel_sigma_OIII_br,rest_line=5006.8,inst_res_fwhm=0) \n",
    "    \n",
    "    flux_Hb1 = Hb1_blr_br_data*(np.sqrt(2.*np.pi)*np.fabs(sigma_eff_Hb1))\n",
    "    flux_Hb2 = Hb2_blr_br_data*(np.sqrt(2.*np.pi)*np.fabs(sigma_eff_Hb2))   \n",
    "    flux_Hb_blr = blr_flux(flux_Hb1,flux_Hb2,broad2)\n",
    "    \n",
    "    output_par = [flux_Hb1,flux_Hb2,flux_Hb_blr]\n",
    "    blr_flux_map(output_par,obj)\n",
    "\n",
    "    (err_ratio_Hb1,err_ratio_Hb2,err_ratio_OIII_br) = flux_err_fact(obj)\n",
    "    \n",
    "    flux_Hb1_err = flux_error_single_comp(Hb1_blr_br_data,Hb1_blr_br_err,vel_sigma_Hb1,vel_sigma_Hb1_err,err_ratio_Hb1,flux_Hb1)\n",
    "    flux_Hb2_err = flux_error_single_comp(Hb2_blr_br_data,Hb2_blr_br_err,vel_sigma_Hb2,vel_sigma_Hb2_err,err_ratio_Hb2,flux_Hb2) \n",
    "    flux_Hb_blr_err = blr_flux_err(flux_Hb1_err,flux_Hb2_err,broad2) \n",
    "    \n",
    "    output_par_err = [flux_Hb1_err,flux_Hb2_err,flux_Hb_blr_err]\n",
    "    blr_flux_err_map(output_par_err,obj)\n",
    "   \n",
    "    Hb1_err_correction_fact = err_ratio(flux_Hb1,flux_Hb1_err)\n",
    "    Hb2_err_correction_fact = err_ratio(flux_Hb2,flux_Hb2_err)\n",
    "    blr_err_correction_fact = err_ratio(flux_Hb_blr,flux_Hb_blr_err)\n",
    "    #print blr_err_correction_fact\n",
    "    new_err = [output_par_err[0],output_par_err[1],output_par_err[2]]\n",
    "    #correction_fact = [Hb1_err_correction_fact,Hb2_err_correction_fact,blr_err_correction_fact]\n",
    "    correction_fact = [1,1,1]\n",
    "    new_flux_err_map(obj,correction_fact)\n",
    " "
   ]
  },
  {
   "cell_type": "code",
   "execution_count": 5,
   "metadata": {},
   "outputs": [
    {
     "name": "stdout",
     "output_type": "stream",
     "text": [
      "HE0227-0913\n",
      "Value and Error with BLR1 Velocity dispersion is 401.83044 4.2677693\n",
      "Value and Error with BLR2 Velocity dispersion is 1369.6178 12.375197\n"
     ]
    }
   ],
   "source": [
    "z = {\"HE0227-0913\":0.016451}\n",
    "\n",
    "broad2= {'HE0227-0913':True}\n",
    "\n",
    "objs = z.keys()\n",
    "\n",
    "\n",
    "for obj in objs:\n",
    "    algorithm_script(obj,z[obj],broad2[obj])"
   ]
  },
  {
   "cell_type": "code",
   "execution_count": 6,
   "metadata": {},
   "outputs": [
    {
     "name": "stdout",
     "output_type": "stream",
     "text": [
      "HE0345+0056\n",
      "Value and Error with BLR1 Velocity dispersion is 326.2813 1.8047442\n",
      "Value and Error with BLR2 Velocity dispersion is 1562.7096 7.1007214\n",
      "HE0412-0803\n",
      "Value and Error with BLR1 Velocity dispersion is 1822.7784 10.005576\n",
      "Value and Error with BLR2 Velocity dispersion is 1000.0 0.0\n",
      "HE0224-2834\n",
      "Value and Error with BLR1 Velocity dispersion is 2166.2676 18.17133\n",
      "Value and Error with BLR2 Velocity dispersion is 1500.0 0.0\n",
      "HE0433-1028\n",
      "Value and Error with BLR1 Velocity dispersion is 975.0163 30.690521\n",
      "Value and Error with BLR2 Velocity dispersion is 2146.2854 74.976135\n",
      "HE2233+0124\n",
      "Value and Error with BLR1 Velocity dispersion is 1307.6646 75.12925\n",
      "Value and Error with BLR2 Velocity dispersion is 4297.3047 135.08592\n",
      "HE1330-1013\n",
      "Value and Error with BLR1 Velocity dispersion is 1894.425 65.631584\n",
      "Value and Error with BLR2 Velocity dispersion is 640.0817 27.853006\n",
      "HE1011-0403\n",
      "Value and Error with BLR1 Velocity dispersion is 834.44556 445.84103\n",
      "Value and Error with BLR2 Velocity dispersion is 1789.4576 437.07874\n",
      "HE0429-0247\n",
      "Value and Error with BLR1 Velocity dispersion is 458.8598 12.358766\n",
      "Value and Error with BLR2 Velocity dispersion is 1632.1549 14.104043\n",
      "HE0021-1810\n",
      "Value and Error with BLR1 Velocity dispersion is 2410.171 658.3987\n",
      "Value and Error with BLR2 Velocity dispersion is 1000.0 0.0\n",
      "HE0227-0913\n",
      "Value and Error with BLR1 Velocity dispersion is 401.83044 4.2677693\n",
      "Value and Error with BLR2 Velocity dispersion is 1369.6178 12.375197\n",
      "HE1029-1831\n",
      "Value and Error with BLR1 Velocity dispersion is 1736.7952 136.25829\n",
      "Value and Error with BLR2 Velocity dispersion is 845.4987 150.22519\n",
      "HE0232-0900\n",
      "Value and Error with BLR1 Velocity dispersion is 2194.761 6.443378\n",
      "Value and Error with BLR2 Velocity dispersion is 1000.0 0.0\n",
      "HE2222-0026\n",
      "Value and Error with BLR1 Velocity dispersion is 653.09546 53.06946\n",
      "Value and Error with BLR2 Velocity dispersion is 1746.8668 27.73889\n",
      "HE2302-0857\n",
      "Value and Error with BLR1 Velocity dispersion is 2386.4731 0.0\n",
      "Value and Error with BLR2 Velocity dispersion is 0.0 0.0\n"
     ]
    },
    {
     "name": "stderr",
     "output_type": "stream",
     "text": [
      "/home/mainak/anaconda2/lib/python2.7/site-packages/ipykernel_launcher.py:27: RuntimeWarning: invalid value encountered in float_scalars\n",
      "/home/mainak/anaconda2/lib/python2.7/site-packages/numpy/core/_methods.py:135: RuntimeWarning: Degrees of freedom <= 0 for slice\n",
      "  keepdims=keepdims)\n",
      "/home/mainak/anaconda2/lib/python2.7/site-packages/numpy/core/_methods.py:105: RuntimeWarning: invalid value encountered in true_divide\n",
      "  arrmean, rcount, out=arrmean, casting='unsafe', subok=False)\n",
      "/home/mainak/anaconda2/lib/python2.7/site-packages/numpy/core/_methods.py:127: RuntimeWarning: invalid value encountered in true_divide\n",
      "  ret = ret.dtype.type(ret / rcount)\n"
     ]
    },
    {
     "name": "stdout",
     "output_type": "stream",
     "text": [
      "HE0021-1819\n",
      "Value and Error with BLR1 Velocity dispersion is 1638.1287 33.974743\n",
      "Value and Error with BLR2 Velocity dispersion is 1000.0 0.0\n",
      "HE2128-0221\n",
      "Value and Error with BLR1 Velocity dispersion is 851.6679 14.040453\n",
      "Value and Error with BLR2 Velocity dispersion is 1000.0 0.0\n",
      "HE0853+0102\n",
      "Value and Error with BLR1 Velocity dispersion is 1644.3821 39.25763\n",
      "Value and Error with BLR2 Velocity dispersion is 788.5562 177.2872\n",
      "HE1237-0504\n",
      "Value and Error with BLR1 Velocity dispersion is 1657.2368 3.2119558\n",
      "Value and Error with BLR2 Velocity dispersion is 1000.0 0.0\n",
      "HE1107-0813\n",
      "Value and Error with BLR1 Velocity dispersion is 1002.09674 36.82685\n",
      "Value and Error with BLR2 Velocity dispersion is 1918.9082 27.825804\n",
      "HE0114-0015\n",
      "Value and Error with BLR1 Velocity dispersion is 1228.1744 29.65618\n",
      "Value and Error with BLR2 Velocity dispersion is 1000.0 0.0\n",
      "HE2211-3903\n",
      "Value and Error with BLR1 Velocity dispersion is 2576.4124 28.992022\n",
      "Value and Error with BLR2 Velocity dispersion is 100.0 0.0\n",
      "HE0351+0240\n",
      "Value and Error with BLR1 Velocity dispersion is 317.24457 5.6908054\n",
      "Value and Error with BLR2 Velocity dispersion is 1328.6624 8.501562\n",
      "HE0040-1105\n",
      "Value and Error with BLR1 Velocity dispersion is 1171.8516 7.3689837\n",
      "Value and Error with BLR2 Velocity dispersion is 1000.0 0.0\n",
      "HE0253-1641\n",
      "Value and Error with BLR1 Velocity dispersion is 1768.0038 23.378178\n",
      "Value and Error with BLR2 Velocity dispersion is 548.8888 8.306102\n",
      "HE1126-0407\n",
      "Value and Error with BLR1 Velocity dispersion is 711.23334 5.00589\n",
      "Value and Error with BLR2 Velocity dispersion is 1763.6648 7.8686304\n",
      "HE0119-0118\n",
      "Value and Error with BLR1 Velocity dispersion is 988.31903 25.319496\n",
      "Value and Error with BLR2 Velocity dispersion is 2494.1875 38.618637\n",
      "HE1248-1356\n",
      "Value and Error with BLR1 Velocity dispersion is 1495.1307 61.177677\n",
      "Value and Error with BLR2 Velocity dispersion is 0.0 0.0\n",
      "HE0108-4743\n",
      "Value and Error with BLR1 Velocity dispersion is 1327.5083 72.37966\n",
      "Value and Error with BLR2 Velocity dispersion is 432.54922 20.69577\n",
      "HE1353-1917\n",
      "Value and Error with BLR1 Velocity dispersion is 1491.2686 165.08171\n",
      "Value and Error with BLR2 Velocity dispersion is 1564.8397 164.98778\n",
      "HE1417-0909\n",
      "Value and Error with BLR1 Velocity dispersion is 1463.4417 4.6722713\n",
      "Value and Error with BLR2 Velocity dispersion is 1000.0 0.0\n",
      "HE0212-0059\n",
      "Value and Error with BLR1 Velocity dispersion is 3819.5886 81.56205\n",
      "Value and Error with BLR2 Velocity dispersion is 1090.6306 43.346863\n",
      "HE1108-2813\n",
      "Value and Error with BLR1 Velocity dispersion is 1314.5072 12.966773\n",
      "Value and Error with BLR2 Velocity dispersion is 1000.0 0.0\n",
      "HE0934+0119\n",
      "Value and Error with BLR1 Velocity dispersion is 586.4208 15.9559145\n",
      "Value and Error with BLR2 Velocity dispersion is 1474.8214 47.492584\n",
      "HE1017-0305\n",
      "Value and Error with BLR1 Velocity dispersion is 1961.4764 17.391733\n",
      "Value and Error with BLR2 Velocity dispersion is 0.0 0.0\n"
     ]
    }
   ],
   "source": [
    "z = {\"HE0021-1810\":0.05352,\"HE0021-1819\":0.053197,\"HE0040-1105\":0.041692,\"HE0108-4743\":0.02392,\"HE0114-0015\":0.04560\n",
    "    ,\"HE0119-0118\":0.054341,\"HE0212-0059\":0.026385,\"HE0224-2834\":0.059800,\"HE0227-0913\":0.016451,\"HE0232-0900\":0.043143\n",
    "    ,\"HE0253-1641\":0.031588,\"HE0345+0056\":0.031,\"HE0351+0240\":0.036,\"HE0412-0803\":0.038160,\"HE0429-0247\":0.042009\n",
    "    ,\"HE0433-1028\":0.035550,\"HE0853+0102\":0.052,\"HE0934+0119\":0.050338,\"HE1011-0403\":0.058314,\"HE1017-0305\":0.049986\n",
    "    ,\"HE1029-1831\":0.040261,\"HE1107-0813\":0.058,\"HE1108-2813\":0.024013,\"HE1126-0407\":0.061960,\"HE1237-0504\":0.009\n",
    "    ,\"HE1248-1356\":0.01465,\"HE1330-1013\":0.022145,\"HE1353-1917\":0.035021,\"HE1417-0909\":0.044,\"HE2128-0221\":0.05248\n",
    "    ,\"HE2211-3903\":0.039714,\"HE2222-0026\":0.059114,\"HE2233+0124\":0.056482,\"HE2302-0857\":0.046860}\n",
    "\n",
    "broad2= {'HE0021-1810':False,'HE0021-1819':False,'HE0040-1105':False,'HE0108-4743':True,'HE0114-0015':False\n",
    "        ,'HE0119-0118':True,'HE0212-0059':True,'HE0224-2834':False,'HE0227-0913':True,'HE0232-0900':False\n",
    "        ,'HE0253-1641':True,'HE0345+0056':True,'HE0351+0240':True,'HE0412-0803':False,'HE0429-0247':True\n",
    "        ,'HE0433-1028':True,'HE0853+0102':True,'HE0934+0119':True,'HE1011-0403':True,'HE1017-0305':False\n",
    "        ,'HE1029-1831':True,'HE1107-0813':True,'HE1108-2813':False,'HE1126-0407':True,'HE1237-0504':False\n",
    "        ,'HE1248-1356':False,'HE1330-1013':True,'HE1353-1917':True,'HE1417-0909':False,'HE2128-0221':False\n",
    "        ,'HE2211-3903':False,'HE2222-0026':True,'HE2233+0124':True,'HE2302-0857':False}\n",
    "\n",
    "objs = z.keys()\n",
    "\n",
    "\n",
    "for obj in objs:\n",
    "    algorithm_script(obj,z[obj],broad2[obj])"
   ]
  },
  {
   "cell_type": "code",
   "execution_count": 8,
   "metadata": {},
   "outputs": [
    {
     "data": {
      "text/plain": [
       "array([ 4, 10, 18])"
      ]
     },
     "execution_count": 8,
     "metadata": {},
     "output_type": "execute_result"
    }
   ],
   "source": [
    "a = [1,2,3]\n",
    "b = [4,5,6]\n",
    "np.multiply(a,b)"
   ]
  },
  {
   "cell_type": "code",
   "execution_count": null,
   "metadata": {
    "collapsed": true
   },
   "outputs": [],
   "source": []
  }
 ],
 "metadata": {
  "kernelspec": {
   "display_name": "Python 2",
   "language": "python",
   "name": "python2"
  },
  "language_info": {
   "codemirror_mode": {
    "name": "ipython",
    "version": 2
   },
   "file_extension": ".py",
   "mimetype": "text/x-python",
   "name": "python",
   "nbconvert_exporter": "python",
   "pygments_lexer": "ipython2",
   "version": "2.7.14"
  }
 },
 "nbformat": 4,
 "nbformat_minor": 2
}
