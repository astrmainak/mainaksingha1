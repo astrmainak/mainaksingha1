{
 "cells": [
  {
   "cell_type": "code",
   "execution_count": 1,
   "metadata": {},
   "outputs": [],
   "source": [
    "from astropy.io import fits as fits\n",
    "#import open3d\n",
    "import numpy as np\n",
    "#import astro_tools\n",
    "from matplotlib import pyplot as plt"
   ]
  },
  {
   "cell_type": "code",
   "execution_count": 2,
   "metadata": {},
   "outputs": [],
   "source": [
    "def str_int(value):\n",
    "    str_out = r'%.0f'%(value)\n",
    "    return str_out\n",
    "\n",
    "def str_float(value):\n",
    "    str_out = r'%.2f'%(value)\n",
    "    return str_out"
   ]
  },
  {
   "cell_type": "code",
   "execution_count": 3,
   "metadata": {},
   "outputs": [],
   "source": [
    "out_latex='/home/mainak/Downloads/Outflow_paper1/kinpar_table.tex'\n",
    "\n",
    "hdu = fits.open('/home/mainak/Downloads/Outflow_paper1/MUSE/CARS AGN Spectral Param Nonfixkin.fits')\n",
    "tab = hdu[1].data\n",
    "\n",
    "obj = tab['Source']\n",
    "\n",
    "Vel_sigma_OIII=np.abs(tab['vel_sigma_OIII'])\n",
    "vel_sigma_OIII = [int(x) for x in np.round(Vel_sigma_OIII)]\n",
    "\n",
    "Vel_sigma_OIII_err=tab['vel_sigma_OIII_err']\n",
    "vel_sigma_OIII_err = [int(x) for x in np.round(Vel_sigma_OIII_err)]\n",
    "\n",
    "Vel_sigma_OIII_br=np.abs(tab['vel_sigma_OIII_br'])\n",
    "vel_sigma_OIII_br = [int(x) for x in np.round(Vel_sigma_OIII_br)]\n",
    "\n",
    "Vel_sigma_OIII_br_err=tab['vel_sigma_OIII_br_err']\n",
    "vel_sigma_OIII_br_err = [int(x) for x in np.round(Vel_sigma_OIII_br_err)]\n",
    "\n",
    "V_outflow = tab['v_outflow']    \n",
    "v_outflow = [-int(x) for x in np.round(V_outflow)]\n",
    "\n",
    "V_outflow_err = tab['v_outflow_err']   \n",
    "v_outflow_err = [int(x) for x in np.round(V_outflow_err)]\n",
    "\n",
    "W80 =tab['w80']\n",
    "w80 = [int(x) for x in np.round(W80)]\n",
    "\n",
    "W80_err=tab['w80_err']\n",
    "w80_err = [int(x) for x in np.round(W80_err)]\n",
    "\n",
    "Log_L_Hb=tab['log_Hb_lum']\n",
    "log_L_Hb = np.round(Log_L_Hb,2)\n",
    "\n",
    "Log_L_Hb_err=tab['log_Hb_lum_err']\n",
    "log_L_Hb_err = np.round(Log_L_Hb_err,2)\n",
    "\n",
    "Amp_OIII5007 = tab['amp_OIII5007']\n",
    "amp_OIII5007 = np.round(Amp_OIII5007,2)\n",
    "\n",
    "Amp_OIII5007_err = tab['amp_OIII5007_err']\n",
    "amp_OIII5007_err = np.round(Amp_OIII5007_err,2)\n",
    "\n",
    "Amp_OIII5007_br = tab['amp_OIII5007_br']\n",
    "amp_OIII5007_br = np.round(Amp_OIII5007_br,2)\n",
    "\n",
    "Amp_OIII5007_br_err = tab['amp_OIII5007_br_err']\n",
    "amp_OIII5007_br_err = np.round(Amp_OIII5007_br_err,2)\n",
    "\n",
    "\n",
    "hdu.close()\n",
    "\n"
   ]
  },
  {
   "cell_type": "code",
   "execution_count": 4,
   "metadata": {},
   "outputs": [
    {
     "data": {
      "text/plain": [
       "54"
      ]
     },
     "execution_count": 4,
     "metadata": {},
     "output_type": "execute_result"
    }
   ],
   "source": [
    "file = open(out_latex,'w')\n",
    "file.write(r'\\begin{table*}'+'\\n')\n",
    "file.write(r'\\caption{Kinematic Table for CARS sources}'+'\\n')  \n",
    "file.write(r'\\label{Table:1}'+'\\n')\n",
    "file.write(r'\\centering'+'\\n')\n",
    "file.write(r'\\begin{tabular}{|c c c c |c|c|c|c|}\\hline\\hline'+'\\n')\n",
    "#file.write(r'Object & $W_{80}\\:(km/s)$ & $v_{outflow}\\:(km/s)$ & $\\sigma_{[\\ion{O}{iii}]\\:wing}\\:(km/s)$ & $log(L_{[\\ion{O}{iii}]};\\:erg/s)$ & $log(L_{H\\beta\\: BLR};\\:erg/s)$\\\\ \\hline \\smallskip'+'\\n')\n",
    "file.write(r'Object &  $log(L_{BLR\\: H\\beta})$ & $W_{80}$ & $\\Delta v$ & \\multicolumn{2}{|c|}{$\\sigma_{[\\ion{O}{iii}]}\\: (km \\:s^{-1})$} & \\multicolumn{2}{|c|}{$F_{\\lambda}\\: (10^-{16}\\quad erg\\: s^{-1}\\: cm^{-2}\\: \\AA^{-1}$)}\\\\ \\smallskip}'+'\\n')\n",
    "file.write(r' & $(erg\\ s^{-1})$ & $(km\\: s^{-1})$ & $(km \\:s^{-1})$ & & & & \\\\ \\hline \\smallskip'+'\\n')\n",
    "file.write(r'& & & & core & wing & core & wing\\\\ \\hline \\smallskip'+'\\n')\n"
   ]
  },
  {
   "cell_type": "code",
   "execution_count": 5,
   "metadata": {},
   "outputs": [],
   "source": [
    "for i in range(len(obj)):\n",
    "    name = obj[i]\n",
    "    file.write(r'%s & %s $\\pm$ %s & %s $\\pm$ %s & %s $\\pm$ %s & %s $\\pm$ %s & %s $\\pm$ %s & %s $\\pm$ %s & %s $\\pm$ %s\\\\'%(name,str_float(log_L_Hb[i]),str_float(log_L_Hb_err[i]),str_int(w80[i]),str_int(w80_err[i]),str_int(v_outflow[i]),str_int(v_outflow_err[i]),str_int(vel_sigma_OIII[i]),str_int(vel_sigma_OIII_err[i]),str_int(vel_sigma_OIII_br[i]),str_int(vel_sigma_OIII_br_err[i]),str_float(amp_OIII5007[i]),str_float(amp_OIII5007_err[i]),str_float(amp_OIII5007_br[i]),str_float(amp_OIII5007_br_err[i]))+'\\n')\n",
    "file.write(r'\\noalign{\\smallskip}\\hline'+'\\n')\n",
    "file.write(r'\\end{tabular}'+'\\n')\n",
    "file.write(r'\\end{table*}'+'\\n')\n",
    "file.close()\n"
   ]
  },
  {
   "cell_type": "raw",
   "metadata": {},
   "source": [
    "out_latex='chisq_table.tex'\n",
    "\n",
    "hdu = fits.open('/home/mainak/Downloads/Outflow_paper1/CARS.fits')\n",
    "tab = hdu[1].data\n",
    "obj = tab['Source']\n",
    "log_w80_CARS = np.log10(central_tab.field('w80'))\n",
    "log_L_OIII_CARS = central_tab.field('log_L_OIII')\n",
    "log_L_Hb_blr_CARS = central_tab.field('log_Hb_lum')#frac_disc = tab['frac_disc']\n",
    "#frac_irregular = tab['frac_irregular']\n",
    "#frac_bared = tab['frac_bar']\n",
    "#frac_unbared = tab['frac_unbar']\n",
    "#frac_uncertain = tab['frac_uncertain']\n",
    "#frac_companion = tab['frac_companion']\n",
    "#frac_tidal = tab['frac_tidal']\n",
    "#frac_interact = frac_companion+frac_tidal\n",
    "#frac_isolated = tab['frac_isolated']\n",
    "\n",
    "file = open(out_latex,'w')\n",
    "file.write(r'\\begin{tabular}{lcccccccccc}\\hline\\hline'+'\\n')\n",
    "file.write(r'Object & \\multicolumn{3}{c}{morphology} & &\\multicolumn{3}{c}{baredness} & &\\multicolumn{2}{c}{environment}\\\\\\cline{2-4}\\cline{6-8}\\cline{10-11}'+'\\n')\n",
    "file.write(r'& disc & bulge & irrgular & & bared & unbared & unclear & & interacting & isolated\\\\\\hline'+'\\n')\n",
    "\n",
    "for i in range(len(obj)):\n",
    "    name = obj[i]\n",
    "    file.write(r'%s & %s & %s & %s & & %s & %s & %s & & %s & %s \\\\'%(name,string(frac_disc[i]),string(frac_bulge[i]),string(frac_irregular[i]),string(frac_bared[i]),string(frac_unbared[i]),string(frac_uncertain[i]),string(frac_interact[i]),string(frac_isolated[i]))+'\\n')\n",
    "file.write(r'\\noalign{\\smallskip}\\hline'+'\\n')\n",
    "file.write(r'\\end{tabular}'+'\\n')\n",
    "file.write(r'\\tablefoot{'+'\\n')\n",
    "file.write(r'}'+'\\n')\n",
    "file.close()\n",
    "\n"
   ]
  }
 ],
 "metadata": {
  "kernelspec": {
   "display_name": "Python 3",
   "language": "python",
   "name": "python3"
  },
  "language_info": {
   "codemirror_mode": {
    "name": "ipython",
    "version": 3
   },
   "file_extension": ".py",
   "mimetype": "text/x-python",
   "name": "python",
   "nbconvert_exporter": "python",
   "pygments_lexer": "ipython3",
   "version": "3.7.3"
  }
 },
 "nbformat": 4,
 "nbformat_minor": 2
}
